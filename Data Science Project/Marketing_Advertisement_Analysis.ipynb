{
 "cells": [
  {
   "cell_type": "markdown",
   "metadata": {
    "id": "mM7KaMsIyx5q"
   },
   "source": [
    "# Data Science Project - Marketing Advertisement Analysis\n",
    "\n",
    "## Supervised Learning: Regression and Prediction\n",
    "\n",
    "### By Ping.T\n",
    "\n",
    "\n",
    "### Context\n",
    "\n",
    "The purpose of this data science project is to analyze the relationship between marketing advertisement budgets and sales using linear regression models. The dataset includes three independent variables: Social_Media, Press_Media, and Broadcast_Media, which quantify the budgets allocated to different advertising channels. The dependent variable, Sales, represents the sales figures. By applying linear regression, we aim to understand how changes in the budgets for social media, press media, and broadcast media impact sales. This analysis will provide insights into the effectiveness of various advertising channels. \n",
    "\n",
    "### Objective\n",
    "By understanding the relationship between budgets allocated to various advertising channels, we can make data-driven decisions to optimize resource allocation and increase the effectiveness of advertising campaigns, optimize marketing strategies, ultimately driving higher sales and improving marketing ROI. In this case study, data modeling, performance evaluation, and prediction of sales are given by different parameters of advertising channels. The trained data modeling would be used for future datasets for planning marketing activities. \n",
    "\n",
    "\n",
    "### Data Description\n",
    "\n",
    "The data at hand has three features about the spending on advertising and the target variable is the net sales. Attributes are:\n",
    "\n",
    "- Social    - Independent variable quantifying budget for Social Media ads, Twitter, Facebook, Instagram\n",
    "- Press     - Independent variable quantifying budget for Press Media ads, Digital Publications, Journals, Blogs\n",
    "- Broadcast - Independent variable quantifying budget for Broadcast Media ads, Television, Radio\n",
    "- Sales     - Dependent variable\n",
    "\n",
    "### Libraries Used\n",
    "\n",
    "**Pandas:**\n",
    "\n",
    "Pandas is a powerful data manipulation and analysis library. It provides data structures and functions to efficiently handle structured data. In the script, it is used to work with data in the form of DataFrames.\n",
    "\n",
    "**Numpy:**\n",
    "\n",
    "Numpy is a fundamental package for scientific computing in Python. It provides support for large, multi-dimensional arrays and a wide range of mathematical functions. In the script, it is used for reshaping data arrays and performing mathematical operations.\n",
    "\n",
    "**Sklearn:**\n",
    "\n",
    "Sklearn, or scikit-learn, is a popular machine learning library that provides various tools and algorithms for tasks such as regression, classification, clustering, and model evaluation. In the script, it is used for fitting linear regression models.\n",
    "\n",
    "**Matplotlib:**\n",
    "\n",
    "Matplotlib is a plotting library that allows you to create a wide variety of visualizations in Python. pyplot is a module within matplotlib that provides a MATLAB-like interface for creating plots and charts. In the project, it is used to visualize the scatter plots and regression lines.\n",
    "\n",
    "**Statsmodels:**\n",
    "\n",
    "Statsmodels is a library that provides classes and functions for statistical modeling and analysis. In the project, it is used to fit linear regression models and obtain detailed model statistics.\n",
    "\n",
    "These libraries are commonly used in marketing analytics and data analysis tasks to perform regression analysis, visualize data, and obtain statistical insights.\n"
   ]
  },
  {
   "cell_type": "markdown",
   "metadata": {
    "id": "rzjQEUms29nL"
   },
   "source": [
    "## Importing Necessary Packages"
   ]
  },
  {
   "cell_type": "code",
   "execution_count": 238,
   "metadata": {
    "id": "Mbek6djw26sQ"
   },
   "outputs": [],
   "source": [
    "import pandas as pd\n",
    "import numpy as np\n",
    "import numpy as np\n",
    "from sklearn import linear_model\n",
    "import matplotlib.pyplot as plt"
   ]
  },
  {
   "cell_type": "code",
   "execution_count": 239,
   "metadata": {
    "colab": {
     "base_uri": "https://localhost:8080/",
     "height": 202
    },
    "id": "qIbGMZS36De1",
    "outputId": "403b1426-9d51-481c-c1ab-e5c93eb1fa4a"
   },
   "outputs": [
    {
     "data": {
      "text/html": [
       "<div>\n",
       "<style scoped>\n",
       "    .dataframe tbody tr th:only-of-type {\n",
       "        vertical-align: middle;\n",
       "    }\n",
       "\n",
       "    .dataframe tbody tr th {\n",
       "        vertical-align: top;\n",
       "    }\n",
       "\n",
       "    .dataframe thead th {\n",
       "        text-align: right;\n",
       "    }\n",
       "</style>\n",
       "<table border=\"1\" class=\"dataframe\">\n",
       "  <thead>\n",
       "    <tr style=\"text-align: right;\">\n",
       "      <th></th>\n",
       "      <th>Unnamed: 0</th>\n",
       "      <th>Social</th>\n",
       "      <th>Press</th>\n",
       "      <th>Broadcast</th>\n",
       "      <th>Sales</th>\n",
       "    </tr>\n",
       "  </thead>\n",
       "  <tbody>\n",
       "    <tr>\n",
       "      <th>0</th>\n",
       "      <td>1</td>\n",
       "      <td>230.1</td>\n",
       "      <td>37.8</td>\n",
       "      <td>69.2</td>\n",
       "      <td>22.1</td>\n",
       "    </tr>\n",
       "    <tr>\n",
       "      <th>1</th>\n",
       "      <td>2</td>\n",
       "      <td>44.5</td>\n",
       "      <td>39.3</td>\n",
       "      <td>45.1</td>\n",
       "      <td>10.4</td>\n",
       "    </tr>\n",
       "    <tr>\n",
       "      <th>2</th>\n",
       "      <td>3</td>\n",
       "      <td>17.2</td>\n",
       "      <td>45.9</td>\n",
       "      <td>69.3</td>\n",
       "      <td>9.3</td>\n",
       "    </tr>\n",
       "    <tr>\n",
       "      <th>3</th>\n",
       "      <td>4</td>\n",
       "      <td>151.5</td>\n",
       "      <td>41.3</td>\n",
       "      <td>58.5</td>\n",
       "      <td>18.5</td>\n",
       "    </tr>\n",
       "    <tr>\n",
       "      <th>4</th>\n",
       "      <td>5</td>\n",
       "      <td>180.8</td>\n",
       "      <td>10.8</td>\n",
       "      <td>58.4</td>\n",
       "      <td>12.9</td>\n",
       "    </tr>\n",
       "  </tbody>\n",
       "</table>\n",
       "</div>"
      ],
      "text/plain": [
       "   Unnamed: 0  Social  Press  Broadcast  Sales\n",
       "0           1   230.1   37.8       69.2   22.1\n",
       "1           2    44.5   39.3       45.1   10.4\n",
       "2           3    17.2   45.9       69.3    9.3\n",
       "3           4   151.5   41.3       58.5   18.5\n",
       "4           5   180.8   10.8       58.4   12.9"
      ]
     },
     "execution_count": 239,
     "metadata": {},
     "output_type": "execute_result"
    }
   ],
   "source": [
    "Ad_df = pd.read_csv('Marketing_Ad.csv')\n",
    "\n",
    "# load the data into the Ad_df data frame.\n",
    "Ad_df.head()"
   ]
  },
  {
   "cell_type": "code",
   "execution_count": 240,
   "metadata": {
    "id": "dQD08slX6tVt"
   },
   "outputs": [],
   "source": [
    "# Drop the first column as it is just the index\n",
    "Ad_df.drop(columns = 'Unnamed: 0', inplace=True)"
   ]
  },
  {
   "cell_type": "code",
   "execution_count": 241,
   "metadata": {
    "colab": {
     "base_uri": "https://localhost:8080/",
     "height": 416
    },
    "id": "PHN8-pYv7IAP",
    "outputId": "19cfac7e-d7c5-45da-b20f-4fb03cc6ca6f"
   },
   "outputs": [
    {
     "data": {
      "text/html": [
       "<div>\n",
       "<style scoped>\n",
       "    .dataframe tbody tr th:only-of-type {\n",
       "        vertical-align: middle;\n",
       "    }\n",
       "\n",
       "    .dataframe tbody tr th {\n",
       "        vertical-align: top;\n",
       "    }\n",
       "\n",
       "    .dataframe thead th {\n",
       "        text-align: right;\n",
       "    }\n",
       "</style>\n",
       "<table border=\"1\" class=\"dataframe\">\n",
       "  <thead>\n",
       "    <tr style=\"text-align: right;\">\n",
       "      <th></th>\n",
       "      <th>Social</th>\n",
       "      <th>Press</th>\n",
       "      <th>Broadcast</th>\n",
       "      <th>Sales</th>\n",
       "    </tr>\n",
       "  </thead>\n",
       "  <tbody>\n",
       "    <tr>\n",
       "      <th>0</th>\n",
       "      <td>230.1</td>\n",
       "      <td>37.8</td>\n",
       "      <td>69.2</td>\n",
       "      <td>22.1</td>\n",
       "    </tr>\n",
       "    <tr>\n",
       "      <th>1</th>\n",
       "      <td>44.5</td>\n",
       "      <td>39.3</td>\n",
       "      <td>45.1</td>\n",
       "      <td>10.4</td>\n",
       "    </tr>\n",
       "    <tr>\n",
       "      <th>2</th>\n",
       "      <td>17.2</td>\n",
       "      <td>45.9</td>\n",
       "      <td>69.3</td>\n",
       "      <td>9.3</td>\n",
       "    </tr>\n",
       "    <tr>\n",
       "      <th>3</th>\n",
       "      <td>151.5</td>\n",
       "      <td>41.3</td>\n",
       "      <td>58.5</td>\n",
       "      <td>18.5</td>\n",
       "    </tr>\n",
       "    <tr>\n",
       "      <th>4</th>\n",
       "      <td>180.8</td>\n",
       "      <td>10.8</td>\n",
       "      <td>58.4</td>\n",
       "      <td>12.9</td>\n",
       "    </tr>\n",
       "    <tr>\n",
       "      <th>...</th>\n",
       "      <td>...</td>\n",
       "      <td>...</td>\n",
       "      <td>...</td>\n",
       "      <td>...</td>\n",
       "    </tr>\n",
       "    <tr>\n",
       "      <th>195</th>\n",
       "      <td>38.2</td>\n",
       "      <td>3.7</td>\n",
       "      <td>13.8</td>\n",
       "      <td>7.6</td>\n",
       "    </tr>\n",
       "    <tr>\n",
       "      <th>196</th>\n",
       "      <td>94.2</td>\n",
       "      <td>4.9</td>\n",
       "      <td>8.1</td>\n",
       "      <td>9.7</td>\n",
       "    </tr>\n",
       "    <tr>\n",
       "      <th>197</th>\n",
       "      <td>177.0</td>\n",
       "      <td>9.3</td>\n",
       "      <td>6.4</td>\n",
       "      <td>12.8</td>\n",
       "    </tr>\n",
       "    <tr>\n",
       "      <th>198</th>\n",
       "      <td>283.6</td>\n",
       "      <td>42.0</td>\n",
       "      <td>66.2</td>\n",
       "      <td>25.5</td>\n",
       "    </tr>\n",
       "    <tr>\n",
       "      <th>199</th>\n",
       "      <td>232.1</td>\n",
       "      <td>8.6</td>\n",
       "      <td>8.7</td>\n",
       "      <td>13.4</td>\n",
       "    </tr>\n",
       "  </tbody>\n",
       "</table>\n",
       "<p>200 rows × 4 columns</p>\n",
       "</div>"
      ],
      "text/plain": [
       "     Social  Press  Broadcast  Sales\n",
       "0     230.1   37.8       69.2   22.1\n",
       "1      44.5   39.3       45.1   10.4\n",
       "2      17.2   45.9       69.3    9.3\n",
       "3     151.5   41.3       58.5   18.5\n",
       "4     180.8   10.8       58.4   12.9\n",
       "..      ...    ...        ...    ...\n",
       "195    38.2    3.7       13.8    7.6\n",
       "196    94.2    4.9        8.1    9.7\n",
       "197   177.0    9.3        6.4   12.8\n",
       "198   283.6   42.0       66.2   25.5\n",
       "199   232.1    8.6        8.7   13.4\n",
       "\n",
       "[200 rows x 4 columns]"
      ]
     },
     "execution_count": 241,
     "metadata": {},
     "output_type": "execute_result"
    }
   ],
   "source": [
    "Ad_df"
   ]
  },
  {
   "cell_type": "code",
   "execution_count": 242,
   "metadata": {
    "colab": {
     "base_uri": "https://localhost:8080/"
    },
    "id": "lPtSvD8T-ALA",
    "outputId": "a18e28e4-458e-4708-941d-9eb423fd6653"
   },
   "outputs": [
    {
     "name": "stdout",
     "output_type": "stream",
     "text": [
      "<class 'pandas.core.frame.DataFrame'>\n",
      "RangeIndex: 200 entries, 0 to 199\n",
      "Data columns (total 4 columns):\n",
      " #   Column     Non-Null Count  Dtype  \n",
      "---  ------     --------------  -----  \n",
      " 0   Social     200 non-null    float64\n",
      " 1   Press      200 non-null    float64\n",
      " 2   Broadcast  200 non-null    float64\n",
      " 3   Sales      200 non-null    float64\n",
      "dtypes: float64(4)\n",
      "memory usage: 6.4 KB\n"
     ]
    }
   ],
   "source": [
    "Ad_df.info()"
   ]
  },
  {
   "cell_type": "markdown",
   "metadata": {
    "id": "TtclE25ghs4f"
   },
   "source": [
    "**Observations:** All the variables are of float data type."
   ]
  },
  {
   "cell_type": "markdown",
   "metadata": {
    "id": "vdPHnnpw_9oV"
   },
   "source": [
    "## Simple Linear Regression"
   ]
  },
  {
   "cell_type": "code",
   "execution_count": 243,
   "metadata": {
    "id": "q4UTFBGd9_Dr"
   },
   "outputs": [],
   "source": [
    "# Dataset is stored in a Pandas Dataframe. Take out all the variables in a numpy array.\n",
    "Sales = Ad_df.Sales.values.reshape(len(Ad_df['Sales']), 1)\n",
    "Social = Ad_df.Social.values.reshape(len(Ad_df['Sales']), 1)\n",
    "Press = Ad_df.Press.values.reshape(len(Ad_df['Sales']), 1)\n",
    "Broadcast = Ad_df.Broadcast.values.reshape(len(Ad_df['Sales']), 1)"
   ]
  },
  {
   "cell_type": "code",
   "execution_count": 244,
   "metadata": {
    "colab": {
     "base_uri": "https://localhost:8080/",
     "height": 107
    },
    "id": "Q4CKboT-CBgP",
    "outputId": "f8a42090-b219-41dd-db44-d5d42077480d"
   },
   "outputs": [
    {
     "data": {
      "text/html": [
       "<div>\n",
       "<style scoped>\n",
       "    .dataframe tbody tr th:only-of-type {\n",
       "        vertical-align: middle;\n",
       "    }\n",
       "\n",
       "    .dataframe tbody tr th {\n",
       "        vertical-align: top;\n",
       "    }\n",
       "\n",
       "    .dataframe thead th {\n",
       "        text-align: right;\n",
       "    }\n",
       "</style>\n",
       "<table border=\"1\" class=\"dataframe\">\n",
       "  <thead>\n",
       "    <tr style=\"text-align: right;\">\n",
       "      <th></th>\n",
       "      <th>Social</th>\n",
       "      <th>Press</th>\n",
       "      <th>Broadcast</th>\n",
       "    </tr>\n",
       "  </thead>\n",
       "  <tbody>\n",
       "    <tr>\n",
       "      <th>Intercept</th>\n",
       "      <td>7.032594</td>\n",
       "      <td>9.311638</td>\n",
       "      <td>12.351407</td>\n",
       "    </tr>\n",
       "    <tr>\n",
       "      <th>Coefficient</th>\n",
       "      <td>0.047537</td>\n",
       "      <td>0.202496</td>\n",
       "      <td>0.054693</td>\n",
       "    </tr>\n",
       "  </tbody>\n",
       "</table>\n",
       "</div>"
      ],
      "text/plain": [
       "               Social     Press  Broadcast\n",
       "Intercept    7.032594  9.311638  12.351407\n",
       "Coefficient  0.047537  0.202496   0.054693"
      ]
     },
     "execution_count": 244,
     "metadata": {},
     "output_type": "execute_result"
    }
   ],
   "source": [
    "# Use one feature at a time and have a look at the target variable\n",
    "\n",
    "# let us fit the simple linear regression model with the TV feature\n",
    "social_model = linear_model.LinearRegression()\n",
    "social_model.fit(Social, Sales)\n",
    "coeffs_social = np.array(list(social_model.intercept_.flatten()) + list(social_model.coef_.flatten()))\n",
    "coeffs_social = list(coeffs_social)\n",
    "\n",
    "# let us fit the simple linear regression model with the Radio feature\n",
    "press_model = linear_model.LinearRegression()\n",
    "press_model.fit(Press, Sales)\n",
    "coeffs_press = np.array(list(press_model.intercept_.flatten()) + list(press_model.coef_.flatten()))\n",
    "coeffs_press = list(coeffs_press)\n",
    "\n",
    "# let us fit the simple linear regression model with the Newspaper feature\n",
    "broadcast_model = linear_model.LinearRegression()\n",
    "broadcast_model.fit(Broadcast, Sales)\n",
    "coeffs_broadcast = np.array(list(broadcast_model.intercept_.flatten()) + list(broadcast_model.coef_.flatten()))\n",
    "coeffs_broadcast = list(coeffs_broadcast)\n",
    "\n",
    "# let us store the above results in a dictionary and then display using a dataframe\n",
    "dict_Sales = {}\n",
    "dict_Sales[\"Social\"] = coeffs_social\n",
    "dict_Sales[\"Press\"] = coeffs_press\n",
    "dict_Sales[\"Broadcast\"] = coeffs_broadcast\n",
    "\n",
    "metric_Df_SLR =  pd.DataFrame(dict_Sales)\n",
    "metric_Df_SLR.index = ['Intercept', 'Coefficient']\n",
    "metric_Df_SLR"
   ]
  },
  {
   "cell_type": "code",
   "execution_count": 245,
   "metadata": {
    "colab": {
     "base_uri": "https://localhost:8080/"
    },
    "id": "IFjl_ZoW_njD",
    "outputId": "565cbed8-9980-4342-e3ae-a71f12a60f06"
   },
   "outputs": [
    {
     "name": "stdout",
     "output_type": "stream",
     "text": [
      "Social simple linear regression R-Square : 0.611875050850071\n",
      "Press simple linear regression R-Square : 0.33203245544529525\n",
      "Broadcast simple linear regression R-Square : 0.05212044544430516\n"
     ]
    },
    {
     "data": {
      "text/plain": [
       "[0.611875050850071, 0.33203245544529525, 0.05212044544430516]"
      ]
     },
     "execution_count": 245,
     "metadata": {},
     "output_type": "execute_result"
    }
   ],
   "source": [
    "# Calculate R^2\n",
    "social_rsq = social_model.score(Social, Sales)\n",
    "press_rsq = press_model.score(Press, Sales)\n",
    "broadcast_rsq = broadcast_model.score(Broadcast, Sales)\n",
    "\n",
    "print(\"Social simple linear regression R-Square :\", social_rsq)\n",
    "print(\"Press simple linear regression R-Square :\", press_rsq)\n",
    "print(\"Broadcast simple linear regression R-Square :\", broadcast_rsq)\n",
    "list_rsq = [social_rsq, press_rsq, broadcast_rsq]\n",
    "list_rsq"
   ]
  },
  {
   "cell_type": "code",
   "execution_count": 246,
   "metadata": {
    "colab": {
     "base_uri": "https://localhost:8080/",
     "height": 137
    },
    "id": "jMAZXp21AGsB",
    "outputId": "ed6b95e1-2bf4-4393-8fc6-4b6fb4f3e701"
   },
   "outputs": [
    {
     "data": {
      "text/html": [
       "<div>\n",
       "<style scoped>\n",
       "    .dataframe tbody tr th:only-of-type {\n",
       "        vertical-align: middle;\n",
       "    }\n",
       "\n",
       "    .dataframe tbody tr th {\n",
       "        vertical-align: top;\n",
       "    }\n",
       "\n",
       "    .dataframe thead th {\n",
       "        text-align: right;\n",
       "    }\n",
       "</style>\n",
       "<table border=\"1\" class=\"dataframe\">\n",
       "  <thead>\n",
       "    <tr style=\"text-align: right;\">\n",
       "      <th></th>\n",
       "      <th>Social</th>\n",
       "      <th>Press</th>\n",
       "      <th>Broadcast</th>\n",
       "    </tr>\n",
       "  </thead>\n",
       "  <tbody>\n",
       "    <tr>\n",
       "      <th>Intercept</th>\n",
       "      <td>7.032594</td>\n",
       "      <td>9.311638</td>\n",
       "      <td>12.351407</td>\n",
       "    </tr>\n",
       "    <tr>\n",
       "      <th>Coefficient</th>\n",
       "      <td>0.047537</td>\n",
       "      <td>0.202496</td>\n",
       "      <td>0.054693</td>\n",
       "    </tr>\n",
       "    <tr>\n",
       "      <th>R-Squared</th>\n",
       "      <td>0.611875</td>\n",
       "      <td>0.332032</td>\n",
       "      <td>0.052120</td>\n",
       "    </tr>\n",
       "  </tbody>\n",
       "</table>\n",
       "</div>"
      ],
      "text/plain": [
       "               Social     Press  Broadcast\n",
       "Intercept    7.032594  9.311638  12.351407\n",
       "Coefficient  0.047537  0.202496   0.054693\n",
       "R-Squared    0.611875  0.332032   0.052120"
      ]
     },
     "execution_count": 246,
     "metadata": {},
     "output_type": "execute_result"
    }
   ],
   "source": [
    "metric_Df_SLR.loc['R-Squared'] = list_rsq\n",
    "metric_Df_SLR"
   ]
  },
  {
   "cell_type": "markdown",
   "metadata": {
    "id": "Es84uRdJhs4i"
   },
   "source": [
    "**Observations:** \n",
    "\n",
    "- Social Media has the highest R-squared value of 0.612, indicating that approximately 61% of the variance in sales can be explained by the Social Media variable alone.\n",
    "- Press Media has an R-squared value of 0.332, suggesting that around 33% of the variance in sales can be explained by the Press Media variable.\n",
    "- Broadcast Media has the lowest R-squared value of 0.052, implying that only about 5% of the variance in sales can be explained by the Broadcast Media variable.\n",
    "- Social Media has the highest impact on sales among the three variables. It appears to be the most influential factor in driving sales, followed by Press Media and then Broadcast Media."
   ]
  },
  {
   "cell_type": "code",
   "execution_count": 247,
   "metadata": {
    "colab": {
     "base_uri": "https://localhost:8080/",
     "height": 803
    },
    "id": "_R45kkSNQxPx",
    "outputId": "a051ffa7-cf28-41ae-8fcd-32d0ee2ad30a"
   },
   "outputs": [
    {
     "data": {
      "image/png": "[encoded data removed]",
      "text/plain": [
       "<Figure size 432x288 with 1 Axes>"
      ]
     },
     "metadata": {
      "needs_background": "light"
     },
     "output_type": "display_data"
    },
    {
     "data": {
      "image/png": "[encoded data removed]",
      "text/plain": [
       "<Figure size 432x288 with 1 Axes>"
      ]
     },
     "metadata": {
      "needs_background": "light"
     },
     "output_type": "display_data"
    },
    {
     "data": {
      "image/png": "[encoded data removed]",
      "text/plain": [
       "<Figure size 432x288 with 1 Axes>"
      ]
     },
     "metadata": {
      "needs_background": "light"
     },
     "output_type": "display_data"
    }
   ],
   "source": [
    "#Visualize the best fit line using the regression plot\n",
    "\n",
    "plt.scatter(Social, Sales,  color='salmon')\n",
    "plt.xlabel('Social Media Ads')\n",
    "plt.ylabel('Sales')\n",
    "plt.plot(Social, social_model.predict(Social), color='blue', linewidth=3)\n",
    "plt.show()\n",
    "\n",
    "plt.scatter(Press, Sales,  color='goldenrod')\n",
    "plt.xlabel('Press Media Ads')\n",
    "plt.ylabel('Sales')\n",
    "plt.plot(Press, press_model.predict(Press), color='blue', linewidth=3)\n",
    "plt.show()\n",
    "\n",
    "plt.scatter(Broadcast, Sales,  color='turquoise')\n",
    "plt.xlabel('Broadcast Media Ads')\n",
    "plt.ylabel('Sales')\n",
    "plt.plot(Broadcast, broadcast_model.predict(Broadcast), color='blue', linewidth=3)\n",
    "plt.show()\n"
   ]
  },
  {
   "cell_type": "markdown",
   "metadata": {
    "id": "QxiuPBWPQnKm"
   },
   "source": [
    "## Multiple Linear Regression"
   ]
  },
  {
   "cell_type": "code",
   "execution_count": 248,
   "metadata": {
    "colab": {
     "base_uri": "https://localhost:8080/"
    },
    "id": "p0XdOsasQ_uq",
    "outputId": "1e84b03f-b378-45d7-9dc5-eaf412a0d233"
   },
   "outputs": [
    {
     "data": {
      "text/plain": [
       "LinearRegression()"
      ]
     },
     "execution_count": 248,
     "metadata": {},
     "output_type": "execute_result"
    }
   ],
   "source": [
    "mlr_model = linear_model.LinearRegression()\n",
    "mlr_model.fit(Ad_df[['Social', 'Press', 'Broadcast']], Ad_df['Sales'])"
   ]
  },
  {
   "cell_type": "code",
   "execution_count": 249,
   "metadata": {
    "id": "f45Fynt_WSIr"
   },
   "outputs": [],
   "source": [
    "Ad_df['Sales_Predicted']  = mlr_model.predict(Ad_df[['Social', 'Press', 'Broadcast']]) \n",
    "Ad_df['Error'] = (Ad_df['Sales_Predicted'] - Ad_df['Sales'])**2\n",
    "MSE_MLR = Ad_df['Error'].mean()"
   ]
  },
  {
   "cell_type": "code",
   "execution_count": 250,
   "metadata": {
    "colab": {
     "base_uri": "https://localhost:8080/"
    },
    "id": "2IR7lKmrYCpl",
    "outputId": "6396556a-5894-4906-8813-df3812f74706"
   },
   "outputs": [
    {
     "data": {
      "text/plain": [
       "2.784126314510936"
      ]
     },
     "execution_count": 250,
     "metadata": {},
     "output_type": "execute_result"
    }
   ],
   "source": [
    "MSE_MLR"
   ]
  },
  {
   "cell_type": "code",
   "execution_count": 251,
   "metadata": {
    "colab": {
     "base_uri": "https://localhost:8080/"
    },
    "id": "yXJ6F7b5OqPI",
    "outputId": "86c85dea-76e6-4860-e13f-f315c9407c2d"
   },
   "outputs": [
    {
     "data": {
      "text/plain": [
       "0.8972106381789522"
      ]
     },
     "execution_count": 251,
     "metadata": {},
     "output_type": "execute_result"
    }
   ],
   "source": [
    "mlr_model.score(Ad_df[['Social', 'Press', 'Broadcast']], Ad_df['Sales'])"
   ]
  },
  {
   "cell_type": "markdown",
   "metadata": {
    "id": "qsZJ-jimhs4k"
   },
   "source": [
    "**Observations:** \n",
    "\n",
    "- In the case of multiple linear regression, the model considers all three variables (Social, Press, and Broadcast) simultaneously to predict the Sales.\n",
    "- The multiple linear regression model has an R-squared value of 0.897, indicating that approximately 89.7% of the variance in sales can be explained by the combination of Social, Press, and Broadcast variables together.\n",
    "- The Mean Squared Error (MSE) for the multiple linear regression model is 2.784. MSE measures the average squared difference between the predicted and actual values, and a lower value indicates a better fit of the model to the data.\n",
    "- Therefore, the multiple linear regression model performs significantly better than the simple linear regression models. It suggests that when considering all three variables together, Social, Press, and Broadcast have a strong impact on sales, and their combined effect provides a more accurate prediction of sales compared to using individual variables separately."
   ]
  },
  {
   "cell_type": "code",
   "execution_count": 281,
   "metadata": {
    "colab": {
     "base_uri": "https://localhost:8080/"
    },
    "id": "qjFCh7tkWf0M",
    "outputId": "5dbf05c8-631e-4d00-9b19-743ba7e18954"
   },
   "outputs": [
    {
     "name": "stdout",
     "output_type": "stream",
     "text": [
      "                            OLS Regression Results                            \n",
      "==============================================================================\n",
      "Dep. Variable:                  Sales   R-squared:                       0.897\n",
      "Model:                            OLS   Adj. R-squared:                  0.896\n",
      "Method:                 Least Squares   F-statistic:                     570.3\n",
      "Date:                Sun, 25 Jun 2023   Prob (F-statistic):           1.58e-96\n",
      "Time:                        15:10:46   Log-Likelihood:                -386.18\n",
      "No. Observations:                 200   AIC:                             780.4\n",
      "Df Residuals:                     196   BIC:                             793.6\n",
      "Df Model:                           3                                         \n",
      "Covariance Type:            nonrobust                                         \n",
      "==============================================================================\n",
      "                 coef    std err          t      P>|t|      [0.025      0.975]\n",
      "------------------------------------------------------------------------------\n",
      "Intercept      2.9389      0.312      9.422      0.000       2.324       3.554\n",
      "Social         0.0458      0.001     32.809      0.000       0.043       0.049\n",
      "Press          0.1885      0.009     21.893      0.000       0.172       0.206\n",
      "Broadcast     -0.0010      0.006     -0.177      0.860      -0.013       0.011\n",
      "==============================================================================\n",
      "Omnibus:                       60.414   Durbin-Watson:                   2.084\n",
      "Prob(Omnibus):                  0.000   Jarque-Bera (JB):              151.241\n",
      "Skew:                          -1.327   Prob(JB):                     1.44e-33\n",
      "Kurtosis:                       6.332   Cond. No.                         454.\n",
      "==============================================================================\n",
      "\n",
      "Notes:\n",
      "[1] Standard Errors assume that the covariance matrix of the errors is correctly specified.\n"
     ]
    }
   ],
   "source": [
    "# Get a more detailed model through statsmodel.\n",
    "import statsmodels.formula.api as smf\n",
    "lm1 = smf.ols(formula= 'Sales ~ Social+Press+Broadcast', data = Ad_df).fit()\n",
    "lm1.params\n",
    "print(lm1.summary())  #Inferential statistics"
   ]
  },
  {
   "cell_type": "markdown",
   "metadata": {},
   "source": [
    "**Observations:** \n",
    "\n",
    "- The coefficients for the predictors are Social: 0.0458, Press: 0.1885, Broadcast: -0.0010. The coefficient of Broadcast suggests a very small effect on sales.\n",
    "- The p-values associated with the coefficients indicate that Social and Press have a significant impact on sales (p < 0.001), whereas the coefficient for Broadcast is not statistically significant (p = 0.860). \n",
    "- The intercept is 2.9389, which represents the expected sales when all predictor variables (Social, Press, and Broadcast) are zero.\n",
    "- The F-statistic is 570.3, with a corresponding p-value of 1.58e-96, indicating that the overall model is statistically significant.\n",
    "- The Omnibus test and Jarque-Bera test suggest that the residuals of the model are not normally distributed, as indicated by significant p-values (p < 0.001)."
   ]
  },
  {
   "cell_type": "code",
   "execution_count": 253,
   "metadata": {
    "colab": {
     "base_uri": "https://localhost:8080/"
    },
    "id": "w2aGVrtKnY7G",
    "outputId": "52b420f6-4dd9-427d-d7f6-b3768e289483"
   },
   "outputs": [
    {
     "name": "stdout",
     "output_type": "stream",
     "text": [
      "*************Parameters**************\n",
      "Intercept    2.938889\n",
      "Social       0.045765\n",
      "Press        0.188530\n",
      "Broadcast   -0.001037\n",
      "dtype: float64\n",
      "*************P-Values**************\n",
      "Intercept    1.267295e-17\n",
      "Social       1.509960e-81\n",
      "Press        1.505339e-54\n",
      "Broadcast    8.599151e-01\n",
      "dtype: float64\n",
      "************Standard Errors***************\n",
      "Intercept    0.311908\n",
      "Social       0.001395\n",
      "Press        0.008611\n",
      "Broadcast    0.005871\n",
      "dtype: float64\n",
      "*************Confidence Interval**************\n",
      "                  0         1\n",
      "Intercept  2.323762  3.554016\n",
      "Social     0.043014  0.048516\n",
      "Press      0.171547  0.205513\n",
      "Broadcast -0.012616  0.010541\n",
      "*************Error Covariance Matrix**************\n",
      "           Intercept        Social         Press     Broadcast\n",
      "Intercept   0.097287 -2.657273e-04 -1.115489e-03 -5.910212e-04\n",
      "Social     -0.000266  1.945737e-06 -4.470395e-07 -3.265950e-07\n",
      "Press      -0.001115 -4.470395e-07  7.415335e-05 -1.780062e-05\n",
      "Broadcast  -0.000591 -3.265950e-07 -1.780062e-05  3.446875e-05\n"
     ]
    }
   ],
   "source": [
    "print(\"*************Parameters**************\")\n",
    "print(lm1.params)\n",
    "print(\"*************P-Values**************\")\n",
    "print(lm1.pvalues)\n",
    "print(\"************Standard Errors***************\")\n",
    "print(lm1.bse) \n",
    "print(\"*************Confidence Interval**************\")\n",
    "print(lm1.conf_int())\n",
    "print(\"*************Error Covariance Matrix**************\")\n",
    "print(lm1.cov_params())\n"
   ]
  },
  {
   "cell_type": "markdown",
   "metadata": {},
   "source": [
    "**Observations:** \n",
    "\n",
    "- **Parameters:** The parameters represent the estimated coefficients of the independent variables in the multiple linear regression model. They indicate the expected change in the dependent variable (Sales) for a unit change in each independent variable, holding other variables constant.\n",
    "\n",
    "- **P-values:** The p-values associated with each coefficient indicate the statistical significance of the corresponding independent variable. It measures the probability of observing a coefficient as extreme as the estimated coefficient if the null hypothesis (no relationship between the independent variable and the dependent variable) is true.\n",
    "\n",
    "- **Standard Errors:** The standard errors provide an estimate of the variability or uncertainty associated with the estimated coefficients. They measure the average amount that the estimated coefficient deviates from the true coefficient.\n",
    "\n",
    "- **Confidence Intervals:** The confidence intervals provide a range of values within which the true population parameters are likely to fall with a certain level 95% of confidence. The confidence interval indicates the uncertainty associated with the estimated coefficients.\n",
    "\n",
    "Overall, the parameter estimates, p-values, standard errors, and confidence intervals provide insights into the relationships between the independent variables (Social, Press, Broadcast) and the dependent variable (Sales) in the multiple linear regression model."
   ]
  },
  {
   "cell_type": "markdown",
   "metadata": {
    "id": "drlo5QI2h2oY"
   },
   "source": [
    "### Confidence Bands in Simple linear regression"
   ]
  },
  {
   "cell_type": "code",
   "execution_count": 254,
   "metadata": {
    "colab": {
     "base_uri": "https://localhost:8080/",
     "height": 1000
    },
    "id": "daxXRhFiip3e",
    "outputId": "97113a83-dc13-4b6f-c95d-7158305f0016"
   },
   "outputs": [
    {
     "data": {
      "text/plain": [
       "<seaborn.axisgrid.FacetGrid at 0x240c2319220>"
      ]
     },
     "execution_count": 254,
     "metadata": {},
     "output_type": "execute_result"
    },
    {
     "data": {
      "image/png": "[encoded data removed]",
      "text/plain": [
       "<Figure size 360x360 with 1 Axes>"
      ]
     },
     "metadata": {
      "needs_background": "light"
     },
     "output_type": "display_data"
    },
    {
     "data": {
      "image/png": "[encoded data removed]",
      "text/plain": [
       "<Figure size 360x360 with 1 Axes>"
      ]
     },
     "metadata": {
      "needs_background": "light"
     },
     "output_type": "display_data"
    },
    {
     "data": {
      "image/png": "[encoded data removed]",
      "text/plain": [
       "<Figure size 360x360 with 1 Axes>"
      ]
     },
     "metadata": {
      "needs_background": "light"
     },
     "output_type": "display_data"
    }
   ],
   "source": [
    "import seaborn as sns\n",
    "sns.lmplot(x = 'Social', y = 'Sales', data = Ad_df)\n",
    "\n",
    "sns.lmplot(x = 'Press', y = 'Sales', data = Ad_df)\n",
    "\n",
    "sns.lmplot(x = 'Broadcast', y = 'Sales', data = Ad_df)"
   ]
  },
  {
   "cell_type": "markdown",
   "metadata": {},
   "source": [
    "**Observations:** \n",
    "\n",
    "- Three scatter plots with fitted linear regression lines. Each plot represents a simple linear regression analysis between an independent variable (Social, Press, or Broadcast) and the dependent variable (Sales). \n",
    "- The confidence bands represent the uncertainty around the estimated regression line. A narrower confidence band suggests that the estimated regression line is more precise and has less variability.\n",
    "- A narrower confidence band in the scatter plot suggests higher precision in the estimated regression line for the 'Social' variable, while it is important to evaluate the complete regression analysis, including the statistical measures and other diagnostic tests, to determine the best fit model."
   ]
  },
  {
   "cell_type": "markdown",
   "metadata": {
    "id": "GGCcusUsz_Az"
   },
   "source": [
    "## Cross Validation and Bootstrapping"
   ]
  },
  {
   "cell_type": "code",
   "execution_count": 255,
   "metadata": {
    "id": "zTSASn2az9-B"
   },
   "outputs": [],
   "source": [
    "# Realize that the broadcast can be omitted from the list of significant features owing to the p-value >0.05\n",
    "# Run the regression analysis adding a multiplicative feature of Social_Press as combining social and press for modeling\n",
    "\n",
    "Ad_df['Social_Press'] = Ad_df['Social']*Ad_df['Press']"
   ]
  },
  {
   "cell_type": "code",
   "execution_count": 256,
   "metadata": {
    "id": "h_EfN22CWf5W"
   },
   "outputs": [],
   "source": [
    "# Remove the sales_predicted and the error column generated earlier\n",
    "Ad_df.drop(columns = [\"Error\", \"Sales_Predicted\"], inplace = True)"
   ]
  },
  {
   "cell_type": "code",
   "execution_count": 257,
   "metadata": {
    "colab": {
     "base_uri": "https://localhost:8080/"
    },
    "id": "rz8DKNiF2QxK",
    "outputId": "03de5d64-01ed-4699-bb1f-8830b5247928"
   },
   "outputs": [
    {
     "name": "stdout",
     "output_type": "stream",
     "text": [
      "                            OLS Regression Results                            \n",
      "==============================================================================\n",
      "Dep. Variable:                  Sales   R-squared:                       0.968\n",
      "Model:                            OLS   Adj. R-squared:                  0.967\n",
      "Method:                 Least Squares   F-statistic:                     1466.\n",
      "Date:                Sun, 25 Jun 2023   Prob (F-statistic):          2.92e-144\n",
      "Time:                        13:44:55   Log-Likelihood:                -270.04\n",
      "No. Observations:                 200   AIC:                             550.1\n",
      "Df Residuals:                     195   BIC:                             566.6\n",
      "Df Model:                           4                                         \n",
      "Covariance Type:            nonrobust                                         \n",
      "================================================================================\n",
      "                   coef    std err          t      P>|t|      [0.025      0.975]\n",
      "--------------------------------------------------------------------------------\n",
      "Intercept        6.7284      0.253     26.561      0.000       6.229       7.228\n",
      "Social           0.0191      0.002     12.633      0.000       0.016       0.022\n",
      "Press            0.0280      0.009      3.062      0.003       0.010       0.046\n",
      "Broadcast        0.0014      0.003      0.438      0.662      -0.005       0.008\n",
      "Social_Press     0.0011   5.26e-05     20.686      0.000       0.001       0.001\n",
      "==============================================================================\n",
      "Omnibus:                      126.161   Durbin-Watson:                   2.216\n",
      "Prob(Omnibus):                  0.000   Jarque-Bera (JB):             1123.463\n",
      "Skew:                          -2.291   Prob(JB):                    1.10e-244\n",
      "Kurtosis:                      13.669   Cond. No.                     1.84e+04\n",
      "==============================================================================\n",
      "\n",
      "Notes:\n",
      "[1] Standard Errors assume that the covariance matrix of the errors is correctly specified.\n",
      "[2] The condition number is large, 1.84e+04. This might indicate that there are\n",
      "strong multicollinearity or other numerical problems.\n"
     ]
    }
   ],
   "source": [
    "# Modelling with the new feature Social_Press\n",
    "import statsmodels.formula.api as smf\n",
    "lm2 = smf.ols(formula= 'Sales ~ Social+Press+Broadcast+Social_Press', data = Ad_df).fit()\n",
    "lm2.params\n",
    "print(lm2.summary())  #Inferential statistics"
   ]
  },
  {
   "cell_type": "markdown",
   "metadata": {
    "id": "NslaNwMQFjL1"
   },
   "source": [
    "**Observations**\n",
    "\n",
    "- A new feature called \"Social_Press\" is created by multiplying the \"Social\" and \"Press\" variables.\n",
    "- The previous model is modified to include the new feature, and the regression analysis is performed using the \"statsmodels\" library.\n",
    "- The summary of the regression model is printed, showing the coefficients, p-values, R-squared, and other statistical metrics.\n",
    "- The R-squared value of the model is 0.968, indicating that around 96.8% of the variance in the dependent variable \"Sales\" is explained by the independent variables.\n",
    "- The model also provides coefficients and their corresponding p-values, which can be used to determine the significance of each variable.\n",
    "- Although an increase in the R-square 0.968 after adding a new feature. However, it is not enough to prove that this model is useful for prediction with unseen data. Further performance assessment is required."
   ]
  },
  {
   "cell_type": "markdown",
   "metadata": {
    "id": "d46mQv0BUKZ8"
   },
   "source": [
    "## Performance Assessment, Testing and Validation"
   ]
  },
  {
   "cell_type": "markdown",
   "metadata": {
    "id": "-EAcqssG3pr0"
   },
   "source": [
    "### Train, Test, and Validation set"
   ]
  },
  {
   "cell_type": "code",
   "execution_count": 258,
   "metadata": {
    "id": "uQTTvaQ_3C6D"
   },
   "outputs": [],
   "source": [
    "from sklearn.model_selection import train_test_split"
   ]
  },
  {
   "cell_type": "code",
   "execution_count": 259,
   "metadata": {
    "id": "RRerX1zyDUlM"
   },
   "outputs": [],
   "source": [
    "# Split data into three sets\n",
    "# One to train the model, one to validate the model performance (not seen during training) and make improvements\n",
    "# last one to test the model\n",
    "\n",
    "features_base = [i for i in Ad_df.columns if i not in (\"Sales\" , \"Social_Press\")]\n",
    "features_added = [i for i in Ad_df.columns if i not in \"Sales\"]\n",
    "target  = 'Sales'\n",
    "train, test = train_test_split(Ad_df, test_size = 0.10, train_size = 0.9)"
   ]
  },
  {
   "cell_type": "code",
   "execution_count": 260,
   "metadata": {
    "id": "ztuTrjlsDUq0"
   },
   "outputs": [],
   "source": [
    "train, validation = train_test_split(train, test_size = 0.2, train_size = 0.80)"
   ]
  },
  {
   "cell_type": "code",
   "execution_count": 261,
   "metadata": {
    "colab": {
     "base_uri": "https://localhost:8080/"
    },
    "id": "jgm44JjJDUtK",
    "outputId": "70e21eef-268e-4057-edaf-9ccad11bfb3c"
   },
   "outputs": [
    {
     "data": {
      "text/plain": [
       "((144, 5), (36, 5), (20, 5))"
      ]
     },
     "execution_count": 261,
     "metadata": {},
     "output_type": "execute_result"
    }
   ],
   "source": [
    "train.shape, validation.shape,test.shape"
   ]
  },
  {
   "cell_type": "code",
   "execution_count": 262,
   "metadata": {
    "colab": {
     "base_uri": "https://localhost:8080/"
    },
    "id": "BCsbEBPoDUwm",
    "outputId": "c0379528-f2c5-4266-d184-084272c7c1a2"
   },
   "outputs": [
    {
     "name": "stdout",
     "output_type": "stream",
     "text": [
      "*********Training set Metrics**************\n",
      "R-Squared: 0.900374433647009\n",
      "MSE:  2.7100674955356596\n",
      "********Validation set Metrics**************\n",
      "R-Squared: 0.9067391777653113\n",
      "MSE:  2.3066416484048715\n"
     ]
    }
   ],
   "source": [
    "# Modeling for performance assessment\n",
    "from sklearn.linear_model import LinearRegression\n",
    "\n",
    "mlr = LinearRegression()\n",
    "mlr.fit(train[features_base], train[target])\n",
    "print(\"*********Training set Metrics**************\")\n",
    "print(\"R-Squared:\", mlr.score(train[features_base], train[target]))\n",
    "se_train = (train[target] - mlr.predict(train[features_base]))**2\n",
    "mse_train = se_train.mean()\n",
    "print('MSE: ', mse_train)\n",
    "print(\"********Validation set Metrics**************\")\n",
    "print(\"R-Squared:\", mlr.score(validation[features_base], validation[target]))\n",
    "se_val = (validation[target] - mlr.predict(validation[features_base]))**2\n",
    "mse_val = se_val.mean()\n",
    "print('MSE: ', mse_val)"
   ]
  },
  {
   "cell_type": "markdown",
   "metadata": {},
   "source": [
    "**Observations**\n",
    "\n",
    "- The data is split into training, validation, and test sets using the train_test_split function from scikit-learn.\n",
    "- A simple linear regression model is trained using the training set, and its performance is evaluated on both the training and validation sets.\n",
    "- The R-squared and Mean Squared Error (MSE) metrics are calculated for both sets.\n",
    "- The R-squared values for the training and validation sets are 0.900 and 0.907, respectively, indicating a good fit of the model to the data.\n",
    "- The MSE values for the training and validation sets are 2.710 and 2.307, respectively, providing an estimate of the average squared error of the model's predictions.\n",
    "- The evaluation suggests that the model performs well on both the training and validation sets, indicating its potential for prediction."
   ]
  },
  {
   "cell_type": "code",
   "execution_count": 263,
   "metadata": {
    "colab": {
     "base_uri": "https://localhost:8080/"
    },
    "id": "BhMVT0OoI-ZR",
    "outputId": "04a4abfe-d2f9-46f0-87f7-721e493f15d1"
   },
   "outputs": [
    {
     "name": "stdout",
     "output_type": "stream",
     "text": [
      "*********Training set Metrics**************\n",
      "R-Squared: 0.9659213422397553\n",
      "MSE:  0.9270257230989416\n",
      "********Validation set Metrics**************\n",
      "R-Squared: 0.9720593653803481\n",
      "MSE:  0.691062226905609\n"
     ]
    }
   ],
   "source": [
    "# See if model performance really increases by adding the new feature \n",
    "# Although already found that in the analysis above, check the same for the validation dataset\n",
    "\n",
    "mlr_added_feature = LinearRegression()\n",
    "mlr_added_feature.fit(train[features_added], train[target])\n",
    "print(\"*********Training set Metrics**************\")\n",
    "print(\"R-Squared:\", mlr_added_feature.score(train[features_added], train[target]))\n",
    "se_train = (train[target] - mlr_added_feature.predict(train[features_added]))**2\n",
    "mse_train = se_train.mean()\n",
    "print('MSE: ', mse_train)\n",
    "print(\"********Validation set Metrics**************\")\n",
    "print(\"R-Squared:\", mlr_added_feature.score(validation[features_added], validation[target]))\n",
    "se_val = (validation[target] - mlr_added_feature.predict(validation[features_added]))**2\n",
    "mse_val = se_val.mean()\n",
    "print('MSE: ', mse_val)"
   ]
  },
  {
   "cell_type": "markdown",
   "metadata": {
    "id": "b6lpvtsONOad"
   },
   "source": [
    "**Observations**\n",
    "\n",
    "- Another linear regression model is trained using only the added feature variables (\"Social\", \"Press\", \"Broadcast\", and \"Social_Press\").\n",
    "- The performance of this model is evaluated on the training and validation sets, similar to the previous model.\n",
    "- The R-squared values for the training and validation sets are 0.966 and 0.972, respectively, indicating an improvement in performance compared to the previous model.\n",
    "- The MSE values for the training and validation sets are 0.927 and 0.691, respectively, suggesting a decrease in prediction errors.\n",
    "- Compare to the above two performance assessment, R-squared increased and error decreased after adding a feature."
   ]
  },
  {
   "cell_type": "markdown",
   "metadata": {},
   "source": [
    "### Regularization "
   ]
  },
  {
   "cell_type": "code",
   "execution_count": 264,
   "metadata": {
    "colab": {
     "base_uri": "https://localhost:8080/"
    },
    "id": "zvJSmJcAQ5-L",
    "outputId": "63767378-2ff9-4ee1-9b62-d8cb15a811a5"
   },
   "outputs": [
    {
     "data": {
      "text/plain": [
       "['Social', 'Press', 'Broadcast', 'Social_Press']"
      ]
     },
     "execution_count": 264,
     "metadata": {},
     "output_type": "execute_result"
    }
   ],
   "source": [
    "# Fit a regularized model with adding feature to avoid overfitting\n",
    "\n",
    "features_added"
   ]
  },
  {
   "cell_type": "code",
   "execution_count": 265,
   "metadata": {
    "colab": {
     "base_uri": "https://localhost:8080/"
    },
    "id": "aZoBlRnCKge6",
    "outputId": "35c9fbe9-98eb-45c0-c2a7-6b4a528cd5c7"
   },
   "outputs": [
    {
     "name": "stdout",
     "output_type": "stream",
     "text": [
      "*********Training set Metrics**************\n",
      "R-Squared: 0.9659213422044987\n",
      "MSE:  0.927025724058014\n",
      "********Validation set Metrics**************\n",
      "R-Squared: 0.9720588837994659\n",
      "MSE:  0.6910741379577896\n"
     ]
    }
   ],
   "source": [
    "from sklearn.linear_model import Ridge\n",
    "from sklearn.linear_model import Lasso\n",
    "\n",
    "#fitting Ridge with the default features\n",
    "ridge = Ridge()\n",
    "ridge.fit(train[features_added], train[target])\n",
    "\n",
    "print(\"*********Training set Metrics**************\")\n",
    "print(\"R-Squared:\", ridge.score(train[features_added], train[target]))\n",
    "se_train = (train[target] - ridge.predict(train[features_added]))**2\n",
    "mse_train = se_train.mean()\n",
    "print('MSE: ', mse_train)\n",
    "print(\"********Validation set Metrics**************\")\n",
    "print(\"R-Squared:\", ridge.score(validation[features_added], validation[target]))\n",
    "se_val = (validation[target] - ridge.predict(validation[features_added]))**2\n",
    "mse_val = se_val.mean()\n",
    "print('MSE: ', mse_val)"
   ]
  },
  {
   "cell_type": "code",
   "execution_count": 266,
   "metadata": {
    "colab": {
     "base_uri": "https://localhost:8080/"
    },
    "id": "oL3Px7TORUVN",
    "outputId": "7f4f9f05-2222-4172-b2d7-0c4d470bc211"
   },
   "outputs": [
    {
     "name": "stdout",
     "output_type": "stream",
     "text": [
      "*********Training set Metrics**************\n",
      "R-Squared: 0.9650706729767614\n",
      "MSE:  0.9501660795705202\n",
      "********Validation set Metrics**************\n",
      "R-Squared: 0.9694309814765215\n",
      "MSE:  0.7560706584772989\n"
     ]
    }
   ],
   "source": [
    "from sklearn.linear_model import Ridge\n",
    "from sklearn.linear_model import Lasso\n",
    "\n",
    "#fitting Lasso with the default features\n",
    "lasso = Lasso()\n",
    "lasso.fit(train[features_added], train[target])\n",
    "\n",
    "print(\"*********Training set Metrics**************\")\n",
    "print(\"R-Squared:\", lasso.score(train[features_added], train[target]))\n",
    "se_train = (train[target] - lasso.predict(train[features_added]))**2\n",
    "mse_train = se_train.mean()\n",
    "print('MSE: ', mse_train)\n",
    "print(\"********Validation set Metrics**************\")\n",
    "print(\"R-Squared:\", lasso.score(validation[features_added], validation[target]))\n",
    "se_val = (validation[target] - lasso.predict(validation[features_added]))**2\n",
    "mse_val = se_val.mean()\n",
    "print('MSE: ', mse_val)"
   ]
  },
  {
   "cell_type": "markdown",
   "metadata": {},
   "source": [
    "**Observations**\n",
    "\n",
    "- Two regularized regression models, Ridge and Lasso, are fitted using the added feature variables.\n",
    "- The performance of these regularized models is evaluated on the training and validation sets, similar to the previous models.\n",
    "- The Ridge model shows an R-squared of 0.972 on the validation set, indicating good performance and less overfitting.\n",
    "- The Lasso model also performs well with an R-squared of 0.969 on the validation set.\n",
    "- The MSE values for both models are lower compared to the unregularized models."
   ]
  },
  {
   "cell_type": "code",
   "execution_count": 267,
   "metadata": {
    "colab": {
     "base_uri": "https://localhost:8080/"
    },
    "id": "auLl5-cWRhKb",
    "outputId": "547a604e-d1ce-4364-c753-a0860242ec4e"
   },
   "outputs": [
    {
     "name": "stdout",
     "output_type": "stream",
     "text": [
      "*****************Test set Metrics******************\n",
      "Rsquared:  0.9681223595145863\n",
      "MSE:  0.8115497378287969\n",
      "Intercept is 6.62741421686671 and Coefficients are [0.01953844 0.03006687 0.00289627 0.00107019]\n"
     ]
    }
   ],
   "source": [
    "# Predict on the unseen data using Ridge, \n",
    "# Indicate good performance with higher R-squared, less overfitting, and lower MSE\n",
    "\n",
    "rsq_test = ridge.score(test[features_added], test[target])\n",
    "se_test = (test[target] - ridge.predict(test[features_added]))**2\n",
    "mse_test = se_test.mean()\n",
    "\n",
    "print(\"*****************Test set Metrics******************\")\n",
    "\n",
    "print(\"Rsquared: \", rsq_test)\n",
    "print(\"MSE: \", mse_test)\n",
    "print(\"Intercept is {} and Coefficients are {}\".format(ridge.intercept_, ridge.coef_))"
   ]
  },
  {
   "cell_type": "markdown",
   "metadata": {},
   "source": [
    "**Observations**\n",
    "- The Ridge model is used to predict the target variable on the unseen test set as it indicates good performance with higher R-squared, less overfitting, and lower MSE. \n",
    "- The R-squared value for the test set is 0.968, indicating that the model generalizes well to unseen data.\n",
    "- The MSE value for the test set is 0.812, representing the average squared error of the model's predictions on the test data.\n",
    "- Based on the coefficients of the independent variables, Social and Press has the highly positive relationship with Sales."
   ]
  },
  {
   "cell_type": "markdown",
   "metadata": {
    "id": "SvdZcoUc9r4C"
   },
   "source": [
    "### K-Fold and LooCV"
   ]
  },
  {
   "cell_type": "code",
   "execution_count": 225,
   "metadata": {
    "id": "tY9Rz4rf9ql5"
   },
   "outputs": [],
   "source": [
    "from sklearn.linear_model import Ridge\n",
    "from sklearn.linear_model import Lasso\n",
    "from sklearn.model_selection import cross_val_score"
   ]
  },
  {
   "cell_type": "code",
   "execution_count": 282,
   "metadata": {
    "colab": {
     "base_uri": "https://localhost:8080/",
     "height": 105
    },
    "id": "WMcwry-h64ZA",
    "outputId": "aac321a0-ab04-4655-95de-f9ab260b03c4"
   },
   "outputs": [
    {
     "name": "stdout",
     "output_type": "stream",
     "text": [
      "Mean Score:\n",
      "0.9649887636257694 \n",
      "\n",
      "Confidence Interval:\n"
     ]
    },
    {
     "data": {
      "text/plain": [
       "(0.9430473456799697, 0.986930181571569)"
      ]
     },
     "execution_count": 282,
     "metadata": {},
     "output_type": "execute_result"
    }
   ],
   "source": [
    "# Evaluate the performance using KFold methods\n",
    "\n",
    "ridgeCV = Ridge()\n",
    "cvs = cross_val_score(ridgeCV, Ad_df[features_added], Ad_df[target], cv = 10)\n",
    "print(\"Mean Score:\")\n",
    "print(cvs.mean(), \"\\n\")\n",
    "print(\"Confidence Interval:\")\n",
    "cvs.mean() - cvs.std(), cvs.mean() + cvs.std() \n",
    "\n",
    "# note that the same can be set as LooCV if cv parameter above is set to n, i.e, 200."
   ]
  },
  {
   "cell_type": "markdown",
   "metadata": {},
   "source": [
    "**Observations**\n",
    "\n",
    "- Refers to the average performance metric (e.g., R-squared, accuracy) obtained across multiple folds of the data, the mean score of the Ridge regression model using 10-fold cross-validation is approximately 0.965. \n",
    "- The confidence interval indicates that the true mean score is likely to fall within the range of approximately 0.943 to 0.987.\n",
    "- When evaluated using 10-fold cross-validation, achieved a relatively high average performance on the dataset."
   ]
  },
  {
   "cell_type": "markdown",
   "metadata": {
    "id": "i6veKXLlmMWr"
   },
   "source": [
    "### Bootstrapping"
   ]
  },
  {
   "cell_type": "code",
   "execution_count": 231,
   "metadata": {
    "colab": {
     "base_uri": "https://localhost:8080/"
    },
    "id": "8FcvUb-YmLUP",
    "outputId": "d0785df0-11a5-4d5b-f419-778a4e0cfc30"
   },
   "outputs": [
    {
     "name": "stdout",
     "output_type": "stream",
     "text": [
      "                            OLS Regression Results                            \n",
      "==============================================================================\n",
      "Dep. Variable:                  Sales   R-squared:                       0.612\n",
      "Model:                            OLS   Adj. R-squared:                  0.610\n",
      "Method:                 Least Squares   F-statistic:                     312.1\n",
      "Date:                Sun, 25 Jun 2023   Prob (F-statistic):           1.47e-42\n",
      "Time:                        13:38:18   Log-Likelihood:                -519.05\n",
      "No. Observations:                 200   AIC:                             1042.\n",
      "Df Residuals:                     198   BIC:                             1049.\n",
      "Df Model:                           1                                         \n",
      "Covariance Type:            nonrobust                                         \n",
      "==============================================================================\n",
      "                 coef    std err          t      P>|t|      [0.025      0.975]\n",
      "------------------------------------------------------------------------------\n",
      "Intercept      7.0326      0.458     15.360      0.000       6.130       7.935\n",
      "Social         0.0475      0.003     17.668      0.000       0.042       0.053\n",
      "==============================================================================\n",
      "Omnibus:                        0.531   Durbin-Watson:                   1.935\n",
      "Prob(Omnibus):                  0.767   Jarque-Bera (JB):                0.669\n",
      "Skew:                          -0.089   Prob(JB):                        0.716\n",
      "Kurtosis:                       2.779   Cond. No.                         338.\n",
      "==============================================================================\n",
      "\n",
      "Notes:\n",
      "[1] Standard Errors assume that the covariance matrix of the errors is correctly specified.\n"
     ]
    }
   ],
   "source": [
    "# Get a more detailed model through statsmodel\n",
    "import statsmodels.formula.api as smf\n",
    "lm2 = smf.ols(formula= 'Sales ~ Social', data = Ad_df).fit()\n",
    "lm2.params\n",
    "print(lm2.summary())  #Inferential statistics"
   ]
  },
  {
   "cell_type": "code",
   "execution_count": 275,
   "metadata": {
    "colab": {
     "base_uri": "https://localhost:8080/",
     "height": 278
    },
    "id": "_qjK1Fn9UOJT",
    "outputId": "a848a024-c4d4-4987-a72c-b838625a9a00"
   },
   "outputs": [
    {
     "data": {
      "image/png": "[encoded data removed]",
      "text/plain": [
       "<Figure size 432x288 with 1 Axes>"
      ]
     },
     "metadata": {
      "needs_background": "light"
     },
     "output_type": "display_data"
    }
   ],
   "source": [
    "#Calculate the slopes 1000 times using bootstrapping for further evaluation\n",
    "\n",
    "import statsmodels.formula.api as smf\n",
    "\n",
    "\n",
    "Slope = []\n",
    "for i in range(1000):\n",
    "  bootstrap_df = Ad_df.sample(n = 200, replace = True )\n",
    "  lm3 = smf.ols(formula= 'Sales ~ Social', data = bootstrap_df).fit()\n",
    "  Slope.append(lm3.params.Social)\n",
    "  \n",
    "  plt.xlabel('Social Media Ads')\n",
    "  plt.ylabel('Sales')\n",
    "  plt.plot(bootstrap_df['Social'], lm3.predict(bootstrap_df['Social']), color='teal', linewidth=3)\n",
    "  \n",
    "plt.scatter(Ad_df['Social'], Ad_df['Sales'],  color=('salmon'))\n",
    "plt.show()\n"
   ]
  },
  {
   "cell_type": "markdown",
   "metadata": {},
   "source": [
    "**Observations**\n",
    "\n",
    "- It randomly samples the data with replacement from the original dataset and fits a simple linear regression model using the sampled data as bootstrapping. \n",
    "- This process is repeated 1000 times, and the slope coefficient for the 'Social' variable is recorded in each iteration. "
   ]
  },
  {
   "cell_type": "code",
   "execution_count": 229,
   "metadata": {
    "colab": {
     "base_uri": "https://localhost:8080/"
    },
    "id": "my0E81YkGwCN",
    "outputId": "e8aee2af-3ec0-489b-9e2c-d3a020689cb1"
   },
   "outputs": [
    {
     "data": {
      "text/plain": [
       "array([0.04191738, 0.05296198])"
      ]
     },
     "execution_count": 229,
     "metadata": {},
     "output_type": "execute_result"
    }
   ],
   "source": [
    "# Find out the 2.5 and 97.5 percentile for the slopes obtained\n",
    "import numpy as np\n",
    "\n",
    "Slope = np.array(Slope)\n",
    "Sort_Slope = np.sort(Slope)\n",
    "\n",
    "\n",
    "Slope_limits = np.percentile(Sort_Slope, (2.5, 97.5))\n",
    "Slope_limits"
   ]
  },
  {
   "cell_type": "code",
   "execution_count": 230,
   "metadata": {
    "colab": {
     "base_uri": "https://localhost:8080/",
     "height": 282
    },
    "id": "tfuLE-9Hoh2G",
    "outputId": "a4719d2a-57ef-4abe-fc6a-660a53a50e07"
   },
   "outputs": [
    {
     "data": {
      "text/plain": [
       "<matplotlib.lines.Line2D at 0x240c1df6340>"
      ]
     },
     "execution_count": 230,
     "metadata": {},
     "output_type": "execute_result"
    },
    {
     "data": {
      "image/png": "[encoded data removed]",
      "text/plain": [
       "<Figure size 432x288 with 1 Axes>"
      ]
     },
     "metadata": {
      "needs_background": "light"
     },
     "output_type": "display_data"
    }
   ],
   "source": [
    "# Plotting the slopes and the upper and the lower limits\n",
    "\n",
    "plt.hist(Slope, 50)\n",
    "plt.axvline(Slope_limits[0], color = 'coral')\n",
    "plt.axvline(Slope_limits[1], color = 'coral')"
   ]
  },
  {
   "cell_type": "markdown",
   "metadata": {},
   "source": [
    "**Observations**\n",
    "\n",
    "- Calculates the 2.5th and 97.5th percentiles of the distribution of slope coefficients obtained from bootstrapping. Represent the lower and upper limits of the 95 % confidence interval for the slope parameter. \n",
    "- Generates a histogram of the slope coefficients, with vertical lines indicating the 95 % confidence interval limits between 0.04191738, and 0.05296198. "
   ]
  },
  {
   "cell_type": "code",
   "execution_count": 232,
   "metadata": {},
   "outputs": [
    {
     "name": "stdout",
     "output_type": "stream",
     "text": [
      "                            OLS Regression Results                            \n",
      "==============================================================================\n",
      "Dep. Variable:                  Sales   R-squared:                       0.332\n",
      "Model:                            OLS   Adj. R-squared:                  0.329\n",
      "Method:                 Least Squares   F-statistic:                     98.42\n",
      "Date:                Sun, 25 Jun 2023   Prob (F-statistic):           4.35e-19\n",
      "Time:                        13:40:23   Log-Likelihood:                -573.34\n",
      "No. Observations:                 200   AIC:                             1151.\n",
      "Df Residuals:                     198   BIC:                             1157.\n",
      "Df Model:                           1                                         \n",
      "Covariance Type:            nonrobust                                         \n",
      "==============================================================================\n",
      "                 coef    std err          t      P>|t|      [0.025      0.975]\n",
      "------------------------------------------------------------------------------\n",
      "Intercept      9.3116      0.563     16.542      0.000       8.202      10.422\n",
      "Press          0.2025      0.020      9.921      0.000       0.162       0.243\n",
      "==============================================================================\n",
      "Omnibus:                       19.358   Durbin-Watson:                   1.946\n",
      "Prob(Omnibus):                  0.000   Jarque-Bera (JB):               21.910\n",
      "Skew:                          -0.764   Prob(JB):                     1.75e-05\n",
      "Kurtosis:                       3.544   Cond. No.                         51.4\n",
      "==============================================================================\n",
      "\n",
      "Notes:\n",
      "[1] Standard Errors assume that the covariance matrix of the errors is correctly specified.\n"
     ]
    }
   ],
   "source": [
    "# Get a more detailed model through statsmodel\n",
    "import statsmodels.formula.api as smf\n",
    "lm2a = smf.ols(formula= 'Sales ~ Press', data = Ad_df).fit()\n",
    "lm2a.params\n",
    "print(lm2a.summary())  #Inferential statistics"
   ]
  },
  {
   "cell_type": "code",
   "execution_count": 277,
   "metadata": {},
   "outputs": [
    {
     "data": {
      "image/png": "[encoded data removed]",
      "text/plain": [
       "<Figure size 432x288 with 1 Axes>"
      ]
     },
     "metadata": {
      "needs_background": "light"
     },
     "output_type": "display_data"
    }
   ],
   "source": [
    "#Calculate the slopes 1000 times using bootstrapping for further evaluation\n",
    "\n",
    "import statsmodels.formula.api as smf\n",
    "\n",
    "\n",
    "Slope2 = []\n",
    "for i in range(1000):\n",
    "  bootstrap_df = Ad_df.sample(n = 200, replace = True )\n",
    "  lm3a = smf.ols(formula= 'Sales ~ Press', data = bootstrap_df).fit()\n",
    "  Slope2.append(lm3a.params.Press)\n",
    "  \n",
    "  plt.xlabel('Press Media Ads')\n",
    "  plt.ylabel('Sales')\n",
    "  plt.plot(bootstrap_df['Press'], lm3a.predict(bootstrap_df['Press']), color='teal', linewidth=3)\n",
    "  \n",
    "plt.scatter(Ad_df['Press'], Ad_df['Sales'],  color=('goldenrod'))\n",
    "plt.show()"
   ]
  },
  {
   "cell_type": "code",
   "execution_count": 236,
   "metadata": {},
   "outputs": [
    {
     "data": {
      "text/plain": [
       "array([0.15999451, 0.2460993 ])"
      ]
     },
     "execution_count": 236,
     "metadata": {},
     "output_type": "execute_result"
    }
   ],
   "source": [
    "# Find out the 2.5 and 97.5 percentile for the slopes obtained\n",
    "import numpy as np\n",
    "\n",
    "Slope2 = np.array(Slope2)\n",
    "Sort_Slope2 = np.sort(Slope2)\n",
    "\n",
    "\n",
    "Slope2_limits = np.percentile(Sort_Slope2, (2.5, 97.5))\n",
    "Slope2_limits"
   ]
  },
  {
   "cell_type": "code",
   "execution_count": 237,
   "metadata": {},
   "outputs": [
    {
     "data": {
      "text/plain": [
       "<matplotlib.lines.Line2D at 0x240befa23a0>"
      ]
     },
     "execution_count": 237,
     "metadata": {},
     "output_type": "execute_result"
    },
    {
     "data": {
      "image/png": "[encoded data removed]",
      "text/plain": [
       "<Figure size 432x288 with 1 Axes>"
      ]
     },
     "metadata": {
      "needs_background": "light"
     },
     "output_type": "display_data"
    }
   ],
   "source": [
    "# Plotting the slopes and the upper and the lower limits\n",
    "\n",
    "plt.hist(Slope2, 50)\n",
    "plt.axvline(Slope2_limits[0], color = 'coral')\n",
    "plt.axvline(Slope2_limits[1], color = 'coral')"
   ]
  },
  {
   "cell_type": "code",
   "execution_count": 268,
   "metadata": {},
   "outputs": [
    {
     "name": "stdout",
     "output_type": "stream",
     "text": [
      "                            OLS Regression Results                            \n",
      "==============================================================================\n",
      "Dep. Variable:                  Sales   R-squared:                       0.052\n",
      "Model:                            OLS   Adj. R-squared:                  0.047\n",
      "Method:                 Least Squares   F-statistic:                     10.89\n",
      "Date:                Sun, 25 Jun 2023   Prob (F-statistic):            0.00115\n",
      "Time:                        14:21:00   Log-Likelihood:                -608.34\n",
      "No. Observations:                 200   AIC:                             1221.\n",
      "Df Residuals:                     198   BIC:                             1227.\n",
      "Df Model:                           1                                         \n",
      "Covariance Type:            nonrobust                                         \n",
      "==============================================================================\n",
      "                 coef    std err          t      P>|t|      [0.025      0.975]\n",
      "------------------------------------------------------------------------------\n",
      "Intercept     12.3514      0.621     19.876      0.000      11.126      13.577\n",
      "Broadcast      0.0547      0.017      3.300      0.001       0.022       0.087\n",
      "==============================================================================\n",
      "Omnibus:                        6.231   Durbin-Watson:                   1.983\n",
      "Prob(Omnibus):                  0.044   Jarque-Bera (JB):                5.483\n",
      "Skew:                           0.330   Prob(JB):                       0.0645\n",
      "Kurtosis:                       2.527   Cond. No.                         64.7\n",
      "==============================================================================\n",
      "\n",
      "Notes:\n",
      "[1] Standard Errors assume that the covariance matrix of the errors is correctly specified.\n"
     ]
    }
   ],
   "source": [
    "# Get a more detailed model through statsmodel\n",
    "import statsmodels.formula.api as smf\n",
    "lm2b = smf.ols(formula= 'Sales ~ Broadcast', data = Ad_df).fit()\n",
    "lm2b.params\n",
    "print(lm2b.summary())  #Inferential statistics"
   ]
  },
  {
   "cell_type": "code",
   "execution_count": 278,
   "metadata": {},
   "outputs": [
    {
     "data": {
      "image/png": "[encoded data removed]",
      "text/plain": [
       "<Figure size 432x288 with 1 Axes>"
      ]
     },
     "metadata": {
      "needs_background": "light"
     },
     "output_type": "display_data"
    }
   ],
   "source": [
    "#Calculate the slopes 1000 times using bootstrapping for further evaluation\n",
    "\n",
    "import statsmodels.formula.api as smf\n",
    "\n",
    "\n",
    "Slope3 = []\n",
    "for i in range(1000):\n",
    "  bootstrap_df = Ad_df.sample(n = 200, replace = True )\n",
    "  lm3b = smf.ols(formula= 'Sales ~ Broadcast', data = bootstrap_df).fit()\n",
    "  Slope3.append(lm3b.params.Broadcast)\n",
    "  \n",
    "  plt.xlabel('Broadcast Media Ads')\n",
    "  plt.ylabel('Sales')\n",
    "  plt.plot(bootstrap_df['Broadcast'], lm3b.predict(bootstrap_df['Broadcast']), color='teal', linewidth=3)\n",
    "  \n",
    "plt.scatter(Ad_df['Broadcast'], Ad_df['Sales'],  color=('turquoise'))\n",
    "plt.show()"
   ]
  },
  {
   "cell_type": "code",
   "execution_count": 283,
   "metadata": {},
   "outputs": [
    {
     "data": {
      "text/plain": [
       "array([0.01648197, 0.09324158])"
      ]
     },
     "execution_count": 283,
     "metadata": {},
     "output_type": "execute_result"
    }
   ],
   "source": [
    "# Find out the 2.5 and 97.5 percentile for the slopes obtained\n",
    "import numpy as np\n",
    "\n",
    "Slope3 = np.array(Slope3)\n",
    "Sort_Slope3 = np.sort(Slope3)\n",
    "\n",
    "\n",
    "Slope3_limits = np.percentile(Sort_Slope3, (2.5, 97.5))\n",
    "Slope3_limits"
   ]
  },
  {
   "cell_type": "code",
   "execution_count": 285,
   "metadata": {},
   "outputs": [
    {
     "data": {
      "text/plain": [
       "<matplotlib.lines.Line2D at 0x240c0161040>"
      ]
     },
     "execution_count": 285,
     "metadata": {},
     "output_type": "execute_result"
    },
    {
     "data": {
      "image/png": "[encoded data removed]",
      "text/plain": [
       "<Figure size 432x288 with 1 Axes>"
      ]
     },
     "metadata": {
      "needs_background": "light"
     },
     "output_type": "display_data"
    }
   ],
   "source": [
    "# Plotting the slopes and the upper and the lower limits\n",
    "\n",
    "plt.hist(Slope3, 50)\n",
    "plt.axvline(Slope3_limits[0], color = 'coral')\n",
    "plt.axvline(Slope3_limits[1], color = 'coral')"
   ]
  },
  {
   "cell_type": "markdown",
   "metadata": {},
   "source": [
    "## Conclusions\n",
    "\n",
    "To determine the importance and impact of independent variables on sales, it should consider multiple factors, including the coefficient, R-squared value, F-statistic, and associated p-value. Let's analyze the information for the \"Social\", \"Press\", and \"Broadcast\" variables:\n",
    "\n",
    "\"Social Media\":\n",
    "- Coefficient: 0.01953844\n",
    "- R-squared: 0.612\n",
    "- F-statistic: 312.1\n",
    "- Associated p-value: 1.47e-42\n",
    "\n",
    "\"Press Media\":\n",
    "- Coefficient: 0.03006687\n",
    "- R-squared: 0.332\n",
    "- F-statistic: 98.42\n",
    "- Associated p-value: 4.35e-19\n",
    "\n",
    "\"Broadcast\":\n",
    "- Coefficient: 0.0547\n",
    "- R-squared: 0.052\n",
    "- F-statistic: 10.89\n",
    "- Associated p-value: 0.00115\n",
    "\n",
    "\n",
    "- **Coefficient:** The coefficient represents the change in the dependent variable (sales) for a one-unit increase in the independent variable. In this case, the coefficient for \"Press\" (0.03006687) is higher than the coefficient for \"Social\" (0.01953844). The coefficient for \"Broadcast\" is 0.0547. This means that, on average, for each unit increase in the \"Broadcast\" variable, the sales slightly increase by 0.0547 units. \n",
    "\n",
    "\n",
    "- **R-squared:** The R-squared value measures the proportion of the variance in the dependent variable that can be explained by the independent variable. A higher R-squared value indicates a stronger relationship between the independent variable and sales. In this case, the R-squared value is higher for \"Social\" (0.612) compared to \"Press\" (0.332).The R-squared value is 0.052. This implies that the \"Broadcast\" variable explains approximately 5.2% of the variance in the sales data. In other words, only a small portion of the variation in sales can be attributed to changes in the \"Broadcast\" variable.\n",
    "\n",
    "\n",
    "- **F-statistic and associated p-value:** The F-statistic and its associated p-value help determine the overall significance of the regression model. A lower p-value indicates a more significant relationship between the independent variable and the dependent variable. In this case, the F-statistic is higher for \"Social\" (312.1) compared to \"Press\" (98.42), and the associated p-value for \"Social\" (1.47e-42) is much lower than that for \"Press\" (4.35e-19). The F-statistic for \"Broadcast\" is 10.89, and the associated p-value is 0.00115. In other words, the relationship between the \"Broadcast\" variable and sales is unlikely to have occurred by chance.\n",
    "\n",
    "Based on these factors, it can be concluded that the \"Social\" variable has a higher impact on sales compared to the \"Press\" variable. Although the coefficient for \"Press\" is higher, the higher R-squared value, higher F-statistic, and lower p-value for \"Social\" indicate a stronger relationship and more significant impact on sales. Although there is a positive coefficient for \"Broadcast\" which suggests a positive relationship between advertising through broadcasts and sales. However, it's important to note that the impact of the \"Broadcast\" variable is relatively small, as indicated by the low R-squared value. Overall, this project not only performs a simple linear regression model, and multi linear regression model, but also features engineering, model building, performance assessment, and validation using various regression techniques. It demonstrates the importance of adding relevant features, cross-validation, and regularization for improving the model's performance and generalization capabilities.\n"
   ]
  },
  {
   "cell_type": "markdown",
   "metadata": {},
   "source": [
    "## Recommendations\n",
    "\n",
    "Based on the regression model and the variables included, here are some recommendations for marketing strategies:\n",
    "\n",
    "- **Focus on Social Media:** The \"Social\" variable has a coefficient of 0.0195 and a relatively high R-squared value of 0.612. This suggests that social media advertising has a stronger impact on sales compared to other variables. Consider allocating more resources and efforts towards social media marketing campaigns to potentially increase sales.\n",
    "\n",
    "\n",
    "- **Evaluate Press Advertising Effectiveness:** The \"Press\" variable has a coefficient of 0.0301 and an R-squared of 0.332. While the impact of press advertising on sales is not as strong as social media, it still shows some influence. Review the effectiveness of press advertising campaigns and consider optimizing them to maximize their impact on sales.\n",
    "\n",
    "\n",
    "- **Consider Broadcast Advertising:** Although the impact of the \"Broadcast\" variable is relatively small (coefficient of 0.0547 and R-squared of 0.052), it still shows a statistically significant relationship with sales. Explore opportunities for targeted broadcast advertising, such as TV or radio commercials, to complement marketing efforts.\n",
    "\n",
    "\n",
    "- **Explore Synergistic Marketing Approaches:** Instead of relying solely on one marketing channel, consider implementing a synergistic approach. Combine social media, broadcast advertising, and press advertising to create a comprehensive marketing strategy. Look for opportunities to integrate these channels and reinforce brand message across different platforms for a more cohesive and impactful marketing campaign.\n",
    "\n",
    "\n",
    "- **Monitor and Adjust:** Continuously monitor the performance of marketing strategies and measure their impact on sales. Regularly analyze the results and make adjustments based on the insights gained. This iterative approach will help refine marketing strategies over time and improve their effectiveness.\n",
    "\n",
    "\n",
    "- **Consider Other Factors:** Keep in mind that the regression model is based on the variables included and their relationship with sales. There may be other factors that can influence sales but were not considered in this model. Take into account additional market research, customer insights, and industry trends to develop a well-rounded marketing strategy.\n",
    "\n",
    "\n",
    "Remember that these recommendations are based on the available information and the regression model results. It's important to interpret the findings in conjunction with other relevant data and consider the specific context of business to tailor the marketing strategies accordingly."
   ]
  }
 ],
 "metadata": {
  "colab": {
   "collapsed_sections": [],
   "name": "LVC_1_&_2_Practical_Application_Effects_of_Advertising_on_Sales.ipynb",
   "provenance": []
  },
  "kernelspec": {
   "display_name": "Python 3 (ipykernel)",
   "language": "python",
   "name": "python3"
  },
  "language_info": {
   "codemirror_mode": {
    "name": "ipython",
    "version": 3
   },
   "file_extension": ".py",
   "mimetype": "text/x-python",
   "name": "python",
   "nbconvert_exporter": "python",
   "pygments_lexer": "ipython3",
   "version": "3.9.7"
  }
 },
 "nbformat": 4,
 "nbformat_minor": 1
}
