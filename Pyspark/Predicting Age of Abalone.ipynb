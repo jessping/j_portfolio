{
  "nbformat": 4,
  "nbformat_minor": 0,
  "metadata": {
    "colab": {
      "name": "Final_Project_3.ipynb",
      "provenance": [],
      "collapsed_sections": []
    },
    "kernelspec": {
      "name": "python3",
      "display_name": "Python 3"
    },
    "language_info": {
      "name": "python"
    }
  },
  "cells": [
    {
      "cell_type": "markdown",
      "source": [
        "# **PREDICTION OF AGE BASED ON RING VALUE**"
      ],
      "metadata": {
        "id": "BHdxV7_LBtGp"
      }
    },
    {
      "cell_type": "markdown",
      "source": [
        "# **Setting the Spark Environment**\n",
        "\n",
        "---\n"
      ],
      "metadata": {
        "id": "UR3Jn4le5iRR"
      }
    },
    {
      "cell_type": "code",
      "execution_count": 1,
      "metadata": {
        "colab": {
          "base_uri": "https://localhost:8080/"
        },
        "id": "AYe1wVWk7jjO",
        "outputId": "d642b6bc-8137-486c-96ae-c09c85259ec2"
      },
      "outputs": [
        {
          "output_type": "stream",
          "name": "stdout",
          "text": [
            "Get:1 https://cloud.r-project.org/bin/linux/ubuntu bionic-cran40/ InRelease [3,626 B]\n",
            "Get:2 http://security.ubuntu.com/ubuntu bionic-security InRelease [88.7 kB]\n",
            "Ign:3 https://developer.download.nvidia.com/compute/machine-learning/repos/ubuntu1804/x86_64  InRelease\n",
            "Get:4 https://developer.download.nvidia.com/compute/cuda/repos/ubuntu1804/x86_64  InRelease [1,581 B]\n",
            "Hit:5 https://developer.download.nvidia.com/compute/machine-learning/repos/ubuntu1804/x86_64  Release\n",
            "Hit:6 http://archive.ubuntu.com/ubuntu bionic InRelease\n",
            "Get:7 http://ppa.launchpad.net/c2d4u.team/c2d4u4.0+/ubuntu bionic InRelease [15.9 kB]\n",
            "Get:8 http://archive.ubuntu.com/ubuntu bionic-updates InRelease [88.7 kB]\n",
            "Get:9 https://cloud.r-project.org/bin/linux/ubuntu bionic-cran40/ Packages [89.9 kB]\n",
            "Get:10 https://developer.download.nvidia.com/compute/cuda/repos/ubuntu1804/x86_64  Packages [903 kB]\n",
            "Hit:11 http://ppa.launchpad.net/cran/libgit2/ubuntu bionic InRelease\n",
            "Get:12 http://archive.ubuntu.com/ubuntu bionic-backports InRelease [74.6 kB]\n",
            "Get:14 http://ppa.launchpad.net/deadsnakes/ppa/ubuntu bionic InRelease [15.9 kB]\n",
            "Get:15 http://security.ubuntu.com/ubuntu bionic-security/restricted amd64 Packages [1,100 kB]\n",
            "Hit:16 http://ppa.launchpad.net/graphics-drivers/ppa/ubuntu bionic InRelease\n",
            "Get:17 http://security.ubuntu.com/ubuntu bionic-security/main amd64 Packages [2,937 kB]\n",
            "Get:18 http://security.ubuntu.com/ubuntu bionic-security/universe amd64 Packages [1,533 kB]\n",
            "Get:19 http://ppa.launchpad.net/c2d4u.team/c2d4u4.0+/ubuntu bionic/main Sources [2,076 kB]\n",
            "Get:20 http://archive.ubuntu.com/ubuntu bionic-updates/universe amd64 Packages [2,310 kB]\n",
            "Get:21 http://ppa.launchpad.net/c2d4u.team/c2d4u4.0+/ubuntu bionic/main amd64 Packages [1,064 kB]\n",
            "Get:22 http://archive.ubuntu.com/ubuntu bionic-updates/main amd64 Packages [3,369 kB]\n",
            "Get:23 http://archive.ubuntu.com/ubuntu bionic-updates/restricted amd64 Packages [1,141 kB]\n",
            "Get:24 http://ppa.launchpad.net/deadsnakes/ppa/ubuntu bionic/main amd64 Packages [45.3 kB]\n",
            "Fetched 16.9 MB in 4s (4,116 kB/s)\n",
            "Reading package lists... Done\n"
          ]
        }
      ],
      "source": [
        "!apt-get update #update linux\n",
        "!apt-get install openjdk-8-jdk-headless -qq > /dev/null #download and install openjdk\n",
        "!wget -q http://archive.apache.org/dist/spark/spark-3.2.1/spark-3.2.1-bin-hadoop2.7.tgz #download spark binary (gunzip). -q: Turn off Wget’s output.\n",
        "!tar xf spark-3.2.1-bin-hadoop2.7.tgz #extract the spark package\n",
        "!pip install -q findspark #install the findspark package"
      ]
    },
    {
      "cell_type": "code",
      "source": [
        "#set environment variables\n",
        "import os \n",
        "os.environ[\"JAVA_HOME\"] = \"/usr/lib/jvm/java-11-openjdk-amd64\"\n",
        "os.environ[\"SPARK_HOME\"] = \"/content/spark-3.2.1-bin-hadoop2.7\""
      ],
      "metadata": {
        "id": "dkj0nDA_8FFq"
      },
      "execution_count": 2,
      "outputs": []
    },
    {
      "cell_type": "code",
      "source": [
        "# From Spark 2.0, SparkSession provides a common entry point for a Spark application\n",
        "import findspark\n",
        "findspark.init()\n",
        "from pyspark.sql import SparkSession\n",
        "spark = SparkSession.builder.getOrCreate() \n",
        "spark.conf.set('spark.sql.shuffle.partitions', 6)\n",
        "# spark.conf.set('spark.executor.memory', '2g')\n",
        "spark"
      ],
      "metadata": {
        "colab": {
          "base_uri": "https://localhost:8080/",
          "height": 219
        },
        "id": "dctVP6hK8K-B",
        "outputId": "d0fb6171-9eb2-4026-ca4b-aea85a938430"
      },
      "execution_count": 3,
      "outputs": [
        {
          "output_type": "execute_result",
          "data": {
            "text/plain": [
              "<pyspark.sql.session.SparkSession at 0x7f23833d6710>"
            ],
            "text/html": [
              "\n",
              "            <div>\n",
              "                <p><b>SparkSession - in-memory</b></p>\n",
              "                \n",
              "        <div>\n",
              "            <p><b>SparkContext</b></p>\n",
              "\n",
              "            <p><a href=\"http://41615c0afe3f:4040\">Spark UI</a></p>\n",
              "\n",
              "            <dl>\n",
              "              <dt>Version</dt>\n",
              "                <dd><code>v3.2.1</code></dd>\n",
              "              <dt>Master</dt>\n",
              "                <dd><code>local[*]</code></dd>\n",
              "              <dt>AppName</dt>\n",
              "                <dd><code>pyspark-shell</code></dd>\n",
              "            </dl>\n",
              "        </div>\n",
              "        \n",
              "            </div>\n",
              "        "
            ]
          },
          "metadata": {},
          "execution_count": 3
        }
      ]
    },
    {
      "cell_type": "markdown",
      "source": [
        "# **Fetching Data**\n",
        "# **Read File Data Using Spark**\n",
        "---\n",
        "\n"
      ],
      "metadata": {
        "id": "CgRKhxum59Nc"
      }
    },
    {
      "cell_type": "code",
      "source": [
        "from pyspark.sql.types import *\n",
        "\n",
        "ordersSchema = StructType([\n",
        "  StructField(\"Sex\", StringType(), True),\n",
        "  StructField(\"Length\", StringType(), True),\n",
        "  StructField(\"Diameter\", StringType(), True),\n",
        "  StructField(\"Height\", StringType(), True),\n",
        "  StructField(\"Whole weight\", StringType(), True),\n",
        "  StructField(\"Shucked weight\", StringType(), True),\n",
        "  StructField(\"Viscera weight\", StringType(), True),\n",
        "  StructField(\"Shell weight\", StringType(), True),\n",
        "  StructField(\"Rings\", StringType(), True)])\n",
        "\n",
        "df = (spark.read\n",
        "          .schema(ordersSchema)\n",
        "          .format(\"csv\")\n",
        "          .load(\"sample_data/abalone.data\"))"
      ],
      "metadata": {
        "id": "4n6_IHgP8Qjl"
      },
      "execution_count": 4,
      "outputs": []
    },
    {
      "cell_type": "markdown",
      "source": [
        "Dsiplay top 5 rows of the data"
      ],
      "metadata": {
        "id": "mFSHf9Qj6WmV"
      }
    },
    {
      "cell_type": "code",
      "source": [
        "df.show(5) "
      ],
      "metadata": {
        "colab": {
          "base_uri": "https://localhost:8080/"
        },
        "id": "_r4S6wUZ8qkM",
        "outputId": "ab4565fe-2ab4-4f97-b983-2a9e6fc9905b"
      },
      "execution_count": 5,
      "outputs": [
        {
          "output_type": "stream",
          "name": "stdout",
          "text": [
            "+---+------+--------+------+------------+--------------+--------------+------------+-----+\n",
            "|Sex|Length|Diameter|Height|Whole weight|Shucked weight|Viscera weight|Shell weight|Rings|\n",
            "+---+------+--------+------+------------+--------------+--------------+------------+-----+\n",
            "|  M| 0.455|   0.365| 0.095|       0.514|        0.2245|         0.101|        0.15|   15|\n",
            "|  M|  0.35|   0.265|  0.09|      0.2255|        0.0995|        0.0485|        0.07|    7|\n",
            "|  F|  0.53|    0.42| 0.135|       0.677|        0.2565|        0.1415|        0.21|    9|\n",
            "|  M|  0.44|   0.365| 0.125|       0.516|        0.2155|         0.114|       0.155|   10|\n",
            "|  I|  0.33|   0.255|  0.08|       0.205|        0.0895|        0.0395|       0.055|    7|\n",
            "+---+------+--------+------+------------+--------------+--------------+------------+-----+\n",
            "only showing top 5 rows\n",
            "\n"
          ]
        }
      ]
    },
    {
      "cell_type": "markdown",
      "source": [
        "# **Data Cleaning and Transformation**"
      ],
      "metadata": {
        "id": "CezS287q71Yn"
      }
    },
    {
      "cell_type": "markdown",
      "source": [
        "Convert the dataframe to pandas"
      ],
      "metadata": {
        "id": "2_BD9NNk6cpr"
      }
    },
    {
      "cell_type": "code",
      "source": [
        "df.toPandas()"
      ],
      "metadata": {
        "colab": {
          "base_uri": "https://localhost:8080/",
          "height": 424
        },
        "id": "apvXbO2AG9Tm",
        "outputId": "d8df2782-aea6-41ea-ff14-d54c1fa7414d"
      },
      "execution_count": 6,
      "outputs": [
        {
          "output_type": "execute_result",
          "data": {
            "text/plain": [
              "     Sex Length Diameter Height Whole weight Shucked weight Viscera weight  \\\n",
              "0      M  0.455    0.365  0.095        0.514         0.2245          0.101   \n",
              "1      M   0.35    0.265   0.09       0.2255         0.0995         0.0485   \n",
              "2      F   0.53     0.42  0.135        0.677         0.2565         0.1415   \n",
              "3      M   0.44    0.365  0.125        0.516         0.2155          0.114   \n",
              "4      I   0.33    0.255   0.08        0.205         0.0895         0.0395   \n",
              "...   ..    ...      ...    ...          ...            ...            ...   \n",
              "4172   F  0.565     0.45  0.165        0.887           0.37          0.239   \n",
              "4173   M   0.59     0.44  0.135        0.966          0.439         0.2145   \n",
              "4174   M    0.6    0.475  0.205        1.176         0.5255         0.2875   \n",
              "4175   F  0.625    0.485   0.15       1.0945          0.531          0.261   \n",
              "4176   M   0.71    0.555  0.195       1.9485         0.9455         0.3765   \n",
              "\n",
              "     Shell weight Rings  \n",
              "0            0.15    15  \n",
              "1            0.07     7  \n",
              "2            0.21     9  \n",
              "3           0.155    10  \n",
              "4           0.055     7  \n",
              "...           ...   ...  \n",
              "4172        0.249    11  \n",
              "4173       0.2605    10  \n",
              "4174        0.308     9  \n",
              "4175        0.296    10  \n",
              "4176        0.495    12  \n",
              "\n",
              "[4177 rows x 9 columns]"
            ],
            "text/html": [
              "\n",
              "  <div id=\"df-3ea2b57d-a2ad-4556-ae6f-1815dfc04844\">\n",
              "    <div class=\"colab-df-container\">\n",
              "      <div>\n",
              "<style scoped>\n",
              "    .dataframe tbody tr th:only-of-type {\n",
              "        vertical-align: middle;\n",
              "    }\n",
              "\n",
              "    .dataframe tbody tr th {\n",
              "        vertical-align: top;\n",
              "    }\n",
              "\n",
              "    .dataframe thead th {\n",
              "        text-align: right;\n",
              "    }\n",
              "</style>\n",
              "<table border=\"1\" class=\"dataframe\">\n",
              "  <thead>\n",
              "    <tr style=\"text-align: right;\">\n",
              "      <th></th>\n",
              "      <th>Sex</th>\n",
              "      <th>Length</th>\n",
              "      <th>Diameter</th>\n",
              "      <th>Height</th>\n",
              "      <th>Whole weight</th>\n",
              "      <th>Shucked weight</th>\n",
              "      <th>Viscera weight</th>\n",
              "      <th>Shell weight</th>\n",
              "      <th>Rings</th>\n",
              "    </tr>\n",
              "  </thead>\n",
              "  <tbody>\n",
              "    <tr>\n",
              "      <th>0</th>\n",
              "      <td>M</td>\n",
              "      <td>0.455</td>\n",
              "      <td>0.365</td>\n",
              "      <td>0.095</td>\n",
              "      <td>0.514</td>\n",
              "      <td>0.2245</td>\n",
              "      <td>0.101</td>\n",
              "      <td>0.15</td>\n",
              "      <td>15</td>\n",
              "    </tr>\n",
              "    <tr>\n",
              "      <th>1</th>\n",
              "      <td>M</td>\n",
              "      <td>0.35</td>\n",
              "      <td>0.265</td>\n",
              "      <td>0.09</td>\n",
              "      <td>0.2255</td>\n",
              "      <td>0.0995</td>\n",
              "      <td>0.0485</td>\n",
              "      <td>0.07</td>\n",
              "      <td>7</td>\n",
              "    </tr>\n",
              "    <tr>\n",
              "      <th>2</th>\n",
              "      <td>F</td>\n",
              "      <td>0.53</td>\n",
              "      <td>0.42</td>\n",
              "      <td>0.135</td>\n",
              "      <td>0.677</td>\n",
              "      <td>0.2565</td>\n",
              "      <td>0.1415</td>\n",
              "      <td>0.21</td>\n",
              "      <td>9</td>\n",
              "    </tr>\n",
              "    <tr>\n",
              "      <th>3</th>\n",
              "      <td>M</td>\n",
              "      <td>0.44</td>\n",
              "      <td>0.365</td>\n",
              "      <td>0.125</td>\n",
              "      <td>0.516</td>\n",
              "      <td>0.2155</td>\n",
              "      <td>0.114</td>\n",
              "      <td>0.155</td>\n",
              "      <td>10</td>\n",
              "    </tr>\n",
              "    <tr>\n",
              "      <th>4</th>\n",
              "      <td>I</td>\n",
              "      <td>0.33</td>\n",
              "      <td>0.255</td>\n",
              "      <td>0.08</td>\n",
              "      <td>0.205</td>\n",
              "      <td>0.0895</td>\n",
              "      <td>0.0395</td>\n",
              "      <td>0.055</td>\n",
              "      <td>7</td>\n",
              "    </tr>\n",
              "    <tr>\n",
              "      <th>...</th>\n",
              "      <td>...</td>\n",
              "      <td>...</td>\n",
              "      <td>...</td>\n",
              "      <td>...</td>\n",
              "      <td>...</td>\n",
              "      <td>...</td>\n",
              "      <td>...</td>\n",
              "      <td>...</td>\n",
              "      <td>...</td>\n",
              "    </tr>\n",
              "    <tr>\n",
              "      <th>4172</th>\n",
              "      <td>F</td>\n",
              "      <td>0.565</td>\n",
              "      <td>0.45</td>\n",
              "      <td>0.165</td>\n",
              "      <td>0.887</td>\n",
              "      <td>0.37</td>\n",
              "      <td>0.239</td>\n",
              "      <td>0.249</td>\n",
              "      <td>11</td>\n",
              "    </tr>\n",
              "    <tr>\n",
              "      <th>4173</th>\n",
              "      <td>M</td>\n",
              "      <td>0.59</td>\n",
              "      <td>0.44</td>\n",
              "      <td>0.135</td>\n",
              "      <td>0.966</td>\n",
              "      <td>0.439</td>\n",
              "      <td>0.2145</td>\n",
              "      <td>0.2605</td>\n",
              "      <td>10</td>\n",
              "    </tr>\n",
              "    <tr>\n",
              "      <th>4174</th>\n",
              "      <td>M</td>\n",
              "      <td>0.6</td>\n",
              "      <td>0.475</td>\n",
              "      <td>0.205</td>\n",
              "      <td>1.176</td>\n",
              "      <td>0.5255</td>\n",
              "      <td>0.2875</td>\n",
              "      <td>0.308</td>\n",
              "      <td>9</td>\n",
              "    </tr>\n",
              "    <tr>\n",
              "      <th>4175</th>\n",
              "      <td>F</td>\n",
              "      <td>0.625</td>\n",
              "      <td>0.485</td>\n",
              "      <td>0.15</td>\n",
              "      <td>1.0945</td>\n",
              "      <td>0.531</td>\n",
              "      <td>0.261</td>\n",
              "      <td>0.296</td>\n",
              "      <td>10</td>\n",
              "    </tr>\n",
              "    <tr>\n",
              "      <th>4176</th>\n",
              "      <td>M</td>\n",
              "      <td>0.71</td>\n",
              "      <td>0.555</td>\n",
              "      <td>0.195</td>\n",
              "      <td>1.9485</td>\n",
              "      <td>0.9455</td>\n",
              "      <td>0.3765</td>\n",
              "      <td>0.495</td>\n",
              "      <td>12</td>\n",
              "    </tr>\n",
              "  </tbody>\n",
              "</table>\n",
              "<p>4177 rows × 9 columns</p>\n",
              "</div>\n",
              "      <button class=\"colab-df-convert\" onclick=\"convertToInteractive('df-3ea2b57d-a2ad-4556-ae6f-1815dfc04844')\"\n",
              "              title=\"Convert this dataframe to an interactive table.\"\n",
              "              style=\"display:none;\">\n",
              "        \n",
              "  <svg xmlns=\"http://www.w3.org/2000/svg\" height=\"24px\"viewBox=\"0 0 24 24\"\n",
              "       width=\"24px\">\n",
              "    <path d=\"M0 0h24v24H0V0z\" fill=\"none\"/>\n",
              "    <path d=\"M18.56 5.44l.94 2.06.94-2.06 2.06-.94-2.06-.94-.94-2.06-.94 2.06-2.06.94zm-11 1L8.5 8.5l.94-2.06 2.06-.94-2.06-.94L8.5 2.5l-.94 2.06-2.06.94zm10 10l.94 2.06.94-2.06 2.06-.94-2.06-.94-.94-2.06-.94 2.06-2.06.94z\"/><path d=\"M17.41 7.96l-1.37-1.37c-.4-.4-.92-.59-1.43-.59-.52 0-1.04.2-1.43.59L10.3 9.45l-7.72 7.72c-.78.78-.78 2.05 0 2.83L4 21.41c.39.39.9.59 1.41.59.51 0 1.02-.2 1.41-.59l7.78-7.78 2.81-2.81c.8-.78.8-2.07 0-2.86zM5.41 20L4 18.59l7.72-7.72 1.47 1.35L5.41 20z\"/>\n",
              "  </svg>\n",
              "      </button>\n",
              "      \n",
              "  <style>\n",
              "    .colab-df-container {\n",
              "      display:flex;\n",
              "      flex-wrap:wrap;\n",
              "      gap: 12px;\n",
              "    }\n",
              "\n",
              "    .colab-df-convert {\n",
              "      background-color: #E8F0FE;\n",
              "      border: none;\n",
              "      border-radius: 50%;\n",
              "      cursor: pointer;\n",
              "      display: none;\n",
              "      fill: #1967D2;\n",
              "      height: 32px;\n",
              "      padding: 0 0 0 0;\n",
              "      width: 32px;\n",
              "    }\n",
              "\n",
              "    .colab-df-convert:hover {\n",
              "      background-color: #E2EBFA;\n",
              "      box-shadow: 0px 1px 2px rgba(60, 64, 67, 0.3), 0px 1px 3px 1px rgba(60, 64, 67, 0.15);\n",
              "      fill: #174EA6;\n",
              "    }\n",
              "\n",
              "    [theme=dark] .colab-df-convert {\n",
              "      background-color: #3B4455;\n",
              "      fill: #D2E3FC;\n",
              "    }\n",
              "\n",
              "    [theme=dark] .colab-df-convert:hover {\n",
              "      background-color: #434B5C;\n",
              "      box-shadow: 0px 1px 3px 1px rgba(0, 0, 0, 0.15);\n",
              "      filter: drop-shadow(0px 1px 2px rgba(0, 0, 0, 0.3));\n",
              "      fill: #FFFFFF;\n",
              "    }\n",
              "  </style>\n",
              "\n",
              "      <script>\n",
              "        const buttonEl =\n",
              "          document.querySelector('#df-3ea2b57d-a2ad-4556-ae6f-1815dfc04844 button.colab-df-convert');\n",
              "        buttonEl.style.display =\n",
              "          google.colab.kernel.accessAllowed ? 'block' : 'none';\n",
              "\n",
              "        async function convertToInteractive(key) {\n",
              "          const element = document.querySelector('#df-3ea2b57d-a2ad-4556-ae6f-1815dfc04844');\n",
              "          const dataTable =\n",
              "            await google.colab.kernel.invokeFunction('convertToInteractive',\n",
              "                                                     [key], {});\n",
              "          if (!dataTable) return;\n",
              "\n",
              "          const docLinkHtml = 'Like what you see? Visit the ' +\n",
              "            '<a target=\"_blank\" href=https://colab.research.google.com/notebooks/data_table.ipynb>data table notebook</a>'\n",
              "            + ' to learn more about interactive tables.';\n",
              "          element.innerHTML = '';\n",
              "          dataTable['output_type'] = 'display_data';\n",
              "          await google.colab.output.renderOutput(dataTable, element);\n",
              "          const docLink = document.createElement('div');\n",
              "          docLink.innerHTML = docLinkHtml;\n",
              "          element.appendChild(docLink);\n",
              "        }\n",
              "      </script>\n",
              "    </div>\n",
              "  </div>\n",
              "  "
            ]
          },
          "metadata": {},
          "execution_count": 6
        }
      ]
    },
    {
      "cell_type": "markdown",
      "source": [
        "Count Number of Rows in the data"
      ],
      "metadata": {
        "id": "Eb23ZDPx6kir"
      }
    },
    {
      "cell_type": "code",
      "source": [
        "# How many rows we have\n",
        "df.count()"
      ],
      "metadata": {
        "colab": {
          "base_uri": "https://localhost:8080/"
        },
        "id": "GDfejevCIE7R",
        "outputId": "824660ea-658e-4b1d-8ab9-16015ff5f040"
      },
      "execution_count": 7,
      "outputs": [
        {
          "output_type": "execute_result",
          "data": {
            "text/plain": [
              "4177"
            ]
          },
          "metadata": {},
          "execution_count": 7
        }
      ]
    },
    {
      "cell_type": "markdown",
      "source": [
        "Display the columns in the datafile"
      ],
      "metadata": {
        "id": "ns-MYg656oQa"
      }
    },
    {
      "cell_type": "code",
      "source": [
        "df.columns"
      ],
      "metadata": {
        "colab": {
          "base_uri": "https://localhost:8080/"
        },
        "id": "WK0CrrwlIHs6",
        "outputId": "c49a9ef3-3aed-4705-ef16-b8ba1dcf91d1"
      },
      "execution_count": 8,
      "outputs": [
        {
          "output_type": "execute_result",
          "data": {
            "text/plain": [
              "['Sex',\n",
              " 'Length',\n",
              " 'Diameter',\n",
              " 'Height',\n",
              " 'Whole weight',\n",
              " 'Shucked weight',\n",
              " 'Viscera weight',\n",
              " 'Shell weight',\n",
              " 'Rings']"
            ]
          },
          "metadata": {},
          "execution_count": 8
        }
      ]
    },
    {
      "cell_type": "markdown",
      "source": [
        "Check datatypes of different columns"
      ],
      "metadata": {
        "id": "1oCSCsux6s6b"
      }
    },
    {
      "cell_type": "code",
      "source": [
        "df.dtypes"
      ],
      "metadata": {
        "colab": {
          "base_uri": "https://localhost:8080/"
        },
        "id": "v3MzsXO3IPk3",
        "outputId": "4482b600-7795-46c1-9b88-aef17f3dcd63"
      },
      "execution_count": 9,
      "outputs": [
        {
          "output_type": "execute_result",
          "data": {
            "text/plain": [
              "[('Sex', 'string'),\n",
              " ('Length', 'string'),\n",
              " ('Diameter', 'string'),\n",
              " ('Height', 'string'),\n",
              " ('Whole weight', 'string'),\n",
              " ('Shucked weight', 'string'),\n",
              " ('Viscera weight', 'string'),\n",
              " ('Shell weight', 'string'),\n",
              " ('Rings', 'string')]"
            ]
          },
          "metadata": {},
          "execution_count": 9
        }
      ]
    },
    {
      "cell_type": "markdown",
      "source": [
        "Get Summary of the data"
      ],
      "metadata": {
        "id": "rmwme3sA606I"
      }
    },
    {
      "cell_type": "code",
      "source": [
        "df.describe().toPandas()"
      ],
      "metadata": {
        "colab": {
          "base_uri": "https://localhost:8080/",
          "height": 270
        },
        "id": "RGF-bWPRJc4o",
        "outputId": "f5886036-6247-40f6-f43b-1948570c1697"
      },
      "execution_count": 10,
      "outputs": [
        {
          "output_type": "execute_result",
          "data": {
            "text/plain": [
              "  summary   Sex               Length             Diameter  \\\n",
              "0   count  4177                 4177                 4177   \n",
              "1    mean  None   0.5239920995930099    0.407881254488869   \n",
              "2  stddev  None  0.12009291256479936  0.09923986613365941   \n",
              "3     min     F                0.075                0.055   \n",
              "4     max     M                0.815                 0.65   \n",
              "\n",
              "                Height         Whole weight       Shucked weight  \\\n",
              "0                 4177                 4177                 4177   \n",
              "1   0.1395163993296614     0.82874215944458  0.35936748862820106   \n",
              "2  0.04182705660725731  0.49038901823099795  0.22196294903322014   \n",
              "3                    0                0.002                0.001   \n",
              "4                 1.13               2.8255                1.488   \n",
              "\n",
              "        Viscera weight         Shell weight               Rings  \n",
              "0                 4177                 4177                4177  \n",
              "1  0.18059360785252604  0.23883085946851795   9.933684462532918  \n",
              "2  0.10961425025968445  0.13920266952238622  3.2241690320681315  \n",
              "3               0.0005               0.0015                   1  \n",
              "4                 0.76                1.005                   9  "
            ],
            "text/html": [
              "\n",
              "  <div id=\"df-82f33a1e-4119-4ae1-a3ed-75f04b3fa47d\">\n",
              "    <div class=\"colab-df-container\">\n",
              "      <div>\n",
              "<style scoped>\n",
              "    .dataframe tbody tr th:only-of-type {\n",
              "        vertical-align: middle;\n",
              "    }\n",
              "\n",
              "    .dataframe tbody tr th {\n",
              "        vertical-align: top;\n",
              "    }\n",
              "\n",
              "    .dataframe thead th {\n",
              "        text-align: right;\n",
              "    }\n",
              "</style>\n",
              "<table border=\"1\" class=\"dataframe\">\n",
              "  <thead>\n",
              "    <tr style=\"text-align: right;\">\n",
              "      <th></th>\n",
              "      <th>summary</th>\n",
              "      <th>Sex</th>\n",
              "      <th>Length</th>\n",
              "      <th>Diameter</th>\n",
              "      <th>Height</th>\n",
              "      <th>Whole weight</th>\n",
              "      <th>Shucked weight</th>\n",
              "      <th>Viscera weight</th>\n",
              "      <th>Shell weight</th>\n",
              "      <th>Rings</th>\n",
              "    </tr>\n",
              "  </thead>\n",
              "  <tbody>\n",
              "    <tr>\n",
              "      <th>0</th>\n",
              "      <td>count</td>\n",
              "      <td>4177</td>\n",
              "      <td>4177</td>\n",
              "      <td>4177</td>\n",
              "      <td>4177</td>\n",
              "      <td>4177</td>\n",
              "      <td>4177</td>\n",
              "      <td>4177</td>\n",
              "      <td>4177</td>\n",
              "      <td>4177</td>\n",
              "    </tr>\n",
              "    <tr>\n",
              "      <th>1</th>\n",
              "      <td>mean</td>\n",
              "      <td>None</td>\n",
              "      <td>0.5239920995930099</td>\n",
              "      <td>0.407881254488869</td>\n",
              "      <td>0.1395163993296614</td>\n",
              "      <td>0.82874215944458</td>\n",
              "      <td>0.35936748862820106</td>\n",
              "      <td>0.18059360785252604</td>\n",
              "      <td>0.23883085946851795</td>\n",
              "      <td>9.933684462532918</td>\n",
              "    </tr>\n",
              "    <tr>\n",
              "      <th>2</th>\n",
              "      <td>stddev</td>\n",
              "      <td>None</td>\n",
              "      <td>0.12009291256479936</td>\n",
              "      <td>0.09923986613365941</td>\n",
              "      <td>0.04182705660725731</td>\n",
              "      <td>0.49038901823099795</td>\n",
              "      <td>0.22196294903322014</td>\n",
              "      <td>0.10961425025968445</td>\n",
              "      <td>0.13920266952238622</td>\n",
              "      <td>3.2241690320681315</td>\n",
              "    </tr>\n",
              "    <tr>\n",
              "      <th>3</th>\n",
              "      <td>min</td>\n",
              "      <td>F</td>\n",
              "      <td>0.075</td>\n",
              "      <td>0.055</td>\n",
              "      <td>0</td>\n",
              "      <td>0.002</td>\n",
              "      <td>0.001</td>\n",
              "      <td>0.0005</td>\n",
              "      <td>0.0015</td>\n",
              "      <td>1</td>\n",
              "    </tr>\n",
              "    <tr>\n",
              "      <th>4</th>\n",
              "      <td>max</td>\n",
              "      <td>M</td>\n",
              "      <td>0.815</td>\n",
              "      <td>0.65</td>\n",
              "      <td>1.13</td>\n",
              "      <td>2.8255</td>\n",
              "      <td>1.488</td>\n",
              "      <td>0.76</td>\n",
              "      <td>1.005</td>\n",
              "      <td>9</td>\n",
              "    </tr>\n",
              "  </tbody>\n",
              "</table>\n",
              "</div>\n",
              "      <button class=\"colab-df-convert\" onclick=\"convertToInteractive('df-82f33a1e-4119-4ae1-a3ed-75f04b3fa47d')\"\n",
              "              title=\"Convert this dataframe to an interactive table.\"\n",
              "              style=\"display:none;\">\n",
              "        \n",
              "  <svg xmlns=\"http://www.w3.org/2000/svg\" height=\"24px\"viewBox=\"0 0 24 24\"\n",
              "       width=\"24px\">\n",
              "    <path d=\"M0 0h24v24H0V0z\" fill=\"none\"/>\n",
              "    <path d=\"M18.56 5.44l.94 2.06.94-2.06 2.06-.94-2.06-.94-.94-2.06-.94 2.06-2.06.94zm-11 1L8.5 8.5l.94-2.06 2.06-.94-2.06-.94L8.5 2.5l-.94 2.06-2.06.94zm10 10l.94 2.06.94-2.06 2.06-.94-2.06-.94-.94-2.06-.94 2.06-2.06.94z\"/><path d=\"M17.41 7.96l-1.37-1.37c-.4-.4-.92-.59-1.43-.59-.52 0-1.04.2-1.43.59L10.3 9.45l-7.72 7.72c-.78.78-.78 2.05 0 2.83L4 21.41c.39.39.9.59 1.41.59.51 0 1.02-.2 1.41-.59l7.78-7.78 2.81-2.81c.8-.78.8-2.07 0-2.86zM5.41 20L4 18.59l7.72-7.72 1.47 1.35L5.41 20z\"/>\n",
              "  </svg>\n",
              "      </button>\n",
              "      \n",
              "  <style>\n",
              "    .colab-df-container {\n",
              "      display:flex;\n",
              "      flex-wrap:wrap;\n",
              "      gap: 12px;\n",
              "    }\n",
              "\n",
              "    .colab-df-convert {\n",
              "      background-color: #E8F0FE;\n",
              "      border: none;\n",
              "      border-radius: 50%;\n",
              "      cursor: pointer;\n",
              "      display: none;\n",
              "      fill: #1967D2;\n",
              "      height: 32px;\n",
              "      padding: 0 0 0 0;\n",
              "      width: 32px;\n",
              "    }\n",
              "\n",
              "    .colab-df-convert:hover {\n",
              "      background-color: #E2EBFA;\n",
              "      box-shadow: 0px 1px 2px rgba(60, 64, 67, 0.3), 0px 1px 3px 1px rgba(60, 64, 67, 0.15);\n",
              "      fill: #174EA6;\n",
              "    }\n",
              "\n",
              "    [theme=dark] .colab-df-convert {\n",
              "      background-color: #3B4455;\n",
              "      fill: #D2E3FC;\n",
              "    }\n",
              "\n",
              "    [theme=dark] .colab-df-convert:hover {\n",
              "      background-color: #434B5C;\n",
              "      box-shadow: 0px 1px 3px 1px rgba(0, 0, 0, 0.15);\n",
              "      filter: drop-shadow(0px 1px 2px rgba(0, 0, 0, 0.3));\n",
              "      fill: #FFFFFF;\n",
              "    }\n",
              "  </style>\n",
              "\n",
              "      <script>\n",
              "        const buttonEl =\n",
              "          document.querySelector('#df-82f33a1e-4119-4ae1-a3ed-75f04b3fa47d button.colab-df-convert');\n",
              "        buttonEl.style.display =\n",
              "          google.colab.kernel.accessAllowed ? 'block' : 'none';\n",
              "\n",
              "        async function convertToInteractive(key) {\n",
              "          const element = document.querySelector('#df-82f33a1e-4119-4ae1-a3ed-75f04b3fa47d');\n",
              "          const dataTable =\n",
              "            await google.colab.kernel.invokeFunction('convertToInteractive',\n",
              "                                                     [key], {});\n",
              "          if (!dataTable) return;\n",
              "\n",
              "          const docLinkHtml = 'Like what you see? Visit the ' +\n",
              "            '<a target=\"_blank\" href=https://colab.research.google.com/notebooks/data_table.ipynb>data table notebook</a>'\n",
              "            + ' to learn more about interactive tables.';\n",
              "          element.innerHTML = '';\n",
              "          dataTable['output_type'] = 'display_data';\n",
              "          await google.colab.output.renderOutput(dataTable, element);\n",
              "          const docLink = document.createElement('div');\n",
              "          docLink.innerHTML = docLinkHtml;\n",
              "          element.appendChild(docLink);\n",
              "        }\n",
              "      </script>\n",
              "    </div>\n",
              "  </div>\n",
              "  "
            ]
          },
          "metadata": {},
          "execution_count": 10
        }
      ]
    },
    {
      "cell_type": "markdown",
      "source": [
        "Convert the data types to required datatypes for different columns"
      ],
      "metadata": {
        "id": "2bAtdCAT7TsL"
      }
    },
    {
      "cell_type": "code",
      "source": [
        "from pyspark.sql.functions import col\n",
        "dataset = df.select(col('Sex'),\n",
        "                         col('Length').cast('float'),\n",
        "                         col('Diameter').cast('float'),\n",
        "                         col('Height').cast('float'),\n",
        "                         col('Whole weight').cast('float'),\n",
        "                         col('Shucked weight').cast('float'),\n",
        "                         col('Viscera weight').cast('float'),\n",
        "                         col('Shell weight').cast('float'),\n",
        "                         col('Rings').cast('integer')\n",
        "                        )\n",
        "dataset2=dataset\n",
        "dataset.show()"
      ],
      "metadata": {
        "colab": {
          "base_uri": "https://localhost:8080/"
        },
        "id": "ckT5y66LJg1q",
        "outputId": "9bd269ec-44aa-41f4-c721-3747978465ba"
      },
      "execution_count": 11,
      "outputs": [
        {
          "output_type": "stream",
          "name": "stdout",
          "text": [
            "+---+------+--------+------+------------+--------------+--------------+------------+-----+\n",
            "|Sex|Length|Diameter|Height|Whole weight|Shucked weight|Viscera weight|Shell weight|Rings|\n",
            "+---+------+--------+------+------------+--------------+--------------+------------+-----+\n",
            "|  M| 0.455|   0.365| 0.095|       0.514|        0.2245|         0.101|        0.15|   15|\n",
            "|  M|  0.35|   0.265|  0.09|      0.2255|        0.0995|        0.0485|        0.07|    7|\n",
            "|  F|  0.53|    0.42| 0.135|       0.677|        0.2565|        0.1415|        0.21|    9|\n",
            "|  M|  0.44|   0.365| 0.125|       0.516|        0.2155|         0.114|       0.155|   10|\n",
            "|  I|  0.33|   0.255|  0.08|       0.205|        0.0895|        0.0395|       0.055|    7|\n",
            "|  I| 0.425|     0.3| 0.095|      0.3515|         0.141|        0.0775|        0.12|    8|\n",
            "|  F|  0.53|   0.415|  0.15|      0.7775|         0.237|        0.1415|        0.33|   20|\n",
            "|  F| 0.545|   0.425| 0.125|       0.768|         0.294|        0.1495|        0.26|   16|\n",
            "|  M| 0.475|    0.37| 0.125|      0.5095|        0.2165|        0.1125|       0.165|    9|\n",
            "|  F|  0.55|    0.44|  0.15|      0.8945|        0.3145|         0.151|        0.32|   19|\n",
            "|  F| 0.525|    0.38|  0.14|      0.6065|         0.194|        0.1475|        0.21|   14|\n",
            "|  M|  0.43|    0.35|  0.11|       0.406|        0.1675|         0.081|       0.135|   10|\n",
            "|  M|  0.49|    0.38| 0.135|      0.5415|        0.2175|         0.095|        0.19|   11|\n",
            "|  F| 0.535|   0.405| 0.145|      0.6845|        0.2725|         0.171|       0.205|   10|\n",
            "|  F|  0.47|   0.355|   0.1|      0.4755|        0.1675|        0.0805|       0.185|   10|\n",
            "|  M|   0.5|     0.4|  0.13|      0.6645|         0.258|         0.133|        0.24|   12|\n",
            "|  I| 0.355|    0.28| 0.085|      0.2905|         0.095|        0.0395|       0.115|    7|\n",
            "|  F|  0.44|    0.34|   0.1|       0.451|         0.188|         0.087|        0.13|   10|\n",
            "|  M| 0.365|   0.295|  0.08|      0.2555|         0.097|         0.043|         0.1|    7|\n",
            "|  M|  0.45|    0.32|   0.1|       0.381|        0.1705|         0.075|       0.115|    9|\n",
            "+---+------+--------+------+------------+--------------+--------------+------------+-----+\n",
            "only showing top 20 rows\n",
            "\n"
          ]
        }
      ]
    },
    {
      "cell_type": "markdown",
      "source": [
        "Count for Null values in data"
      ],
      "metadata": {
        "id": "SP8dgXl17fRT"
      }
    },
    {
      "cell_type": "code",
      "source": [
        "from pyspark.sql.functions import isnull, when, count, col\n",
        "dataset.select([count(when(isnull(c), c)).alias(c) for c in dataset.columns]).show()"
      ],
      "metadata": {
        "colab": {
          "base_uri": "https://localhost:8080/"
        },
        "id": "dTahgiEDJ1id",
        "outputId": "25eb82c0-c378-443d-af4f-8533b8788682"
      },
      "execution_count": 12,
      "outputs": [
        {
          "output_type": "stream",
          "name": "stdout",
          "text": [
            "+---+------+--------+------+------------+--------------+--------------+------------+-----+\n",
            "|Sex|Length|Diameter|Height|Whole weight|Shucked weight|Viscera weight|Shell weight|Rings|\n",
            "+---+------+--------+------+------------+--------------+--------------+------------+-----+\n",
            "|  0|     0|       0|     0|           0|             0|             0|           0|    0|\n",
            "+---+------+--------+------+------------+--------------+--------------+------------+-----+\n",
            "\n"
          ]
        }
      ]
    },
    {
      "cell_type": "markdown",
      "source": [
        "Convert Sex Column to a binary datatype"
      ],
      "metadata": {
        "id": "OtlsFu5B7l0C"
      }
    },
    {
      "cell_type": "code",
      "source": [
        "from pyspark.ml.feature import StringIndexer\n",
        "dataset = StringIndexer(\n",
        "    inputCol='Sex', \n",
        "    outputCol='Gender', \n",
        "    handleInvalid='keep').fit(dataset).transform(dataset)\n",
        "\n",
        "dataset.show()"
      ],
      "metadata": {
        "colab": {
          "base_uri": "https://localhost:8080/"
        },
        "id": "j3x2KmyjJ4w6",
        "outputId": "dd51a90d-d05d-44a5-e824-de4bab11e793"
      },
      "execution_count": 13,
      "outputs": [
        {
          "output_type": "stream",
          "name": "stdout",
          "text": [
            "+---+------+--------+------+------------+--------------+--------------+------------+-----+------+\n",
            "|Sex|Length|Diameter|Height|Whole weight|Shucked weight|Viscera weight|Shell weight|Rings|Gender|\n",
            "+---+------+--------+------+------------+--------------+--------------+------------+-----+------+\n",
            "|  M| 0.455|   0.365| 0.095|       0.514|        0.2245|         0.101|        0.15|   15|   0.0|\n",
            "|  M|  0.35|   0.265|  0.09|      0.2255|        0.0995|        0.0485|        0.07|    7|   0.0|\n",
            "|  F|  0.53|    0.42| 0.135|       0.677|        0.2565|        0.1415|        0.21|    9|   2.0|\n",
            "|  M|  0.44|   0.365| 0.125|       0.516|        0.2155|         0.114|       0.155|   10|   0.0|\n",
            "|  I|  0.33|   0.255|  0.08|       0.205|        0.0895|        0.0395|       0.055|    7|   1.0|\n",
            "|  I| 0.425|     0.3| 0.095|      0.3515|         0.141|        0.0775|        0.12|    8|   1.0|\n",
            "|  F|  0.53|   0.415|  0.15|      0.7775|         0.237|        0.1415|        0.33|   20|   2.0|\n",
            "|  F| 0.545|   0.425| 0.125|       0.768|         0.294|        0.1495|        0.26|   16|   2.0|\n",
            "|  M| 0.475|    0.37| 0.125|      0.5095|        0.2165|        0.1125|       0.165|    9|   0.0|\n",
            "|  F|  0.55|    0.44|  0.15|      0.8945|        0.3145|         0.151|        0.32|   19|   2.0|\n",
            "|  F| 0.525|    0.38|  0.14|      0.6065|         0.194|        0.1475|        0.21|   14|   2.0|\n",
            "|  M|  0.43|    0.35|  0.11|       0.406|        0.1675|         0.081|       0.135|   10|   0.0|\n",
            "|  M|  0.49|    0.38| 0.135|      0.5415|        0.2175|         0.095|        0.19|   11|   0.0|\n",
            "|  F| 0.535|   0.405| 0.145|      0.6845|        0.2725|         0.171|       0.205|   10|   2.0|\n",
            "|  F|  0.47|   0.355|   0.1|      0.4755|        0.1675|        0.0805|       0.185|   10|   2.0|\n",
            "|  M|   0.5|     0.4|  0.13|      0.6645|         0.258|         0.133|        0.24|   12|   0.0|\n",
            "|  I| 0.355|    0.28| 0.085|      0.2905|         0.095|        0.0395|       0.115|    7|   1.0|\n",
            "|  F|  0.44|    0.34|   0.1|       0.451|         0.188|         0.087|        0.13|   10|   2.0|\n",
            "|  M| 0.365|   0.295|  0.08|      0.2555|         0.097|         0.043|         0.1|    7|   0.0|\n",
            "|  M|  0.45|    0.32|   0.1|       0.381|        0.1705|         0.075|       0.115|    9|   0.0|\n",
            "+---+------+--------+------+------------+--------------+--------------+------------+-----+------+\n",
            "only showing top 20 rows\n",
            "\n"
          ]
        }
      ]
    },
    {
      "cell_type": "markdown",
      "source": [
        "# **Advanced Transformation of Data**"
      ],
      "metadata": {
        "id": "uEYYCENK7tWF"
      }
    },
    {
      "cell_type": "code",
      "source": [
        "# Assemble all the features with VectorAssembler\n",
        "required_features = ['Gender',\n",
        "                    'Length',\n",
        "                    'Diameter',\n",
        "                    'Height',\n",
        "                    'Whole weight',\n",
        "                    'Shucked weight',\n",
        "                     'Viscera weight',\n",
        "                     'Shell weight'\n",
        "                   ]\n",
        "from pyspark.ml.feature import VectorAssembler\n",
        "assembler = VectorAssembler(inputCols=required_features, outputCol='features')\n",
        "transformed_data = assembler.transform(dataset)\n",
        "\n",
        "transformed_data.show()"
      ],
      "metadata": {
        "colab": {
          "base_uri": "https://localhost:8080/"
        },
        "id": "g7L7pzxzJ8sv",
        "outputId": "d66adc1c-ccae-4632-8c90-1f0df281f4b4"
      },
      "execution_count": 14,
      "outputs": [
        {
          "output_type": "stream",
          "name": "stdout",
          "text": [
            "+---+------+--------+------+------------+--------------+--------------+------------+-----+------+--------------------+\n",
            "|Sex|Length|Diameter|Height|Whole weight|Shucked weight|Viscera weight|Shell weight|Rings|Gender|            features|\n",
            "+---+------+--------+------+------------+--------------+--------------+------------+-----+------+--------------------+\n",
            "|  M| 0.455|   0.365| 0.095|       0.514|        0.2245|         0.101|        0.15|   15|   0.0|[0.0,0.4550000131...|\n",
            "|  M|  0.35|   0.265|  0.09|      0.2255|        0.0995|        0.0485|        0.07|    7|   0.0|[0.0,0.3499999940...|\n",
            "|  F|  0.53|    0.42| 0.135|       0.677|        0.2565|        0.1415|        0.21|    9|   2.0|[2.0,0.5299999713...|\n",
            "|  M|  0.44|   0.365| 0.125|       0.516|        0.2155|         0.114|       0.155|   10|   0.0|[0.0,0.4399999976...|\n",
            "|  I|  0.33|   0.255|  0.08|       0.205|        0.0895|        0.0395|       0.055|    7|   1.0|[1.0,0.3300000131...|\n",
            "|  I| 0.425|     0.3| 0.095|      0.3515|         0.141|        0.0775|        0.12|    8|   1.0|[1.0,0.4250000119...|\n",
            "|  F|  0.53|   0.415|  0.15|      0.7775|         0.237|        0.1415|        0.33|   20|   2.0|[2.0,0.5299999713...|\n",
            "|  F| 0.545|   0.425| 0.125|       0.768|         0.294|        0.1495|        0.26|   16|   2.0|[2.0,0.5450000166...|\n",
            "|  M| 0.475|    0.37| 0.125|      0.5095|        0.2165|        0.1125|       0.165|    9|   0.0|[0.0,0.4749999940...|\n",
            "|  F|  0.55|    0.44|  0.15|      0.8945|        0.3145|         0.151|        0.32|   19|   2.0|[2.0,0.5500000119...|\n",
            "|  F| 0.525|    0.38|  0.14|      0.6065|         0.194|        0.1475|        0.21|   14|   2.0|[2.0,0.5249999761...|\n",
            "|  M|  0.43|    0.35|  0.11|       0.406|        0.1675|         0.081|       0.135|   10|   0.0|[0.0,0.4300000071...|\n",
            "|  M|  0.49|    0.38| 0.135|      0.5415|        0.2175|         0.095|        0.19|   11|   0.0|[0.0,0.4900000095...|\n",
            "|  F| 0.535|   0.405| 0.145|      0.6845|        0.2725|         0.171|       0.205|   10|   2.0|[2.0,0.5350000262...|\n",
            "|  F|  0.47|   0.355|   0.1|      0.4755|        0.1675|        0.0805|       0.185|   10|   2.0|[2.0,0.4699999988...|\n",
            "|  M|   0.5|     0.4|  0.13|      0.6645|         0.258|         0.133|        0.24|   12|   0.0|[0.0,0.5,0.400000...|\n",
            "|  I| 0.355|    0.28| 0.085|      0.2905|         0.095|        0.0395|       0.115|    7|   1.0|[1.0,0.3549999892...|\n",
            "|  F|  0.44|    0.34|   0.1|       0.451|         0.188|         0.087|        0.13|   10|   2.0|[2.0,0.4399999976...|\n",
            "|  M| 0.365|   0.295|  0.08|      0.2555|         0.097|         0.043|         0.1|    7|   0.0|[0.0,0.3650000095...|\n",
            "|  M|  0.45|    0.32|   0.1|       0.381|        0.1705|         0.075|       0.115|    9|   0.0|[0.0,0.4499999880...|\n",
            "+---+------+--------+------+------------+--------------+--------------+------------+-----+------+--------------------+\n",
            "only showing top 20 rows\n",
            "\n"
          ]
        }
      ]
    },
    {
      "cell_type": "markdown",
      "source": [
        "# **Splitting the Data**"
      ],
      "metadata": {
        "id": "uYaEO4bp8uIp"
      }
    },
    {
      "cell_type": "code",
      "source": [
        "splits = transformed_data.randomSplit([0.8, 0.2])\n",
        "train_df = splits[0]\n",
        "test_df = splits[1]"
      ],
      "metadata": {
        "id": "ARUFtZck83vz"
      },
      "execution_count": 16,
      "outputs": []
    },
    {
      "cell_type": "markdown",
      "source": [
        "# **Applying Different Models and Choose one with High Accuracy**"
      ],
      "metadata": {
        "id": "puJWx0Oy88Kj"
      }
    },
    {
      "cell_type": "markdown",
      "source": [
        "**Linear Regression**"
      ],
      "metadata": {
        "id": "I33sjl7P9E_6"
      }
    },
    {
      "cell_type": "code",
      "source": [
        "from pyspark.ml.regression import LinearRegression\n",
        "lr = LinearRegression(featuresCol = 'features', labelCol='Rings', maxIter=10, regParam=0.3, elasticNetParam=0.8)\n",
        "lr_model = lr.fit(train_df)\n",
        "print(\"Coefficients: \" + str(lr_model.coefficients))\n",
        "print(\"Intercept: \" + str(lr_model.intercept))"
      ],
      "metadata": {
        "colab": {
          "base_uri": "https://localhost:8080/"
        },
        "id": "X01OxgrhKAkE",
        "outputId": "590b8507-90d3-4f99-90e9-65386cb8d693"
      },
      "execution_count": 17,
      "outputs": [
        {
          "output_type": "stream",
          "name": "stdout",
          "text": [
            "Coefficients: [0.0,0.0,0.4349330966248969,8.261111524897343,0.0,0.0,0.0,10.389987912251183]\n",
            "Intercept: 6.090876492607674\n"
          ]
        }
      ]
    },
    {
      "cell_type": "code",
      "source": [
        "trainingSummary = lr_model.summary\n",
        "print(\"RMSE: %f\" % trainingSummary.rootMeanSquaredError)\n",
        "print(\"r2: %f\" % trainingSummary.r2)"
      ],
      "metadata": {
        "colab": {
          "base_uri": "https://localhost:8080/"
        },
        "id": "889e_-GyKD1n",
        "outputId": "fbed5273-feef-4fae-92d2-45ef9b5ee27e"
      },
      "execution_count": 18,
      "outputs": [
        {
          "output_type": "stream",
          "name": "stdout",
          "text": [
            "RMSE: 2.478900\n",
            "r2: 0.400528\n"
          ]
        }
      ]
    },
    {
      "cell_type": "code",
      "source": [
        "lr_predictions = lr_model.transform(test_df)\n",
        "lr_predictions.select(\"prediction\",\"Rings\",\"features\").show(5)\n",
        "from pyspark.ml.evaluation import RegressionEvaluator\n",
        "lr_evaluator = RegressionEvaluator(predictionCol=\"prediction\", \\\n",
        "                 labelCol=\"Rings\",metricName=\"r2\")\n",
        "print(\"R Squared (R2) on test data = %g\" % lr_evaluator.evaluate(lr_predictions))"
      ],
      "metadata": {
        "colab": {
          "base_uri": "https://localhost:8080/"
        },
        "id": "ZBtokPwmKGqD",
        "outputId": "57e12335-6662-43de-c81a-8c6c32d0924f"
      },
      "execution_count": 19,
      "outputs": [
        {
          "output_type": "stream",
          "name": "stdout",
          "text": [
            "+-----------------+-----+--------------------+\n",
            "|       prediction|Rings|            features|\n",
            "+-----------------+-----+--------------------+\n",
            "| 7.23456372059074|    7|[2.0,0.3050000071...|\n",
            "|7.423478320529087|    6|[2.0,0.3400000035...|\n",
            "|7.867793275973023|    8|[2.0,0.3700000047...|\n",
            "|7.900629147379243|   10|[2.0,0.3700000047...|\n",
            "|8.203267773907971|    7|[2.0,0.375,0.2949...|\n",
            "+-----------------+-----+--------------------+\n",
            "only showing top 5 rows\n",
            "\n",
            "R Squared (R2) on test data = 0.362588\n"
          ]
        }
      ]
    },
    {
      "cell_type": "markdown",
      "source": [
        "**RMSE on Test Data for Linear Regression Model**"
      ],
      "metadata": {
        "id": "ZlxfVHKS-2Z4"
      }
    },
    {
      "cell_type": "code",
      "source": [
        "test_result = lr_model.evaluate(test_df)\n",
        "print(\"Root Mean Squared Error (RMSE) on test data = %g\" % test_result.rootMeanSquaredError)"
      ],
      "metadata": {
        "colab": {
          "base_uri": "https://localhost:8080/"
        },
        "id": "w92DOXjMKT_7",
        "outputId": "ed12db5b-a5ca-4dd5-9a36-fba235415439"
      },
      "execution_count": 20,
      "outputs": [
        {
          "output_type": "stream",
          "name": "stdout",
          "text": [
            "Root Mean Squared Error (RMSE) on test data = 2.64551\n"
          ]
        }
      ]
    },
    {
      "cell_type": "markdown",
      "source": [
        "**DecisionTreeRegressor**"
      ],
      "metadata": {
        "id": "P_RkmaSj_gZE"
      }
    },
    {
      "cell_type": "code",
      "source": [
        "from pyspark.ml.regression import DecisionTreeRegressor\n",
        "dt = DecisionTreeRegressor(featuresCol ='features', labelCol = 'Rings')\n",
        "dt_model = dt.fit(train_df)\n",
        "dt_predictions = dt_model.transform(test_df)\n",
        "dt_predictions.select(\"prediction\",\"Rings\",\"features\").show(5)"
      ],
      "metadata": {
        "colab": {
          "base_uri": "https://localhost:8080/"
        },
        "id": "G0csB88tKX3r",
        "outputId": "4f7d67e1-17ce-48b4-b1f4-2fe1f28109c5"
      },
      "execution_count": 21,
      "outputs": [
        {
          "output_type": "stream",
          "name": "stdout",
          "text": [
            "+------------------+-----+--------------------+\n",
            "|        prediction|Rings|            features|\n",
            "+------------------+-----+--------------------+\n",
            "| 6.511111111111111|    7|[2.0,0.3050000071...|\n",
            "|5.9361702127659575|    6|[2.0,0.3400000035...|\n",
            "|  8.11111111111111|    8|[2.0,0.3700000047...|\n",
            "|              9.04|   10|[2.0,0.3700000047...|\n",
            "|              9.04|    7|[2.0,0.375,0.2949...|\n",
            "+------------------+-----+--------------------+\n",
            "only showing top 5 rows\n",
            "\n"
          ]
        }
      ]
    },
    {
      "cell_type": "markdown",
      "source": [
        "**RMSE on Test Data for DecisionTreeRegressor**"
      ],
      "metadata": {
        "id": "FctvI5-MAOzX"
      }
    },
    {
      "cell_type": "code",
      "source": [
        "from pyspark.ml.evaluation import RegressionEvaluator\n",
        "dt_evaluator = RegressionEvaluator(\n",
        "    labelCol=\"Rings\", predictionCol=\"prediction\", metricName=\"rmse\")\n",
        "rmse = dt_evaluator.evaluate(dt_predictions)\n",
        "print(\"Root Mean Squared Error (RMSE) on test data = %g\" % rmse)"
      ],
      "metadata": {
        "colab": {
          "base_uri": "https://localhost:8080/"
        },
        "id": "elL4-EK_AN-Q",
        "outputId": "965efb83-1af1-4fc1-b6c1-7a07dac3c40d"
      },
      "execution_count": 22,
      "outputs": [
        {
          "output_type": "stream",
          "name": "stdout",
          "text": [
            "Root Mean Squared Error (RMSE) on test data = 2.44945\n"
          ]
        }
      ]
    },
    {
      "cell_type": "markdown",
      "source": [
        "**GBTRegressor**"
      ],
      "metadata": {
        "id": "Gl6QqAKIAisu"
      }
    },
    {
      "cell_type": "code",
      "source": [
        "from pyspark.ml.regression import GBTRegressor\n",
        "gbt = GBTRegressor(featuresCol = 'features', labelCol = 'Rings', maxIter=10)\n",
        "gbt_model = gbt.fit(train_df)\n",
        "gbt_predictions = gbt_model.transform(test_df)\n",
        "gbt_predictions.select('prediction', 'Rings', 'features').show(5)"
      ],
      "metadata": {
        "colab": {
          "base_uri": "https://localhost:8080/"
        },
        "id": "Gn52KFZUKbOb",
        "outputId": "1ef2edaf-f560-428d-c79f-25a83b8c27c0"
      },
      "execution_count": 23,
      "outputs": [
        {
          "output_type": "stream",
          "name": "stdout",
          "text": [
            "+-----------------+-----+--------------------+\n",
            "|       prediction|Rings|            features|\n",
            "+-----------------+-----+--------------------+\n",
            "|6.487252436806672|    7|[2.0,0.3050000071...|\n",
            "|5.912311538461519|    6|[2.0,0.3400000035...|\n",
            "|8.273471916052658|    8|[2.0,0.3700000047...|\n",
            "| 9.14660238117657|   10|[2.0,0.3700000047...|\n",
            "| 9.17136132263727|    7|[2.0,0.375,0.2949...|\n",
            "+-----------------+-----+--------------------+\n",
            "only showing top 5 rows\n",
            "\n"
          ]
        }
      ]
    },
    {
      "cell_type": "markdown",
      "source": [
        "**RMSE on Test Data for GBTRegressor**"
      ],
      "metadata": {
        "id": "maBK9e1bAtR4"
      }
    },
    {
      "cell_type": "code",
      "source": [
        "gbt_evaluator = RegressionEvaluator(\n",
        "    labelCol=\"Rings\", predictionCol=\"prediction\", metricName=\"rmse\")\n",
        "rmse = gbt_evaluator.evaluate(gbt_predictions)\n",
        "print(\"Root Mean Squared Error (RMSE) on test data = %g\" % rmse)"
      ],
      "metadata": {
        "colab": {
          "base_uri": "https://localhost:8080/"
        },
        "id": "alEjdMihKfsH",
        "outputId": "601c5138-a81d-4636-9256-63ad369f0365"
      },
      "execution_count": 24,
      "outputs": [
        {
          "output_type": "stream",
          "name": "stdout",
          "text": [
            "Root Mean Squared Error (RMSE) on test data = 2.41719\n"
          ]
        }
      ]
    },
    {
      "cell_type": "markdown",
      "source": [
        "## **Since GBTRegressor has least RMSE value on test data so we can consider that this model predicts the most accurate values than all other models**"
      ],
      "metadata": {
        "id": "HoDBMjGMBPe0"
      }
    },
    {
      "cell_type": "markdown",
      "source": [
        "# **VISUALIZATIONS OF DATA**"
      ],
      "metadata": {
        "id": "3hGxG3ZVBlnL"
      }
    },
    {
      "cell_type": "markdown",
      "source": [
        "**AVERAGE RING VALUE FOR THE THREE GENDERS I.E. MALE, FEMALE AND INFANT**"
      ],
      "metadata": {
        "id": "9--4FTRtDz4U"
      }
    },
    {
      "cell_type": "code",
      "source": [
        "import numpy as np\n",
        "import matplotlib.pyplot as plt\n",
        "df = dataset.groupBy(\"Sex\").agg({\"Rings\":\"avg\"})\n",
        "#df.show()\n",
        "gender=list(df.select('Sex').toPandas()['Sex'])\n",
        "avg=list(df.select('avg(Rings)').toPandas()['avg(Rings)'])\n",
        "#gender\n",
        "#avg\n",
        "#np.array(df.select(\"Sex\",\"avg(Rings)\").collect())\n",
        "x = np.array(gender)\n",
        "y = np.array(avg)\n",
        "\n",
        "plt.barh(x,y)\n",
        "for index, value in enumerate(avg):\n",
        "    plt.text(value, index,\n",
        "             str(value))\n",
        "\n",
        "plt.xlabel(\"Average Ring Value\")\n",
        "plt.ylabel(\"Sex\")   \n",
        "plt.show()"
      ],
      "metadata": {
        "id": "Xy3NW26VKik6",
        "colab": {
          "base_uri": "https://localhost:8080/",
          "height": 279
        },
        "outputId": "5f3541d5-ab2a-43d4-fe99-e821ca790d06"
      },
      "execution_count": 25,
      "outputs": [
        {
          "output_type": "display_data",
          "data": {
            "text/plain": [
              "<Figure size 432x288 with 1 Axes>"
            ],
            "image/png": "[encoded data removed]"
          },
          "metadata": {
            "needs_background": "light"
          }
        }
      ]
    },
    {
      "cell_type": "markdown",
      "source": [
        "**COUNT OF RING VALUES FOR THE THREE GENDERS I.E. MALE, FEMALE AND INFANT**"
      ],
      "metadata": {
        "id": "H77qHMXKD9x8"
      }
    },
    {
      "cell_type": "code",
      "source": [
        "import numpy as np\n",
        "import matplotlib.pyplot as plt\n",
        "df = dataset.groupBy(\"Sex\").agg({\"Rings\":\"count\"})\n",
        "#dataset.show()\n",
        "def add_value_label(x_list,y_list):\n",
        "    for i in range(0, len(x_list)+0):\n",
        "        plt.text(i,y_list[i-0],y_list[i-0])\n",
        "        \n",
        "\n",
        "sex=list(df.select('Sex').toPandas()['Sex'])\n",
        "avg=list(df.select('count(Rings)').toPandas()['count(Rings)'])\n",
        "x = np.array(sex)\n",
        "y = np.array(avg)\n",
        "plt.bar(x,y)\n",
        "add_value_label(x,y)\n",
        "#plt.text(0,y[0],y[0])\n",
        "#plt.text(1,y[1],y[1])\n",
        "#plt.text(2,y[2],y[2])\n",
        "plt.xlabel(\"Sex\")\n",
        "plt.ylabel(\"Count Ring Value\")\n",
        "plt.show()"
      ],
      "metadata": {
        "colab": {
          "base_uri": "https://localhost:8080/",
          "height": 283
        },
        "id": "Sm2U5Lvasnyq",
        "outputId": "c7574817-1ec4-4b03-c424-cd7acdddbf2d"
      },
      "execution_count": 26,
      "outputs": [
        {
          "output_type": "display_data",
          "data": {
            "text/plain": [
              "<Figure size 432x288 with 1 Axes>"
            ],
            "image/png": "[encoded data removed]"
          },
          "metadata": {
            "needs_background": "light"
          }
        }
      ]
    },
    {
      "cell_type": "markdown",
      "source": [
        "**AVERAGE SHELL WEIGHT FOR THREE GENDERS I.E. MALE, FEMALE AND INFANT**"
      ],
      "metadata": {
        "id": "vdH3RROxEUH1"
      }
    },
    {
      "cell_type": "code",
      "source": [
        "import numpy as np\n",
        "import matplotlib.pyplot as plt\n",
        "#dataset.show()\n",
        "df = dataset.groupBy(\"Sex\").agg({\"Shell weight\":\"avg\"})\n",
        "#df.show()\n",
        "sex=list(df.select('Sex').toPandas()['Sex'])\n",
        "avg=list(df.select('avg(Shell weight)').toPandas()['avg(Shell weight)'])\n",
        "x = np.array(sex)\n",
        "y = np.array(avg)\n",
        "\n",
        "plt.bar(x,y)\n",
        "plt.text(0,y[0],y[0])\n",
        "plt.text(1,y[1],y[1])\n",
        "plt.text(2,y[2],y[2])   \n",
        "plt.xlabel(\"Sex\")\n",
        "plt.ylabel(\"Average Shell weight\")\n",
        "plt.show()"
      ],
      "metadata": {
        "colab": {
          "base_uri": "https://localhost:8080/",
          "height": 279
        },
        "id": "hxygu5QStPlq",
        "outputId": "1cf733f5-006d-480a-eb1a-a40213a6ec1e"
      },
      "execution_count": 27,
      "outputs": [
        {
          "output_type": "display_data",
          "data": {
            "text/plain": [
              "<Figure size 432x288 with 1 Axes>"
            ],
            "image/png": "[encoded data removed]"
          },
          "metadata": {
            "needs_background": "light"
          }
        }
      ]
    },
    {
      "cell_type": "markdown",
      "source": [
        "**AVERAGE VISCERA WEIGHT FOR THREE GENDERS I.E. MALE, FEMALE AND INFANT**"
      ],
      "metadata": {
        "id": "JJ7zQpCVEZ5G"
      }
    },
    {
      "cell_type": "code",
      "source": [
        "import numpy as np\n",
        "import matplotlib.pyplot as plt\n",
        "#dataset.show()\n",
        "df = dataset.groupBy(\"Sex\").agg({\"Viscera weight\":\"avg\"})\n",
        "#df.show()\n",
        "sex=list(df.select('Sex').toPandas()['Sex'])\n",
        "avg=list(df.select('avg(Viscera weight)').toPandas()['avg(Viscera weight)'])\n",
        "x = np.array(sex)\n",
        "y = np.array(avg)\n",
        "\n",
        "plt.bar(x,y)\n",
        "plt.text(0,y[0],y[0])\n",
        "plt.text(1,y[1],y[1])\n",
        "plt.text(2,y[2],y[2])\n",
        "plt.xlabel(\"Sex\")\n",
        "plt.ylabel(\"Average Viscera weight\")\n",
        "plt.show()"
      ],
      "metadata": {
        "colab": {
          "base_uri": "https://localhost:8080/",
          "height": 279
        },
        "id": "nhuYBVf9tpSm",
        "outputId": "6269d243-6dab-4a2a-acb6-46c78f9a3a41"
      },
      "execution_count": 28,
      "outputs": [
        {
          "output_type": "display_data",
          "data": {
            "text/plain": [
              "<Figure size 432x288 with 1 Axes>"
            ],
            "image/png": "[encoded data removed]"
          },
          "metadata": {
            "needs_background": "light"
          }
        }
      ]
    },
    {
      "cell_type": "markdown",
      "source": [
        "**AVERAGE SHUCKED WEIGHT FOR THREE GENDERS I.E. MALE, FEMALE AND INFANT**"
      ],
      "metadata": {
        "id": "bbqozsAm97NF"
      }
    },
    {
      "cell_type": "code",
      "source": [
        "import numpy as np\n",
        "import matplotlib.pyplot as plt\n",
        "#dataset.show()\n",
        "df = dataset.groupBy(\"Sex\").agg({\"Shucked weight\":\"avg\"})\n",
        "#df.show()\n",
        "sex=list(df.select('Sex').toPandas()['Sex'])\n",
        "avg=list(df.select('avg(Shucked weight)').toPandas()['avg(Shucked weight)'])\n",
        "x = np.array(sex)\n",
        "y = np.array(avg)\n",
        "\n",
        "plt.bar(x,y)\n",
        "plt.text(0,y[0],y[0])\n",
        "plt.text(1,y[1],y[1])\n",
        "plt.text(2,y[2],y[2])\n",
        "plt.xlabel(\"Sex\")\n",
        "plt.ylabel(\"Average Shucked weight\")\n",
        "plt.show()"
      ],
      "metadata": {
        "colab": {
          "base_uri": "https://localhost:8080/",
          "height": 279
        },
        "id": "_GWxKASM-bFd",
        "outputId": "5155c7be-5812-4418-e402-36d74e422588"
      },
      "execution_count": 29,
      "outputs": [
        {
          "output_type": "display_data",
          "data": {
            "text/plain": [
              "<Figure size 432x288 with 1 Axes>"
            ],
            "image/png": "[encoded data removed]"
          },
          "metadata": {
            "needs_background": "light"
          }
        }
      ]
    },
    {
      "cell_type": "markdown",
      "source": [
        "**COUNT OF RING VALUES IN THE DATASET**"
      ],
      "metadata": {
        "id": "5UGf9QXZ_w3G"
      }
    },
    {
      "cell_type": "code",
      "source": [
        "import numpy as np\n",
        "import matplotlib.pyplot as plt\n",
        "#dataset.show()\n",
        "df = dataset.groupBy(\"Rings\").agg({\"Rings\":\"count\"})\n",
        "#df.show()\n",
        "\n",
        "rings=list(df.select('Rings').toPandas()['Rings'])\n",
        "avg=list(df.select('count(Rings)').toPandas()['count(Rings)'])\n",
        "x = np.array(rings)\n",
        "y = np.array(avg)\n",
        "plt.rcParams[\"figure.figsize\"] = (10, 5)\n",
        "plt.bar(x,y)\n",
        "\n",
        "plt.xlabel(\"Rings\")\n",
        "plt.ylabel(\"Count Ring values\")\n",
        "plt.show()"
      ],
      "metadata": {
        "colab": {
          "base_uri": "https://localhost:8080/",
          "height": 334
        },
        "id": "4J9jFVTz-h-E",
        "outputId": "21a55089-1c1c-42f0-d2f1-bda7efe6faf9"
      },
      "execution_count": 30,
      "outputs": [
        {
          "output_type": "display_data",
          "data": {
            "text/plain": [
              "<Figure size 720x360 with 1 Axes>"
            ],
            "image/png": "[encoded data removed]"
          },
          "metadata": {
            "needs_background": "light"
          }
        }
      ]
    },
    {
      "cell_type": "markdown",
      "source": [
        "**AVERAGE DIAMETER FOR THE DIFFERENT RINGS IN DATASET**"
      ],
      "metadata": {
        "id": "4SUY0KqbAFH1"
      }
    },
    {
      "cell_type": "code",
      "source": [
        "import numpy as np\n",
        "import matplotlib.pyplot as plt\n",
        "#dataset.show()\n",
        "df = dataset.groupBy(\"Rings\").agg({\"Diameter\":\"avg\"})\n",
        "rings=list(df.select('Rings').toPandas()['Rings'])\n",
        "avg=list(df.select('avg(Diameter)').toPandas()['avg(Diameter)'])\n",
        "x = np.array(rings)\n",
        "y = np.array(avg)\n",
        "  \n",
        "plt.scatter(x, y)\n",
        "plt.xlabel('Ring value')\n",
        "plt.ylabel('Average Diameter')\n",
        "plt.show()"
      ],
      "metadata": {
        "colab": {
          "base_uri": "https://localhost:8080/",
          "height": 334
        },
        "id": "cl_OQBRJ-i8m",
        "outputId": "03be5737-ebe7-4e08-8d7e-f7f62860e324"
      },
      "execution_count": 31,
      "outputs": [
        {
          "output_type": "display_data",
          "data": {
            "text/plain": [
              "<Figure size 720x360 with 1 Axes>"
            ],
            "image/png": "[encoded data removed]"
          },
          "metadata": {
            "needs_background": "light"
          }
        }
      ]
    },
    {
      "cell_type": "markdown",
      "source": [
        "# **Business Questions**"
      ],
      "metadata": {
        "id": "zTbHBwShNGhU"
      }
    },
    {
      "cell_type": "code",
      "source": [
        "from pyspark.sql.types import *\n",
        "\n",
        "Abalone = \"Abalone.csv\"\n",
        "\n",
        "# create schema\n",
        "AbaloneSchema = StructType([\n",
        "  StructField(\"Sex\", StringType(), True),\n",
        "  StructField(\"Length\", DoubleType(), True),\n",
        "  StructField(\"Diameter\", DoubleType(), True),\n",
        "  StructField(\"Height\", DoubleType(), True),\n",
        "  StructField(\"Whole weight\", DoubleType(), True),\n",
        "  StructField(\"Shucked weight\", DoubleType(), True),\n",
        "  StructField(\"Viscera weight\", DoubleType(), True),\n",
        "  StructField(\"Shell weight\", DoubleType(), True),\n",
        "  StructField(\"Rings\", DoubleType(), True)])\n",
        "\n",
        "# create DataFrame \n",
        "df_anal = (\n",
        "    spark\n",
        "      .read\n",
        "      .schema(AbaloneSchema)\n",
        "      .csv(Abalone)\n",
        ")\n",
        "\n",
        "# create table for SQL analytics\n",
        "df_anal=spark.read.option(\"header\",\"true\").csv(Abalone).withColumnRenamed(\"Whole weight\",\"Whole_weight\").withColumnRenamed(\"Shucked weight\",\"Shucked_weight\")\n",
        "df_anal.createOrReplaceTempView(\"abalone_anal\")\n",
        "df_anal.show()"
      ],
      "metadata": {
        "colab": {
          "base_uri": "https://localhost:8080/"
        },
        "id": "4f1rhw8ILNWq",
        "outputId": "97226f3e-c1b0-4faf-df62-201ec9f4805c"
      },
      "execution_count": 33,
      "outputs": [
        {
          "output_type": "stream",
          "name": "stdout",
          "text": [
            "+---+------+--------+------+------------+--------------+--------------+------------+-----+\n",
            "|Sex|Length|Diameter|Height|Whole_weight|Shucked_weight|Viscera weight|Shell weight|Rings|\n",
            "+---+------+--------+------+------------+--------------+--------------+------------+-----+\n",
            "|  M| 0.455|   0.365| 0.095|       0.514|        0.2245|         0.101|        0.15|   15|\n",
            "|  M|  0.35|   0.265|  0.09|      0.2255|        0.0995|        0.0485|        0.07|    7|\n",
            "|  F|  0.53|    0.42| 0.135|       0.677|        0.2565|        0.1415|        0.21|    9|\n",
            "|  M|  0.44|   0.365| 0.125|       0.516|        0.2155|         0.114|       0.155|   10|\n",
            "|  I|  0.33|   0.255|  0.08|       0.205|        0.0895|        0.0395|       0.055|    7|\n",
            "|  I| 0.425|     0.3| 0.095|      0.3515|         0.141|        0.0775|        0.12|    8|\n",
            "|  F|  0.53|   0.415|  0.15|      0.7775|         0.237|        0.1415|        0.33|   20|\n",
            "|  F| 0.545|   0.425| 0.125|       0.768|         0.294|        0.1495|        0.26|   16|\n",
            "|  M| 0.475|    0.37| 0.125|      0.5095|        0.2165|        0.1125|       0.165|    9|\n",
            "|  F|  0.55|    0.44|  0.15|      0.8945|        0.3145|         0.151|        0.32|   19|\n",
            "|  F| 0.525|    0.38|  0.14|      0.6065|         0.194|        0.1475|        0.21|   14|\n",
            "|  M|  0.43|    0.35|  0.11|       0.406|        0.1675|         0.081|       0.135|   10|\n",
            "|  M|  0.49|    0.38| 0.135|      0.5415|        0.2175|         0.095|        0.19|   11|\n",
            "|  F| 0.535|   0.405| 0.145|      0.6845|        0.2725|         0.171|       0.205|   10|\n",
            "|  F|  0.47|   0.355|   0.1|      0.4755|        0.1675|        0.0805|       0.185|   10|\n",
            "|  M|   0.5|     0.4|  0.13|      0.6645|         0.258|         0.133|        0.24|   12|\n",
            "|  I| 0.355|    0.28| 0.085|      0.2905|         0.095|        0.0395|       0.115|    7|\n",
            "|  F|  0.44|    0.34|   0.1|       0.451|         0.188|         0.087|        0.13|   10|\n",
            "|  M| 0.365|   0.295|  0.08|      0.2555|         0.097|         0.043|         0.1|    7|\n",
            "|  M|  0.45|    0.32|   0.1|       0.381|        0.1705|         0.075|       0.115|    9|\n",
            "+---+------+--------+------+------------+--------------+--------------+------------+-----+\n",
            "only showing top 20 rows\n",
            "\n"
          ]
        }
      ]
    },
    {
      "cell_type": "code",
      "source": [
        "#Import related libraries for data visualization\n",
        "\n",
        "import matplotlib.pyplot as plt\n",
        "import numpy as np\n",
        "import pandas as pd"
      ],
      "metadata": {
        "id": "gGQTkXX9NT6f"
      },
      "execution_count": 34,
      "outputs": []
    },
    {
      "cell_type": "markdown",
      "source": [
        "#Q1 - The Proportion of Sex of Abalone"
      ],
      "metadata": {
        "id": "9iLzsx9PNZQb"
      }
    },
    {
      "cell_type": "code",
      "source": [
        "#Q1 - The Proportion of Sex of Abalone\n",
        "\n",
        "df_gender = spark.sql(\"SELECT Sex,Count(Rings) as Count FROM abalone_anal Group by Sex\")\n",
        "df_gender.show()\n"
      ],
      "metadata": {
        "colab": {
          "base_uri": "https://localhost:8080/"
        },
        "id": "fIpc8qrYNVek",
        "outputId": "652a1f02-3bf1-48fc-c584-3c9e5200e404"
      },
      "execution_count": 35,
      "outputs": [
        {
          "output_type": "stream",
          "name": "stdout",
          "text": [
            "+---+-----+\n",
            "|Sex|Count|\n",
            "+---+-----+\n",
            "|  M| 1528|\n",
            "|  I| 1342|\n",
            "|  F| 1307|\n",
            "+---+-----+\n",
            "\n"
          ]
        }
      ]
    },
    {
      "cell_type": "code",
      "source": [
        "#Running Query\n",
        "plt.rcParams[\"figure.figsize\"] = [8, 5]\n",
        "df1 = df_gender.toPandas()\n",
        "df2 = df_gender.toPandas()\n",
        "#Creating Visualization\n",
        "fig = plt.pie(df2['Count'], autopct='%1.1f%%', startangle=140,labels=df2['Sex'])\n",
        "plt.title('The Propotion of Sex of Abalone')\n",
        "plt.show()"
      ],
      "metadata": {
        "colab": {
          "base_uri": "https://localhost:8080/",
          "height": 319
        },
        "id": "PCJqfNvrNi5N",
        "outputId": "a1799938-6324-4fa8-f1c6-e5471314bc12"
      },
      "execution_count": 36,
      "outputs": [
        {
          "output_type": "display_data",
          "data": {
            "text/plain": [
              "<Figure size 576x360 with 1 Axes>"
            ],
            "image/png": "[encoded data removed]"
          },
          "metadata": {}
        }
      ]
    },
    {
      "cell_type": "markdown",
      "source": [
        "#Q2 - Top Length of Female and Male Abalone"
      ],
      "metadata": {
        "id": "zYuUmKT5NnCt"
      }
    },
    {
      "cell_type": "code",
      "source": [
        "#Q2 - Top Length of Female and Male Abalone\n",
        "\n",
        "df_length_m = spark.sql(\"SELECT Sex,Length FROM abalone_anal where Sex='M' order by 'Length'\")\n",
        "df_m_top=df_length_m.sort(col(\"Length\").desc())\n",
        "df_m_top.show(1)\n",
        "\n",
        "df_length_f = spark.sql(\"SELECT Sex,Length FROM abalone_anal where Sex='F' order by 'Length'\")\n",
        "df_f_top=df_length_f.sort(col(\"Length\").desc())\n",
        "df_f_top.show(1)\n"
      ],
      "metadata": {
        "colab": {
          "base_uri": "https://localhost:8080/"
        },
        "id": "p4AwS_iPNk1j",
        "outputId": "dad868cd-894c-46bc-eac5-05dc2c4db3a6"
      },
      "execution_count": 37,
      "outputs": [
        {
          "output_type": "stream",
          "name": "stdout",
          "text": [
            "+---+------+\n",
            "|Sex|Length|\n",
            "+---+------+\n",
            "|  M|  0.78|\n",
            "+---+------+\n",
            "only showing top 1 row\n",
            "\n",
            "+---+------+\n",
            "|Sex|Length|\n",
            "+---+------+\n",
            "|  F| 0.815|\n",
            "+---+------+\n",
            "only showing top 1 row\n",
            "\n"
          ]
        }
      ]
    },
    {
      "cell_type": "markdown",
      "source": [
        "#Q3 - Average Whole Weight of Abalone"
      ],
      "metadata": {
        "id": "u-3HwshPN5Cf"
      }
    },
    {
      "cell_type": "code",
      "source": [
        "#Q3 - Averarge Whole Weight of Abalone\n",
        "\n",
        "df_whole_weight = spark.sql(\"SELECT Sex,round(Avg(Whole_weight),2) as Average_Whole_Weight FROM abalone_anal Group by Sex order by Average_Whole_Weight\")\n",
        "df_whole_weight.show()\n"
      ],
      "metadata": {
        "colab": {
          "base_uri": "https://localhost:8080/"
        },
        "id": "xuDkn1u0N0id",
        "outputId": "b1bb77fa-2eed-43c6-b1af-0bda41779391"
      },
      "execution_count": 38,
      "outputs": [
        {
          "output_type": "stream",
          "name": "stdout",
          "text": [
            "+---+--------------------+\n",
            "|Sex|Average_Whole_Weight|\n",
            "+---+--------------------+\n",
            "|  I|                0.43|\n",
            "|  M|                0.99|\n",
            "|  F|                1.05|\n",
            "+---+--------------------+\n",
            "\n"
          ]
        }
      ]
    },
    {
      "cell_type": "code",
      "source": [
        "df_pd= df_whole_weight.toPandas()\n",
        "\n",
        "# Set the figure size\n",
        "plt.rcParams[\"figure.figsize\"] = [7,4]\n",
        "plt.rcParams[\"figure.autolayout\"] = True\n",
        "\n",
        "rows = ['Sex']\n",
        "columns = ['Average_Whole_Weight']\n",
        "result = df_pd.head(3)\n",
        "result.set_index(\"Sex\").plot.bar(title='Averarge Whole Weight',xlabel='Sex', ylabel = 'Average Whole Weight',legend=False,color='y')\n",
        "\n",
        "plt.show()"
      ],
      "metadata": {
        "colab": {
          "base_uri": "https://localhost:8080/",
          "height": 297
        },
        "id": "OJ-eCUqqN21N",
        "outputId": "a928aed7-3f91-423e-de6b-db02b9a4a276"
      },
      "execution_count": 39,
      "outputs": [
        {
          "output_type": "display_data",
          "data": {
            "text/plain": [
              "<Figure size 504x288 with 1 Axes>"
            ],
            "image/png": "[encoded data removed]"
          },
          "metadata": {
            "needs_background": "light"
          }
        }
      ]
    },
    {
      "cell_type": "markdown",
      "source": [
        "#Q4 - Comparison of Whole and Shucked Weight (Average)"
      ],
      "metadata": {
        "id": "xSd5o2fLOHft"
      }
    },
    {
      "cell_type": "code",
      "source": [
        "#Q4 - Comparison of Whole and Shucked Weight (Average)\n",
        "\n",
        "df_whole_shucked = spark.sql(\"SELECT Sex,round(Avg(Whole_weight),2) as Average_Whole_Weight,\\\n",
        "round(Avg(Shucked_weight),2) as Average_Shucked_Weight FROM abalone_anal Group by Sex order by Average_Whole_Weight\")\n",
        "df_whole_shucked.show()"
      ],
      "metadata": {
        "colab": {
          "base_uri": "https://localhost:8080/"
        },
        "id": "tXzKRGckOCLG",
        "outputId": "aab2350d-92f3-4d06-ff10-26d9ce662172"
      },
      "execution_count": 40,
      "outputs": [
        {
          "output_type": "stream",
          "name": "stdout",
          "text": [
            "+---+--------------------+----------------------+\n",
            "|Sex|Average_Whole_Weight|Average_Shucked_Weight|\n",
            "+---+--------------------+----------------------+\n",
            "|  I|                0.43|                  0.19|\n",
            "|  M|                0.99|                  0.43|\n",
            "|  F|                1.05|                  0.45|\n",
            "+---+--------------------+----------------------+\n",
            "\n"
          ]
        }
      ]
    },
    {
      "cell_type": "code",
      "source": [
        "#import numpy as np\n",
        "#import matplotlib.pyplot as plt\n",
        "df_pd= df_whole_shucked.toPandas()\n",
        "plt.rcParams[\"figure.figsize\"] = [8, 5]\n",
        "Sex = ['I','M','F']\n",
        "Average_Whole_Weight = [0.43, 0.99, 1.05]\n",
        "Average_Shucked_Weight = [0.19, 0.43, 0.45]\n",
        "x = np.arange(len(Sex))\n",
        "width = 0.3\n",
        "plt.bar(x, Average_Whole_Weight, width, color='m', label='Average Whole Weight')\n",
        "plt.bar(x + width, Average_Shucked_Weight, width, color='c', label='Average Shucked Weight')\n",
        "plt.xticks(x + width / 2, Sex)\n",
        "plt.ylabel('Weight')\n",
        "plt.title('Comparison of Whole and Shucked Weight (Average)')\n",
        "plt.legend(bbox_to_anchor=(1,1), loc='upper left')\n",
        "plt.show()"
      ],
      "metadata": {
        "colab": {
          "base_uri": "https://localhost:8080/",
          "height": 369
        },
        "id": "zT7SOQjdOEPp",
        "outputId": "1a70ccf1-94e7-4d4e-ac70-9b7f90f25724"
      },
      "execution_count": 41,
      "outputs": [
        {
          "output_type": "display_data",
          "data": {
            "text/plain": [
              "<Figure size 576x360 with 1 Axes>"
            ],
            "image/png": "[encoded data removed]"
          },
          "metadata": {
            "needs_background": "light"
          }
        }
      ]
    },
    {
      "cell_type": "markdown",
      "source": [
        "#Q5 - The Distribution of Rings of Abalone (Qty)"
      ],
      "metadata": {
        "id": "9qsisDYyOsge"
      }
    },
    {
      "cell_type": "code",
      "source": [
        "#Q5 - The Distribution of Rings of Ablalone (Qty)\n",
        "\n",
        "df_ring = spark.sql(\"SELECT Rings,count(Rings) FROM abalone_anal group by Rings\")\n",
        "df_ring_1=df_ring.sort(col(\"count(Rings)\").desc())\n",
        "df_ring_1.show()\n",
        "\n"
      ],
      "metadata": {
        "colab": {
          "base_uri": "https://localhost:8080/"
        },
        "id": "vaLG95q3OMzG",
        "outputId": "31873cb2-378b-4d61-b217-508515c87e62"
      },
      "execution_count": 42,
      "outputs": [
        {
          "output_type": "stream",
          "name": "stdout",
          "text": [
            "+-----+------------+\n",
            "|Rings|count(Rings)|\n",
            "+-----+------------+\n",
            "|    9|         689|\n",
            "|   10|         634|\n",
            "|    8|         568|\n",
            "|   11|         487|\n",
            "|    7|         391|\n",
            "|   12|         267|\n",
            "|    6|         259|\n",
            "|   13|         203|\n",
            "|   14|         126|\n",
            "|    5|         115|\n",
            "|   15|         103|\n",
            "|   16|          67|\n",
            "|   17|          58|\n",
            "|    4|          57|\n",
            "|   18|          42|\n",
            "|   19|          32|\n",
            "|   20|          26|\n",
            "|    3|          15|\n",
            "|   21|          14|\n",
            "|   23|           9|\n",
            "+-----+------------+\n",
            "only showing top 20 rows\n",
            "\n"
          ]
        }
      ]
    },
    {
      "cell_type": "code",
      "source": [
        "#Scatter Plot 1\n",
        "plt.rcParams[\"figure.figsize\"] = [7, 4]\n",
        "\n",
        "df3 = df_ring.toPandas()\n",
        "fig=plt.figure()\n",
        "ax=fig.add_axes([0,0,1,1])\n",
        "ax.scatter(df3['Rings'],df3['count(Rings)'], color='r')\n",
        "ax.set_xlabel('Rings')\n",
        "ax.set_ylabel('Count')\n",
        "ax.set_title('scatter plot')\n",
        "plt.title('The Distribution of Rings of Ablalone (Qty)')\n",
        "plt.show()\n",
        "\n",
        "#Scatter Plot 2\n",
        "df3 = df_ring_1.toPandas()\n",
        "fig=plt.figure()\n",
        "ax=fig.add_axes([0,0,1,1])\n",
        "ax.scatter(df3['Rings'],df3['count(Rings)'], color='r')\n",
        "ax.set_xlabel('Rings')\n",
        "ax.set_ylabel('Count')\n",
        "ax.set_title('scatter plot')\n",
        "plt.title('The Distribution of Rings of Ablalone (Qty)')\n",
        "plt.show()"
      ],
      "metadata": {
        "colab": {
          "base_uri": "https://localhost:8080/",
          "height": 770
        },
        "id": "Ge4STcCwOPbs",
        "outputId": "bee9bfa5-4361-412f-eb7b-80dadd819e61"
      },
      "execution_count": 43,
      "outputs": [
        {
          "output_type": "stream",
          "name": "stderr",
          "text": [
            "/usr/local/lib/python3.7/dist-packages/IPython/core/pylabtools.py:125: UserWarning: This figure includes Axes that are not compatible with tight_layout, so results might be incorrect.\n",
            "  fig.canvas.print_figure(bytes_io, **kw)\n"
          ]
        },
        {
          "output_type": "display_data",
          "data": {
            "text/plain": [
              "<Figure size 504x288 with 1 Axes>"
            ],
            "image/png": "[encoded data removed]"
          },
          "metadata": {
            "needs_background": "light"
          }
        },
        {
          "output_type": "display_data",
          "data": {
            "text/plain": [
              "<Figure size 504x288 with 1 Axes>"
            ],
            "image/png": "[encoded data removed]"
          },
          "metadata": {
            "needs_background": "light"
          }
        }
      ]
    },
    {
      "cell_type": "markdown",
      "source": [
        "References:-\n",
        "https://towardsdatascience.com/building-a-linear-regression-with-pyspark-and-mllib-d065c3ba246a\n",
        "\n",
        "https://www.researchgate.net/post/Whats-the-acceptable-value-of-Root-Mean-Square-Error-RMSE-Sum-of-Squares-due-to-error-SSE-and-Adjusted-R-square\n",
        "\n",
        "https://www.nvidia.com/en-us/ai-data-science/spark-ebook/predictive-analytics-spark-machine-learning/\n"
      ],
      "metadata": {
        "id": "Mq_A5uXOB3mk"
      }
    }
  ]
}