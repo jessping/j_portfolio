{
 "cells": [
  {
   "cell_type": "markdown",
   "id": "08447cc6",
   "metadata": {},
   "source": [
    "## Data Set Information:\n",
    "\n",
    "The dataset was downloaded from https://catalog.data.gov/dataset/employee-compensation \n",
    "\n",
    "## Attribute Information:\n",
    "Input variables:\n",
    "\n",
    "1 - Organization Group Code\n",
    "\n",
    "2 - Job Family Code\n",
    "\n",
    "3 - Job Code\n",
    "\n",
    "4 - Year Type\n",
    "\n",
    "5 - Year\n",
    "\n",
    "6 - Organization Group\n",
    "\n",
    "7 - Department Code\n",
    "\n",
    "8 - Department\n",
    "\n",
    "9 - Union Code\n",
    "\n",
    "10 - Union\n",
    "\n",
    "11 - Job Family\n",
    "\n",
    "12 - Job\n",
    "\n",
    "13 - Employee Identifier\n",
    "\n",
    "14 - Salaries\n",
    "\n",
    "15 - Overtime\n",
    "\n",
    "16 - Other Salaries\n",
    "\n",
    "17 - Total Salary\n",
    "\n",
    "18 - Retirement\n",
    "\n",
    "19 - Health and Dental\n",
    "\n",
    "20 - Other Benefits\n",
    "\n",
    "21 - Total Benefits\n",
    "\n",
    "22 - Total Compensation"
   ]
  },
  {
   "cell_type": "code",
   "execution_count": 1,
   "id": "8480cee5",
   "metadata": {},
   "outputs": [],
   "source": [
    "#import the libraries\n",
    "\n",
    "import pandas as pd\n",
    "import numpy as np\n",
    "import matplotlib.pyplot as plt\n",
    "import seaborn as sns\n",
    "import sklearn"
   ]
  },
  {
   "cell_type": "code",
   "execution_count": 2,
   "id": "282515ad",
   "metadata": {},
   "outputs": [],
   "source": [
    "#Import the dataset\n",
    "\n",
    "dataset=pd.read_csv(\"Employee_Compensation.csv\")"
   ]
  },
  {
   "cell_type": "code",
   "execution_count": 3,
   "id": "7aaf2cc3",
   "metadata": {},
   "outputs": [
    {
     "data": {
      "text/plain": [
       "<bound method DataFrame.info of         Organization Group Code Job Family Code Job Code Year Type  Year  \\\n",
       "0                             1            1000     1021  Calendar  2013   \n",
       "1                             1            1000     1023  Calendar  2013   \n",
       "2                             1            1000     1031  Calendar  2013   \n",
       "3                             1            1000     1054  Calendar  2013   \n",
       "4                             1            1000     1062  Calendar  2013   \n",
       "...                         ...             ...      ...       ...   ...   \n",
       "446205                        4            2700     2736    Fiscal  2014   \n",
       "446206                        4            2700     2736    Fiscal  2014   \n",
       "446207                        4            2700     2736    Fiscal  2014   \n",
       "446208                        4            2700     2736    Fiscal  2014   \n",
       "446209                        4            2700     2736    Fiscal  2014   \n",
       "\n",
       "       Organization Group Department Code           Department  Union Code  \\\n",
       "0       Public Protection             ADP  ADP Adult Probation        21.0   \n",
       "1       Public Protection             ADP  ADP Adult Probation        21.0   \n",
       "2       Public Protection             ADP  ADP Adult Probation        21.0   \n",
       "3       Public Protection             ADP  ADP Adult Probation        21.0   \n",
       "4       Public Protection             ADP  ADP Adult Probation        21.0   \n",
       "...                   ...             ...                  ...         ...   \n",
       "446205   Community Health             DPH    DPH Public Health       250.0   \n",
       "446206   Community Health             DPH    DPH Public Health       250.0   \n",
       "446207   Community Health             DPH    DPH Public Health       250.0   \n",
       "446208   Community Health             DPH    DPH Public Health       250.0   \n",
       "446209   Community Health             DPH    DPH Public Health       250.0   \n",
       "\n",
       "                                                  Union  ...  \\\n",
       "0       Prof & Tech Engineers - Miscellaneous, Local 21  ...   \n",
       "1       Prof & Tech Engineers - Miscellaneous, Local 21  ...   \n",
       "2       Prof & Tech Engineers - Miscellaneous, Local 21  ...   \n",
       "3       Prof & Tech Engineers - Miscellaneous, Local 21  ...   \n",
       "4       Prof & Tech Engineers - Miscellaneous, Local 21  ...   \n",
       "...                                                 ...  ...   \n",
       "446205                SEIU - Health Workers, Local 1021  ...   \n",
       "446206                SEIU - Health Workers, Local 1021  ...   \n",
       "446207                SEIU - Health Workers, Local 1021  ...   \n",
       "446208                SEIU - Health Workers, Local 1021  ...   \n",
       "446209                SEIU - Health Workers, Local 1021  ...   \n",
       "\n",
       "       Employee Identifier   Salaries  Overtime  Other Salaries  Total Salary  \\\n",
       "0                  37730.0   57534.65      0.00            0.00      57534.65   \n",
       "1                  26574.0   57678.50      0.00            0.00      57678.50   \n",
       "2                   8148.0   63532.93      0.00            0.00      63532.93   \n",
       "3                  27436.0  101274.51      0.00        -7058.59      94215.92   \n",
       "4                  37730.0    5084.00      0.00            0.00       5084.00   \n",
       "...                    ...        ...       ...             ...           ...   \n",
       "446205             35271.0   46739.60      0.00           81.50      46821.10   \n",
       "446206             35335.0   53852.60   1116.87         2490.30      57459.77   \n",
       "446207             35409.0   18583.60      0.00            0.00      18583.60   \n",
       "446208             35647.0    1346.10      0.00           16.80       1362.90   \n",
       "446209                 NaN        NaN       NaN             NaN           NaN   \n",
       "\n",
       "        Retirement  Health and Dental  Other Benefits  Total Benefits  \\\n",
       "0         11253.16           11961.34         4532.63        27747.13   \n",
       "1         10284.88            7176.80         4755.14        22216.82   \n",
       "2         12495.83           12918.24         4702.71        30116.78   \n",
       "3         19644.45           12918.24         7458.76        40021.45   \n",
       "4          1083.90             956.91          387.50         2428.31   \n",
       "...            ...                ...             ...             ...   \n",
       "446205     9982.28           10858.58         3863.40        24704.26   \n",
       "446206    11614.93           12512.55         4733.30        28860.78   \n",
       "446207        0.00            5177.61         1438.74         6616.35   \n",
       "446208      231.70               0.00          107.67          339.37   \n",
       "446209         NaN                NaN             NaN             NaN   \n",
       "\n",
       "        Total Compensation  \n",
       "0                 85281.78  \n",
       "1                 79895.32  \n",
       "2                 93649.71  \n",
       "3                134237.37  \n",
       "4                  7512.31  \n",
       "...                    ...  \n",
       "446205            71525.36  \n",
       "446206            86320.55  \n",
       "446207            25199.95  \n",
       "446208             1702.27  \n",
       "446209                 NaN  \n",
       "\n",
       "[446210 rows x 22 columns]>"
      ]
     },
     "execution_count": 3,
     "metadata": {},
     "output_type": "execute_result"
    }
   ],
   "source": [
    "dataset.info"
   ]
  },
  {
   "cell_type": "markdown",
   "id": "54b3ea4f",
   "metadata": {},
   "source": [
    "## Data Pre-Processing"
   ]
  },
  {
   "cell_type": "code",
   "execution_count": 4,
   "id": "a0e681eb",
   "metadata": {},
   "outputs": [],
   "source": [
    "#Numerise the Organization Group for further analysis\n",
    "\n",
    "dataset=dataset.replace('Public Protection',0)\n",
    "dataset=dataset.replace('Public Works, Transportation & Commerce',1)\n",
    "dataset=dataset.replace('Human Welfare & Neighborhood Development',2)\n",
    "dataset=dataset.replace('Community Health',3)\n",
    "dataset=dataset.replace('Culture & Recreation',4)\n",
    "dataset=dataset.replace('General Administration & Finance',5)\n",
    "dataset=dataset.replace('General City Responsibilities',6)\n",
    "\n",
    "#Drop the code features in dataset\n",
    "dataset=dataset.drop(['Organization Group Code','Job Family Code','Job Code','Department Code','Union Code'],axis=1)"
   ]
  },
  {
   "cell_type": "markdown",
   "id": "d5e9a943",
   "metadata": {},
   "source": [
    "## Missing Value Ratio"
   ]
  },
  {
   "cell_type": "code",
   "execution_count": 5,
   "id": "21f859a4",
   "metadata": {},
   "outputs": [
    {
     "data": {
      "text/plain": [
       "Year Type              0.000000\n",
       "Year                   0.000000\n",
       "Organization Group     0.000000\n",
       "Department             0.000000\n",
       "Union                  0.030479\n",
       "Job Family             0.000000\n",
       "Job                    0.000448\n",
       "Employee Identifier    0.000224\n",
       "Salaries               0.000224\n",
       "Overtime               0.000224\n",
       "Other Salaries         0.000224\n",
       "Total Salary           0.000224\n",
       "Retirement             0.000224\n",
       "Health and Dental      0.000224\n",
       "Other Benefits         0.000224\n",
       "Total Benefits         0.000224\n",
       "Total Compensation     0.000224\n",
       "dtype: float64"
      ]
     },
     "execution_count": 5,
     "metadata": {},
     "output_type": "execute_result"
    }
   ],
   "source": [
    "# checking the percentage of missing values in each variable\n",
    "\n",
    "dataset.isnull().sum()/len(dataset)*100"
   ]
  },
  {
   "cell_type": "code",
   "execution_count": 6,
   "id": "9b3cb258",
   "metadata": {},
   "outputs": [],
   "source": [
    "#check if any are more than the threshold\n",
    "null_percentages = dataset.isnull().sum()/len(dataset)*100\n",
    "\n",
    "# saving column names in a variable\n",
    "features = dataset.columns\n",
    "feature = [ ]\n",
    "\n",
    "for i in range(0,len(null_percentages)):\n",
    "    if null_percentages[i]<=20:   #setting the threshold value, i.e 20%\n",
    "        feature.append(features[i])"
   ]
  },
  {
   "cell_type": "code",
   "execution_count": 7,
   "id": "27712155",
   "metadata": {},
   "outputs": [
    {
     "name": "stdout",
     "output_type": "stream",
     "text": [
      "17\n",
      "['Year Type', 'Year', 'Organization Group', 'Department', 'Union', 'Job Family', 'Job', 'Employee Identifier', 'Salaries', 'Overtime', 'Other Salaries', 'Total Salary', 'Retirement', 'Health and Dental', 'Other Benefits', 'Total Benefits', 'Total Compensation']\n"
     ]
    }
   ],
   "source": [
    "print(len(feature))\n",
    "print(feature)"
   ]
  },
  {
   "cell_type": "code",
   "execution_count": 8,
   "id": "1531e4ff",
   "metadata": {},
   "outputs": [
    {
     "data": {
      "text/plain": [
       "0.0019510728923469165"
      ]
     },
     "execution_count": 8,
     "metadata": {},
     "output_type": "execute_result"
    }
   ],
   "source": [
    "#check the percentage of rows that have null values\n",
    "\n",
    "(dataset.isnull().sum().sum()/(dataset.shape[0]*dataset.shape[1]))*100"
   ]
  },
  {
   "cell_type": "code",
   "execution_count": 9,
   "id": "0a8f0388",
   "metadata": {},
   "outputs": [],
   "source": [
    "#Since the percentage of null values is negligible we can drop those\n",
    "\n",
    "dataset = dataset.dropna(axis=0)"
   ]
  },
  {
   "cell_type": "code",
   "execution_count": 10,
   "id": "8faa04b9",
   "metadata": {},
   "outputs": [
    {
     "data": {
      "text/plain": [
       "0.0"
      ]
     },
     "execution_count": 10,
     "metadata": {},
     "output_type": "execute_result"
    }
   ],
   "source": [
    "#check the percentage of rows that have null values\n",
    "\n",
    "(dataset.isnull().sum().sum()/(dataset.shape[0]*dataset.shape[1]))*100"
   ]
  },
  {
   "cell_type": "markdown",
   "id": "4574b875",
   "metadata": {},
   "source": [
    "## Variance Filter"
   ]
  },
  {
   "cell_type": "code",
   "execution_count": 11,
   "id": "b13d57ac",
   "metadata": {},
   "outputs": [
    {
     "name": "stderr",
     "output_type": "stream",
     "text": [
      "C:\\Users\\16479\\AppData\\Local\\Temp/ipykernel_119192/4111549166.py:3: FutureWarning: Dropping of nuisance columns in DataFrame reductions (with 'numeric_only=None') is deprecated; in a future version this will raise TypeError.  Select only valid columns before calling the reduction.\n",
      "  dataset.var()\n"
     ]
    },
    {
     "data": {
      "text/plain": [
       "Year                   7.196204e+00\n",
       "Organization Group     2.450502e+00\n",
       "Employee Identifier    4.305288e+14\n",
       "Salaries               2.365285e+09\n",
       "Overtime               1.861858e+08\n",
       "Other Salaries         5.983780e+07\n",
       "Total Salary           3.241469e+09\n",
       "Retirement             1.174644e+08\n",
       "Health and Dental      3.492835e+07\n",
       "Other Benefits         1.412880e+07\n",
       "Total Benefits         3.468783e+08\n",
       "Total Compensation     5.490032e+09\n",
       "dtype: float64"
      ]
     },
     "execution_count": 11,
     "metadata": {},
     "output_type": "execute_result"
    }
   ],
   "source": [
    "#check the variance \n",
    "\n",
    "dataset.var()"
   ]
  },
  {
   "cell_type": "code",
   "execution_count": 12,
   "id": "9cecfc08",
   "metadata": {},
   "outputs": [],
   "source": [
    "#Employee Identifier has the high variance and the contents are not meaningful for analysis, so we can safely drop this\n",
    "\n",
    "dataset=dataset.drop(['Employee Identifier'],axis=1)"
   ]
  },
  {
   "cell_type": "code",
   "execution_count": 13,
   "id": "e461fb85",
   "metadata": {},
   "outputs": [
    {
     "data": {
      "text/html": [
       "<div>\n",
       "<style scoped>\n",
       "    .dataframe tbody tr th:only-of-type {\n",
       "        vertical-align: middle;\n",
       "    }\n",
       "\n",
       "    .dataframe tbody tr th {\n",
       "        vertical-align: top;\n",
       "    }\n",
       "\n",
       "    .dataframe thead th {\n",
       "        text-align: right;\n",
       "    }\n",
       "</style>\n",
       "<table border=\"1\" class=\"dataframe\">\n",
       "  <thead>\n",
       "    <tr style=\"text-align: right;\">\n",
       "      <th></th>\n",
       "      <th>Year Type</th>\n",
       "      <th>Year</th>\n",
       "      <th>Organization Group</th>\n",
       "      <th>Department</th>\n",
       "      <th>Union</th>\n",
       "      <th>Job Family</th>\n",
       "      <th>Job</th>\n",
       "      <th>Salaries</th>\n",
       "      <th>Overtime</th>\n",
       "      <th>Other Salaries</th>\n",
       "      <th>Total Salary</th>\n",
       "      <th>Retirement</th>\n",
       "      <th>Health and Dental</th>\n",
       "      <th>Other Benefits</th>\n",
       "      <th>Total Benefits</th>\n",
       "      <th>Total Compensation</th>\n",
       "    </tr>\n",
       "  </thead>\n",
       "  <tbody>\n",
       "    <tr>\n",
       "      <th>0</th>\n",
       "      <td>Calendar</td>\n",
       "      <td>2013</td>\n",
       "      <td>0</td>\n",
       "      <td>ADP Adult Probation</td>\n",
       "      <td>Prof &amp; Tech Engineers - Miscellaneous, Local 21</td>\n",
       "      <td>Information Systems</td>\n",
       "      <td>IS Administrator 1</td>\n",
       "      <td>57534.65</td>\n",
       "      <td>0.0</td>\n",
       "      <td>0.00</td>\n",
       "      <td>57534.65</td>\n",
       "      <td>11253.16</td>\n",
       "      <td>11961.34</td>\n",
       "      <td>4532.63</td>\n",
       "      <td>27747.13</td>\n",
       "      <td>85281.78</td>\n",
       "    </tr>\n",
       "    <tr>\n",
       "      <th>1</th>\n",
       "      <td>Calendar</td>\n",
       "      <td>2013</td>\n",
       "      <td>0</td>\n",
       "      <td>ADP Adult Probation</td>\n",
       "      <td>Prof &amp; Tech Engineers - Miscellaneous, Local 21</td>\n",
       "      <td>Information Systems</td>\n",
       "      <td>IS Administrator 3</td>\n",
       "      <td>57678.50</td>\n",
       "      <td>0.0</td>\n",
       "      <td>0.00</td>\n",
       "      <td>57678.50</td>\n",
       "      <td>10284.88</td>\n",
       "      <td>7176.80</td>\n",
       "      <td>4755.14</td>\n",
       "      <td>22216.82</td>\n",
       "      <td>79895.32</td>\n",
       "    </tr>\n",
       "    <tr>\n",
       "      <th>2</th>\n",
       "      <td>Calendar</td>\n",
       "      <td>2013</td>\n",
       "      <td>0</td>\n",
       "      <td>ADP Adult Probation</td>\n",
       "      <td>Prof &amp; Tech Engineers - Miscellaneous, Local 21</td>\n",
       "      <td>Information Systems</td>\n",
       "      <td>IS Trainer-Assistant</td>\n",
       "      <td>63532.93</td>\n",
       "      <td>0.0</td>\n",
       "      <td>0.00</td>\n",
       "      <td>63532.93</td>\n",
       "      <td>12495.83</td>\n",
       "      <td>12918.24</td>\n",
       "      <td>4702.71</td>\n",
       "      <td>30116.78</td>\n",
       "      <td>93649.71</td>\n",
       "    </tr>\n",
       "    <tr>\n",
       "      <th>3</th>\n",
       "      <td>Calendar</td>\n",
       "      <td>2013</td>\n",
       "      <td>0</td>\n",
       "      <td>ADP Adult Probation</td>\n",
       "      <td>Prof &amp; Tech Engineers - Miscellaneous, Local 21</td>\n",
       "      <td>Information Systems</td>\n",
       "      <td>IS Business Analyst-Principal</td>\n",
       "      <td>101274.51</td>\n",
       "      <td>0.0</td>\n",
       "      <td>-7058.59</td>\n",
       "      <td>94215.92</td>\n",
       "      <td>19644.45</td>\n",
       "      <td>12918.24</td>\n",
       "      <td>7458.76</td>\n",
       "      <td>40021.45</td>\n",
       "      <td>134237.37</td>\n",
       "    </tr>\n",
       "    <tr>\n",
       "      <th>4</th>\n",
       "      <td>Calendar</td>\n",
       "      <td>2013</td>\n",
       "      <td>0</td>\n",
       "      <td>ADP Adult Probation</td>\n",
       "      <td>Prof &amp; Tech Engineers - Miscellaneous, Local 21</td>\n",
       "      <td>Information Systems</td>\n",
       "      <td>IS Programmer Analyst</td>\n",
       "      <td>5084.00</td>\n",
       "      <td>0.0</td>\n",
       "      <td>0.00</td>\n",
       "      <td>5084.00</td>\n",
       "      <td>1083.90</td>\n",
       "      <td>956.91</td>\n",
       "      <td>387.50</td>\n",
       "      <td>2428.31</td>\n",
       "      <td>7512.31</td>\n",
       "    </tr>\n",
       "  </tbody>\n",
       "</table>\n",
       "</div>"
      ],
      "text/plain": [
       "  Year Type  Year  Organization Group           Department  \\\n",
       "0  Calendar  2013                   0  ADP Adult Probation   \n",
       "1  Calendar  2013                   0  ADP Adult Probation   \n",
       "2  Calendar  2013                   0  ADP Adult Probation   \n",
       "3  Calendar  2013                   0  ADP Adult Probation   \n",
       "4  Calendar  2013                   0  ADP Adult Probation   \n",
       "\n",
       "                                             Union           Job Family  \\\n",
       "0  Prof & Tech Engineers - Miscellaneous, Local 21  Information Systems   \n",
       "1  Prof & Tech Engineers - Miscellaneous, Local 21  Information Systems   \n",
       "2  Prof & Tech Engineers - Miscellaneous, Local 21  Information Systems   \n",
       "3  Prof & Tech Engineers - Miscellaneous, Local 21  Information Systems   \n",
       "4  Prof & Tech Engineers - Miscellaneous, Local 21  Information Systems   \n",
       "\n",
       "                             Job   Salaries  Overtime  Other Salaries  \\\n",
       "0             IS Administrator 1   57534.65       0.0            0.00   \n",
       "1             IS Administrator 3   57678.50       0.0            0.00   \n",
       "2           IS Trainer-Assistant   63532.93       0.0            0.00   \n",
       "3  IS Business Analyst-Principal  101274.51       0.0        -7058.59   \n",
       "4          IS Programmer Analyst    5084.00       0.0            0.00   \n",
       "\n",
       "   Total Salary  Retirement  Health and Dental  Other Benefits  \\\n",
       "0      57534.65    11253.16           11961.34         4532.63   \n",
       "1      57678.50    10284.88            7176.80         4755.14   \n",
       "2      63532.93    12495.83           12918.24         4702.71   \n",
       "3      94215.92    19644.45           12918.24         7458.76   \n",
       "4       5084.00     1083.90             956.91          387.50   \n",
       "\n",
       "   Total Benefits  Total Compensation  \n",
       "0        27747.13            85281.78  \n",
       "1        22216.82            79895.32  \n",
       "2        30116.78            93649.71  \n",
       "3        40021.45           134237.37  \n",
       "4         2428.31             7512.31  "
      ]
     },
     "execution_count": 13,
     "metadata": {},
     "output_type": "execute_result"
    }
   ],
   "source": [
    "dataset.head()"
   ]
  },
  {
   "cell_type": "markdown",
   "id": "e4e3587c",
   "metadata": {},
   "source": [
    "## High Correlation Filter"
   ]
  },
  {
   "cell_type": "code",
   "execution_count": 14,
   "id": "bc0f0190",
   "metadata": {},
   "outputs": [
    {
     "data": {
      "text/html": [
       "<div>\n",
       "<style scoped>\n",
       "    .dataframe tbody tr th:only-of-type {\n",
       "        vertical-align: middle;\n",
       "    }\n",
       "\n",
       "    .dataframe tbody tr th {\n",
       "        vertical-align: top;\n",
       "    }\n",
       "\n",
       "    .dataframe thead th {\n",
       "        text-align: right;\n",
       "    }\n",
       "</style>\n",
       "<table border=\"1\" class=\"dataframe\">\n",
       "  <thead>\n",
       "    <tr style=\"text-align: right;\">\n",
       "      <th></th>\n",
       "      <th>Year</th>\n",
       "      <th>Organization Group</th>\n",
       "      <th>Salaries</th>\n",
       "      <th>Overtime</th>\n",
       "      <th>Other Salaries</th>\n",
       "      <th>Total Salary</th>\n",
       "      <th>Retirement</th>\n",
       "      <th>Health and Dental</th>\n",
       "      <th>Other Benefits</th>\n",
       "      <th>Total Benefits</th>\n",
       "      <th>Total Compensation</th>\n",
       "    </tr>\n",
       "  </thead>\n",
       "  <tbody>\n",
       "    <tr>\n",
       "      <th>Year</th>\n",
       "      <td>1.000000</td>\n",
       "      <td>0.031794</td>\n",
       "      <td>0.183065</td>\n",
       "      <td>0.084262</td>\n",
       "      <td>0.005585</td>\n",
       "      <td>0.177332</td>\n",
       "      <td>0.201449</td>\n",
       "      <td>0.226007</td>\n",
       "      <td>0.154865</td>\n",
       "      <td>0.220200</td>\n",
       "      <td>0.191610</td>\n",
       "    </tr>\n",
       "    <tr>\n",
       "      <th>Organization Group</th>\n",
       "      <td>0.031794</td>\n",
       "      <td>1.000000</td>\n",
       "      <td>-0.184037</td>\n",
       "      <td>-0.287594</td>\n",
       "      <td>-0.223231</td>\n",
       "      <td>-0.256464</td>\n",
       "      <td>-0.227151</td>\n",
       "      <td>-0.213997</td>\n",
       "      <td>0.048561</td>\n",
       "      <td>-0.190290</td>\n",
       "      <td>-0.244897</td>\n",
       "    </tr>\n",
       "    <tr>\n",
       "      <th>Salaries</th>\n",
       "      <td>0.183065</td>\n",
       "      <td>-0.184037</td>\n",
       "      <td>1.000000</td>\n",
       "      <td>0.254590</td>\n",
       "      <td>0.292504</td>\n",
       "      <td>0.954980</td>\n",
       "      <td>0.934188</td>\n",
       "      <td>0.751508</td>\n",
       "      <td>0.723434</td>\n",
       "      <td>0.928098</td>\n",
       "      <td>0.967089</td>\n",
       "    </tr>\n",
       "    <tr>\n",
       "      <th>Overtime</th>\n",
       "      <td>0.084262</td>\n",
       "      <td>-0.287594</td>\n",
       "      <td>0.254590</td>\n",
       "      <td>1.000000</td>\n",
       "      <td>0.341907</td>\n",
       "      <td>0.503594</td>\n",
       "      <td>0.310270</td>\n",
       "      <td>0.289695</td>\n",
       "      <td>0.076303</td>\n",
       "      <td>0.287879</td>\n",
       "      <td>0.459320</td>\n",
       "    </tr>\n",
       "    <tr>\n",
       "      <th>Other Salaries</th>\n",
       "      <td>0.005585</td>\n",
       "      <td>-0.223231</td>\n",
       "      <td>0.292504</td>\n",
       "      <td>0.341907</td>\n",
       "      <td>1.000000</td>\n",
       "      <td>0.467674</td>\n",
       "      <td>0.320493</td>\n",
       "      <td>0.187309</td>\n",
       "      <td>0.054441</td>\n",
       "      <td>0.256926</td>\n",
       "      <td>0.423939</td>\n",
       "    </tr>\n",
       "    <tr>\n",
       "      <th>Total Salary</th>\n",
       "      <td>0.177332</td>\n",
       "      <td>-0.256464</td>\n",
       "      <td>0.954980</td>\n",
       "      <td>0.503594</td>\n",
       "      <td>0.467674</td>\n",
       "      <td>1.000000</td>\n",
       "      <td>0.915909</td>\n",
       "      <td>0.736833</td>\n",
       "      <td>0.643657</td>\n",
       "      <td>0.896704</td>\n",
       "      <td>0.993791</td>\n",
       "    </tr>\n",
       "    <tr>\n",
       "      <th>Retirement</th>\n",
       "      <td>0.201449</td>\n",
       "      <td>-0.227151</td>\n",
       "      <td>0.934188</td>\n",
       "      <td>0.310270</td>\n",
       "      <td>0.320493</td>\n",
       "      <td>0.915909</td>\n",
       "      <td>1.000000</td>\n",
       "      <td>0.772152</td>\n",
       "      <td>0.657613</td>\n",
       "      <td>0.959662</td>\n",
       "      <td>0.945002</td>\n",
       "    </tr>\n",
       "    <tr>\n",
       "      <th>Health and Dental</th>\n",
       "      <td>0.226007</td>\n",
       "      <td>-0.213997</td>\n",
       "      <td>0.751508</td>\n",
       "      <td>0.289695</td>\n",
       "      <td>0.187309</td>\n",
       "      <td>0.736833</td>\n",
       "      <td>0.772152</td>\n",
       "      <td>1.000000</td>\n",
       "      <td>0.627026</td>\n",
       "      <td>0.893201</td>\n",
       "      <td>0.790695</td>\n",
       "    </tr>\n",
       "    <tr>\n",
       "      <th>Other Benefits</th>\n",
       "      <td>0.154865</td>\n",
       "      <td>0.048561</td>\n",
       "      <td>0.723434</td>\n",
       "      <td>0.076303</td>\n",
       "      <td>0.054441</td>\n",
       "      <td>0.643657</td>\n",
       "      <td>0.657613</td>\n",
       "      <td>0.627026</td>\n",
       "      <td>1.000000</td>\n",
       "      <td>0.783468</td>\n",
       "      <td>0.691517</td>\n",
       "    </tr>\n",
       "    <tr>\n",
       "      <th>Total Benefits</th>\n",
       "      <td>0.220200</td>\n",
       "      <td>-0.190290</td>\n",
       "      <td>0.928098</td>\n",
       "      <td>0.287879</td>\n",
       "      <td>0.256926</td>\n",
       "      <td>0.896704</td>\n",
       "      <td>0.959662</td>\n",
       "      <td>0.893201</td>\n",
       "      <td>0.783468</td>\n",
       "      <td>1.000000</td>\n",
       "      <td>0.940384</td>\n",
       "    </tr>\n",
       "    <tr>\n",
       "      <th>Total Compensation</th>\n",
       "      <td>0.191610</td>\n",
       "      <td>-0.244897</td>\n",
       "      <td>0.967089</td>\n",
       "      <td>0.459320</td>\n",
       "      <td>0.423939</td>\n",
       "      <td>0.993791</td>\n",
       "      <td>0.945002</td>\n",
       "      <td>0.790695</td>\n",
       "      <td>0.691517</td>\n",
       "      <td>0.940384</td>\n",
       "      <td>1.000000</td>\n",
       "    </tr>\n",
       "  </tbody>\n",
       "</table>\n",
       "</div>"
      ],
      "text/plain": [
       "                        Year  Organization Group  Salaries  Overtime  \\\n",
       "Year                1.000000            0.031794  0.183065  0.084262   \n",
       "Organization Group  0.031794            1.000000 -0.184037 -0.287594   \n",
       "Salaries            0.183065           -0.184037  1.000000  0.254590   \n",
       "Overtime            0.084262           -0.287594  0.254590  1.000000   \n",
       "Other Salaries      0.005585           -0.223231  0.292504  0.341907   \n",
       "Total Salary        0.177332           -0.256464  0.954980  0.503594   \n",
       "Retirement          0.201449           -0.227151  0.934188  0.310270   \n",
       "Health and Dental   0.226007           -0.213997  0.751508  0.289695   \n",
       "Other Benefits      0.154865            0.048561  0.723434  0.076303   \n",
       "Total Benefits      0.220200           -0.190290  0.928098  0.287879   \n",
       "Total Compensation  0.191610           -0.244897  0.967089  0.459320   \n",
       "\n",
       "                    Other Salaries  Total Salary  Retirement  \\\n",
       "Year                      0.005585      0.177332    0.201449   \n",
       "Organization Group       -0.223231     -0.256464   -0.227151   \n",
       "Salaries                  0.292504      0.954980    0.934188   \n",
       "Overtime                  0.341907      0.503594    0.310270   \n",
       "Other Salaries            1.000000      0.467674    0.320493   \n",
       "Total Salary              0.467674      1.000000    0.915909   \n",
       "Retirement                0.320493      0.915909    1.000000   \n",
       "Health and Dental         0.187309      0.736833    0.772152   \n",
       "Other Benefits            0.054441      0.643657    0.657613   \n",
       "Total Benefits            0.256926      0.896704    0.959662   \n",
       "Total Compensation        0.423939      0.993791    0.945002   \n",
       "\n",
       "                    Health and Dental  Other Benefits  Total Benefits  \\\n",
       "Year                         0.226007        0.154865        0.220200   \n",
       "Organization Group          -0.213997        0.048561       -0.190290   \n",
       "Salaries                     0.751508        0.723434        0.928098   \n",
       "Overtime                     0.289695        0.076303        0.287879   \n",
       "Other Salaries               0.187309        0.054441        0.256926   \n",
       "Total Salary                 0.736833        0.643657        0.896704   \n",
       "Retirement                   0.772152        0.657613        0.959662   \n",
       "Health and Dental            1.000000        0.627026        0.893201   \n",
       "Other Benefits               0.627026        1.000000        0.783468   \n",
       "Total Benefits               0.893201        0.783468        1.000000   \n",
       "Total Compensation           0.790695        0.691517        0.940384   \n",
       "\n",
       "                    Total Compensation  \n",
       "Year                          0.191610  \n",
       "Organization Group           -0.244897  \n",
       "Salaries                      0.967089  \n",
       "Overtime                      0.459320  \n",
       "Other Salaries                0.423939  \n",
       "Total Salary                  0.993791  \n",
       "Retirement                    0.945002  \n",
       "Health and Dental             0.790695  \n",
       "Other Benefits                0.691517  \n",
       "Total Benefits                0.940384  \n",
       "Total Compensation            1.000000  "
      ]
     },
     "execution_count": 14,
     "metadata": {},
     "output_type": "execute_result"
    }
   ],
   "source": [
    "#checking the correlation\n",
    "\n",
    "dataset.corr()"
   ]
  },
  {
   "cell_type": "code",
   "execution_count": 15,
   "id": "58c0885e",
   "metadata": {
    "scrolled": false
   },
   "outputs": [
    {
     "data": {
      "image/png": "[encoded data removed]",
      "text/plain": [
       "<Figure size 576x576 with 2 Axes>"
      ]
     },
     "metadata": {
      "needs_background": "light"
     },
     "output_type": "display_data"
    }
   ],
   "source": [
    "#Making a heatmap\n",
    "\n",
    "plt.figure(figsize = (8, 8))\n",
    "sns.heatmap(dataset.corr(), annot = True)\n",
    "plt.title('Correlation Matrix', fontsize = 20)\n",
    "plt.xlabel('Parameters', fontsize = 15) \n",
    "plt.ylabel('Parameters', fontsize = 15) \n",
    "plt.show()"
   ]
  },
  {
   "cell_type": "code",
   "execution_count": 16,
   "id": "394ba249",
   "metadata": {},
   "outputs": [],
   "source": [
    "#Drop the features which are more correlation as carry same information\n",
    "\n",
    "dataset=dataset.drop(['Salaries','Overtime','Other Salaries','Retirement','Health and Dental','Other Benefits'],axis=1)"
   ]
  },
  {
   "cell_type": "code",
   "execution_count": 17,
   "id": "57e59e15",
   "metadata": {},
   "outputs": [
    {
     "data": {
      "text/html": [
       "<div>\n",
       "<style scoped>\n",
       "    .dataframe tbody tr th:only-of-type {\n",
       "        vertical-align: middle;\n",
       "    }\n",
       "\n",
       "    .dataframe tbody tr th {\n",
       "        vertical-align: top;\n",
       "    }\n",
       "\n",
       "    .dataframe thead th {\n",
       "        text-align: right;\n",
       "    }\n",
       "</style>\n",
       "<table border=\"1\" class=\"dataframe\">\n",
       "  <thead>\n",
       "    <tr style=\"text-align: right;\">\n",
       "      <th></th>\n",
       "      <th>Year Type</th>\n",
       "      <th>Year</th>\n",
       "      <th>Organization Group</th>\n",
       "      <th>Department</th>\n",
       "      <th>Union</th>\n",
       "      <th>Job Family</th>\n",
       "      <th>Job</th>\n",
       "      <th>Total Salary</th>\n",
       "      <th>Total Benefits</th>\n",
       "      <th>Total Compensation</th>\n",
       "    </tr>\n",
       "  </thead>\n",
       "  <tbody>\n",
       "    <tr>\n",
       "      <th>0</th>\n",
       "      <td>Calendar</td>\n",
       "      <td>2013</td>\n",
       "      <td>0</td>\n",
       "      <td>ADP Adult Probation</td>\n",
       "      <td>Prof &amp; Tech Engineers - Miscellaneous, Local 21</td>\n",
       "      <td>Information Systems</td>\n",
       "      <td>IS Administrator 1</td>\n",
       "      <td>57534.65</td>\n",
       "      <td>27747.13</td>\n",
       "      <td>85281.78</td>\n",
       "    </tr>\n",
       "    <tr>\n",
       "      <th>1</th>\n",
       "      <td>Calendar</td>\n",
       "      <td>2013</td>\n",
       "      <td>0</td>\n",
       "      <td>ADP Adult Probation</td>\n",
       "      <td>Prof &amp; Tech Engineers - Miscellaneous, Local 21</td>\n",
       "      <td>Information Systems</td>\n",
       "      <td>IS Administrator 3</td>\n",
       "      <td>57678.50</td>\n",
       "      <td>22216.82</td>\n",
       "      <td>79895.32</td>\n",
       "    </tr>\n",
       "    <tr>\n",
       "      <th>2</th>\n",
       "      <td>Calendar</td>\n",
       "      <td>2013</td>\n",
       "      <td>0</td>\n",
       "      <td>ADP Adult Probation</td>\n",
       "      <td>Prof &amp; Tech Engineers - Miscellaneous, Local 21</td>\n",
       "      <td>Information Systems</td>\n",
       "      <td>IS Trainer-Assistant</td>\n",
       "      <td>63532.93</td>\n",
       "      <td>30116.78</td>\n",
       "      <td>93649.71</td>\n",
       "    </tr>\n",
       "    <tr>\n",
       "      <th>3</th>\n",
       "      <td>Calendar</td>\n",
       "      <td>2013</td>\n",
       "      <td>0</td>\n",
       "      <td>ADP Adult Probation</td>\n",
       "      <td>Prof &amp; Tech Engineers - Miscellaneous, Local 21</td>\n",
       "      <td>Information Systems</td>\n",
       "      <td>IS Business Analyst-Principal</td>\n",
       "      <td>94215.92</td>\n",
       "      <td>40021.45</td>\n",
       "      <td>134237.37</td>\n",
       "    </tr>\n",
       "    <tr>\n",
       "      <th>4</th>\n",
       "      <td>Calendar</td>\n",
       "      <td>2013</td>\n",
       "      <td>0</td>\n",
       "      <td>ADP Adult Probation</td>\n",
       "      <td>Prof &amp; Tech Engineers - Miscellaneous, Local 21</td>\n",
       "      <td>Information Systems</td>\n",
       "      <td>IS Programmer Analyst</td>\n",
       "      <td>5084.00</td>\n",
       "      <td>2428.31</td>\n",
       "      <td>7512.31</td>\n",
       "    </tr>\n",
       "  </tbody>\n",
       "</table>\n",
       "</div>"
      ],
      "text/plain": [
       "  Year Type  Year  Organization Group           Department  \\\n",
       "0  Calendar  2013                   0  ADP Adult Probation   \n",
       "1  Calendar  2013                   0  ADP Adult Probation   \n",
       "2  Calendar  2013                   0  ADP Adult Probation   \n",
       "3  Calendar  2013                   0  ADP Adult Probation   \n",
       "4  Calendar  2013                   0  ADP Adult Probation   \n",
       "\n",
       "                                             Union           Job Family  \\\n",
       "0  Prof & Tech Engineers - Miscellaneous, Local 21  Information Systems   \n",
       "1  Prof & Tech Engineers - Miscellaneous, Local 21  Information Systems   \n",
       "2  Prof & Tech Engineers - Miscellaneous, Local 21  Information Systems   \n",
       "3  Prof & Tech Engineers - Miscellaneous, Local 21  Information Systems   \n",
       "4  Prof & Tech Engineers - Miscellaneous, Local 21  Information Systems   \n",
       "\n",
       "                             Job  Total Salary  Total Benefits  \\\n",
       "0             IS Administrator 1      57534.65        27747.13   \n",
       "1             IS Administrator 3      57678.50        22216.82   \n",
       "2           IS Trainer-Assistant      63532.93        30116.78   \n",
       "3  IS Business Analyst-Principal      94215.92        40021.45   \n",
       "4          IS Programmer Analyst       5084.00         2428.31   \n",
       "\n",
       "   Total Compensation  \n",
       "0            85281.78  \n",
       "1            79895.32  \n",
       "2            93649.71  \n",
       "3           134237.37  \n",
       "4             7512.31  "
      ]
     },
     "execution_count": 17,
     "metadata": {},
     "output_type": "execute_result"
    }
   ],
   "source": [
    "dataset.head()"
   ]
  },
  {
   "cell_type": "markdown",
   "id": "2deea3d7",
   "metadata": {},
   "source": [
    "# CLASSIFICATION AND REGRESSION"
   ]
  },
  {
   "cell_type": "markdown",
   "id": "3eb74ee9",
   "metadata": {},
   "source": [
    "First of All We will find the correlation Matrix and visualise it using heat map to findout which features are more correlated"
   ]
  },
  {
   "cell_type": "code",
   "execution_count": 18,
   "id": "b4e1ecd5",
   "metadata": {},
   "outputs": [
    {
     "data": {
      "image/png": "[encoded data removed]",
      "text/plain": [
       "<Figure size 576x576 with 2 Axes>"
      ]
     },
     "metadata": {
      "needs_background": "light"
     },
     "output_type": "display_data"
    }
   ],
   "source": [
    "# compute the pair wise correlation for all columns \n",
    "plt.figure(figsize = (8, 8))\n",
    "sns.heatmap(dataset.corr(), annot = True)\n",
    "plt.title('Correlation Matrix', fontsize = 20)\n",
    "plt.xlabel('Parameters', fontsize = 15) \n",
    "plt.ylabel('Parameters', fontsize = 15) \n",
    "plt.show()"
   ]
  },
  {
   "cell_type": "markdown",
   "id": "00fa96ea",
   "metadata": {},
   "source": [
    "# REGRESSION"
   ]
  },
  {
   "cell_type": "markdown",
   "id": "e5a67cb3",
   "metadata": {},
   "source": [
    "We chose Multi Linear Regression Algorithm to do Regression as there are two independent variables involved in the regression"
   ]
  },
  {
   "cell_type": "code",
   "execution_count": 19,
   "id": "7877ae0d",
   "metadata": {},
   "outputs": [
    {
     "data": {
      "text/plain": [
       "Text(0, 0.5, 'Total Compensation')"
      ]
     },
     "execution_count": 19,
     "metadata": {},
     "output_type": "execute_result"
    },
    {
     "data": {
      "image/png": "[encoded data removed]",
      "text/plain": [
       "<Figure size 432x288 with 1 Axes>"
      ]
     },
     "metadata": {
      "needs_background": "light"
     },
     "output_type": "display_data"
    }
   ],
   "source": [
    "#since the correlation of our target variable Total Compensation is maximum with the Total Salary let us take a look at that feature for consideration\n",
    "feature = dataset['Total Salary']\n",
    "target = dataset['Total Compensation']\n",
    "plt.scatter(feature,target, marker='o')\n",
    "plt.title('Total Compensation and Total Salary')\n",
    "plt.xlabel('Total Salary')\n",
    "plt.ylabel('Total Compensation')"
   ]
  },
  {
   "cell_type": "code",
   "execution_count": 20,
   "id": "4cbfb5ff",
   "metadata": {},
   "outputs": [
    {
     "data": {
      "text/plain": [
       "Text(0, 0.5, 'Total Compensation')"
      ]
     },
     "execution_count": 20,
     "metadata": {},
     "output_type": "execute_result"
    },
    {
     "data": {
      "image/png": "[encoded data removed]",
      "text/plain": [
       "<Figure size 432x288 with 1 Axes>"
      ]
     },
     "metadata": {
      "needs_background": "light"
     },
     "output_type": "display_data"
    }
   ],
   "source": [
    "#since the correlation of our target variable Total Compensation is 2nd maximum with the Total Benefits let us take a look at that feature for consideration\n",
    "feature = dataset['Total Benefits']\n",
    "target = dataset['Total Compensation']\n",
    "plt.scatter(feature,target, marker='o')\n",
    "plt.title('Total Compensation and Total Benefits')\n",
    "plt.xlabel('Total Benefits')\n",
    "plt.ylabel('Total Compensation')"
   ]
  },
  {
   "cell_type": "code",
   "execution_count": 21,
   "id": "e145ae1c",
   "metadata": {},
   "outputs": [],
   "source": [
    "#data for preparation\n",
    "#we are taking  BOTH VARIABLES for demonstrating MULTI linear regression for more accurate results as we have two independent variables\n",
    "\n",
    "x_mlr = dataset[['Total Salary', 'Total Benefits']]\n",
    "y_mlr = dataset['Total Compensation']\n"
   ]
  },
  {
   "cell_type": "code",
   "execution_count": 22,
   "id": "234c6dfb",
   "metadata": {},
   "outputs": [],
   "source": [
    "#import the sklearn for data set, linear regression model and also to split the train and test data\n",
    "from sklearn.model_selection import train_test_split\n",
    "from sklearn.linear_model import LinearRegression\n",
    "from sklearn.metrics import mean_squared_error"
   ]
  },
  {
   "cell_type": "code",
   "execution_count": 23,
   "id": "1d61d7cc",
   "metadata": {},
   "outputs": [
    {
     "name": "stdout",
     "output_type": "stream",
     "text": [
      "(356857, 2)\n",
      "(89215, 2)\n",
      "(356857,)\n",
      "(89215,)\n"
     ]
    }
   ],
   "source": [
    "# splits the training and test data set in 80% : 20%\n",
    "# assign random_state to any value.This ensures consistency.\n",
    "X_train, X_test, Y_train, Y_test = train_test_split(x_mlr, y_mlr, test_size = 0.2, random_state=5)\n",
    "print(X_train.shape)\n",
    "print(X_test.shape)\n",
    "print(Y_train.shape)\n",
    "print(Y_test.shape)"
   ]
  },
  {
   "cell_type": "code",
   "execution_count": 24,
   "id": "bf6db3e5",
   "metadata": {},
   "outputs": [
    {
     "data": {
      "text/plain": [
       "LinearRegression()"
      ]
     },
     "execution_count": 24,
     "metadata": {},
     "output_type": "execute_result"
    }
   ],
   "source": [
    "#Fitting the Multiple Linear Regression model\n",
    "mlr = LinearRegression()  \n",
    "mlr.fit(X_train, Y_train)"
   ]
  },
  {
   "cell_type": "code",
   "execution_count": 25,
   "id": "b390ac5b",
   "metadata": {},
   "outputs": [
    {
     "name": "stdout",
     "output_type": "stream",
     "text": [
      "Intercept:  -1.0186340659856796e-10\n",
      "Coefficients:\n"
     ]
    },
    {
     "data": {
      "text/plain": [
       "[('Total Salary', 1.000000000000001), ('Total Benefits', 1.0)]"
      ]
     },
     "execution_count": 25,
     "metadata": {},
     "output_type": "execute_result"
    }
   ],
   "source": [
    "#Intercept and Coefficient\n",
    "print(\"Intercept: \", mlr.intercept_)\n",
    "print(\"Coefficients:\")\n",
    "list(zip(x_mlr, mlr.coef_))"
   ]
  },
  {
   "cell_type": "markdown",
   "id": "f233a713",
   "metadata": {},
   "source": [
    "# Prediction"
   ]
  },
  {
   "cell_type": "code",
   "execution_count": 26,
   "id": "ea462ccf",
   "metadata": {},
   "outputs": [
    {
     "name": "stdout",
     "output_type": "stream",
     "text": [
      "Prediction for test set:\n",
      "[119318.83 135321.62 207638.   ... 181448.76 114956.21 181446.07]\n"
     ]
    }
   ],
   "source": [
    "#get the predicted variables and plot the regression line\n",
    "\n",
    "Y_pred = mlr.predict(X_test)\n",
    "\n",
    "#Predicted values\n",
    "print(\"Prediction for test set:\")\n",
    "print(Y_pred)"
   ]
  },
  {
   "cell_type": "code",
   "execution_count": 27,
   "id": "184af6cd",
   "metadata": {},
   "outputs": [
    {
     "name": "stdout",
     "output_type": "stream",
     "text": [
      "1.0\n"
     ]
    }
   ],
   "source": [
    "#performance of the linear model. Gives R2 score\n",
    "print(mlr.score(X_test, Y_test))"
   ]
  },
  {
   "cell_type": "code",
   "execution_count": 28,
   "id": "e0382d31",
   "metadata": {},
   "outputs": [
    {
     "name": "stdout",
     "output_type": "stream",
     "text": [
      "4.0573409661144984e-21\n"
     ]
    }
   ],
   "source": [
    "print(mean_squared_error(Y_test,Y_pred))"
   ]
  },
  {
   "cell_type": "markdown",
   "id": "d61091c7",
   "metadata": {},
   "source": [
    "# Classification"
   ]
  },
  {
   "cell_type": "raw",
   "id": "f2c91dbb",
   "metadata": {},
   "source": [
    "For Classification we chose Logistic regression as our target variable organizational group has ordinal values"
   ]
  },
  {
   "cell_type": "code",
   "execution_count": 29,
   "id": "5c32604d",
   "metadata": {},
   "outputs": [],
   "source": [
    "#import the sklearn for logistic regression model building,prediction and performance evaluation purposes\n",
    "\n",
    "from sklearn.model_selection import train_test_split\n",
    "from sklearn.linear_model import LogisticRegression\n",
    "from sklearn import preprocessing\n",
    "from sklearn import metrics"
   ]
  },
  {
   "cell_type": "code",
   "execution_count": 30,
   "id": "a74b0582",
   "metadata": {},
   "outputs": [],
   "source": [
    "x_log = dataset[['Total Benefits','Total Salary']]\n",
    "y_log = dataset['Organization Group']\n",
    "#80% is train data and 20% is test data\n",
    "X_train,X_test,y_train,y_test=train_test_split(x_log,y_log,test_size=0.2,random_state=5)"
   ]
  },
  {
   "cell_type": "code",
   "execution_count": 31,
   "id": "8a31b4bd",
   "metadata": {},
   "outputs": [
    {
     "name": "stderr",
     "output_type": "stream",
     "text": [
      "C:\\Users\\16479\\anaconda3\\lib\\site-packages\\sklearn\\linear_model\\_logistic.py:763: ConvergenceWarning: lbfgs failed to converge (status=1):\n",
      "STOP: TOTAL NO. of ITERATIONS REACHED LIMIT.\n",
      "\n",
      "Increase the number of iterations (max_iter) or scale the data as shown in:\n",
      "    https://scikit-learn.org/stable/modules/preprocessing.html\n",
      "Please also refer to the documentation for alternative solver options:\n",
      "    https://scikit-learn.org/stable/modules/linear_model.html#logistic-regression\n",
      "  n_iter_i = _check_optimize_result(\n"
     ]
    },
    {
     "data": {
      "text/plain": [
       "LogisticRegression()"
      ]
     },
     "execution_count": 31,
     "metadata": {},
     "output_type": "execute_result"
    }
   ],
   "source": [
    "# instantiate the model (using the default parameters)\n",
    "logistic_regression = LogisticRegression()\n",
    "\n",
    "# fit the model with data\n",
    "logistic_regression.fit(X_train,y_train)"
   ]
  },
  {
   "cell_type": "code",
   "execution_count": 32,
   "id": "12623597",
   "metadata": {},
   "outputs": [],
   "source": [
    "#Do the prediction for the test data\n",
    "y_pred=logistic_regression.predict(X_test)"
   ]
  },
  {
   "cell_type": "code",
   "execution_count": 33,
   "id": "ec9cb312",
   "metadata": {},
   "outputs": [
    {
     "data": {
      "text/plain": [
       "array([1, 0, 0, ..., 1, 1, 0], dtype=int64)"
      ]
     },
     "execution_count": 33,
     "metadata": {},
     "output_type": "execute_result"
    }
   ],
   "source": [
    "y_pred"
   ]
  },
  {
   "cell_type": "code",
   "execution_count": 86,
   "id": "b010bd68",
   "metadata": {},
   "outputs": [
    {
     "data": {
      "image/png": "[encoded data removed]",
      "text/plain": [
       "<Figure size 288x216 with 1 Axes>"
      ]
     },
     "metadata": {
      "needs_background": "light"
     },
     "output_type": "display_data"
    },
    {
     "data": {
      "image/png": "[encoded data removed]",
      "text/plain": [
       "<Figure size 288x216 with 1 Axes>"
      ]
     },
     "metadata": {
      "needs_background": "light"
     },
     "output_type": "display_data"
    }
   ],
   "source": [
    "#visualising the graph of every variable against the outcome variable\n",
    "plt.figure(0, figsize=(4, 3))\n",
    "plt.title(\"Employee dataset logistic regression\")\n",
    "plt.xlabel('Total Benefits')\n",
    "ax=sns.regplot(x=X_test['Total Benefits'], y=y_pred, data=dataset, logistic=True,ci=None,line_kws={'color':'red'})\n",
    "ax.set(xlabel='Total Benefits',ylabel='Outcome - Total Compensation')\n",
    "plt.show()\n",
    "\n",
    "plt.figure(1, figsize=(4, 3))\n",
    "plt.title(\"Employee dataset logistic regression\")\n",
    "plt.xlabel('Total Salary')\n",
    "ax=sns.regplot(x=X_test['Total Salary'], y=y_pred, data=dataset, logistic=True,ci=None,line_kws={'color':'red'})\n",
    "ax.set(xlabel='Total Salary',ylabel='Outcome - Total Compensation')\n",
    "plt.show()"
   ]
  },
  {
   "cell_type": "code",
   "execution_count": 87,
   "id": "5fb1a099",
   "metadata": {},
   "outputs": [
    {
     "name": "stdout",
     "output_type": "stream",
     "text": [
      "[[10712  6792    64     0     0     0    12]\n",
      " [ 4748 24022   107     0     0     0     8]\n",
      " [ 1017  7046    17     0     0     0     2]\n",
      " [ 6538 12667   131     0     0     0     4]\n",
      " [ 2059  5314    19     0     0     0     0]\n",
      " [ 1917  5919    16     0     0     0     1]\n",
      " [   30    50     3     0     0     0     0]]\n"
     ]
    }
   ],
   "source": [
    "confusion_matrix = metrics.confusion_matrix(y_test, y_pred)\n",
    "print(confusion_matrix)"
   ]
  },
  {
   "cell_type": "code",
   "execution_count": 88,
   "id": "af5658f8",
   "metadata": {},
   "outputs": [
    {
     "data": {
      "text/plain": [
       "Text(0.5, 15.0, 'Predicted label')"
      ]
     },
     "execution_count": 88,
     "metadata": {},
     "output_type": "execute_result"
    },
    {
     "data": {
      "image/png": "[encoded data removed]",
      "text/plain": [
       "<Figure size 432x288 with 2 Axes>"
      ]
     },
     "metadata": {
      "needs_background": "light"
     },
     "output_type": "display_data"
    }
   ],
   "source": [
    "#visualising the confusion matrix by creatig a heatmap\n",
    "\n",
    "# create heatmap\n",
    "sns.heatmap(pd.DataFrame(confusion_matrix), annot=True, cmap=\"YlGnBu\" ,fmt='g')\n",
    "plt.title('Confusion matrix')\n",
    "plt.ylabel('Actual label')\n",
    "plt.xlabel('Predicted label')"
   ]
  },
  {
   "cell_type": "code",
   "execution_count": 89,
   "id": "eabee846",
   "metadata": {},
   "outputs": [
    {
     "name": "stdout",
     "output_type": "stream",
     "text": [
      "Accuracy: 0.3895196996020848\n"
     ]
    }
   ],
   "source": [
    "#Looking at the performance of the model\n",
    "print(\"Accuracy:\",metrics.accuracy_score(y_test, y_pred))"
   ]
  },
  {
   "cell_type": "markdown",
   "id": "6162301d",
   "metadata": {},
   "source": [
    "# ANOTHER THREE ALGO"
   ]
  },
  {
   "cell_type": "raw",
   "id": "00c37563",
   "metadata": {},
   "source": [
    "POLYNOMIAL REGRESSION\n",
    "DECISION TREE CLASSIFIER\n",
    "RANDOM FOREST CLASSIFIER"
   ]
  },
  {
   "cell_type": "markdown",
   "id": "5d2f9859",
   "metadata": {},
   "source": [
    "# POLYNOMIAL REGRESSION"
   ]
  },
  {
   "cell_type": "code",
   "execution_count": 90,
   "id": "8f3e104d",
   "metadata": {},
   "outputs": [],
   "source": [
    "import numpy as np\n",
    "from sklearn.linear_model import LinearRegression\n",
    "from sklearn.preprocessing import PolynomialFeatures"
   ]
  },
  {
   "cell_type": "code",
   "execution_count": 91,
   "id": "17fe9c30",
   "metadata": {},
   "outputs": [],
   "source": [
    "x_poly = dataset[['Total Benefits','Total Salary']]\n",
    "\n",
    "y_poly = dataset['Total Compensation']\n",
    "\n",
    "#Split the data into training and testing data\n",
    "\n",
    "X_train, X_test, Y_train, Y_test = train_test_split(x_poly, y_poly, test_size = 0.2)"
   ]
  },
  {
   "cell_type": "code",
   "execution_count": 92,
   "id": "0798c7ff",
   "metadata": {},
   "outputs": [],
   "source": [
    "transformer = PolynomialFeatures(degree=2, include_bias=False)"
   ]
  },
  {
   "cell_type": "code",
   "execution_count": 93,
   "id": "5276c8a7",
   "metadata": {},
   "outputs": [
    {
     "data": {
      "text/plain": [
       "PolynomialFeatures(include_bias=False)"
      ]
     },
     "execution_count": 93,
     "metadata": {},
     "output_type": "execute_result"
    }
   ],
   "source": [
    "transformer.fit(X_train)"
   ]
  },
  {
   "cell_type": "code",
   "execution_count": 94,
   "id": "468a8e79",
   "metadata": {},
   "outputs": [],
   "source": [
    "X_train = transformer.transform(X_train)"
   ]
  },
  {
   "cell_type": "code",
   "execution_count": 95,
   "id": "1fb9759c",
   "metadata": {},
   "outputs": [],
   "source": [
    "X_test = transformer.transform(X_test)"
   ]
  },
  {
   "cell_type": "code",
   "execution_count": 96,
   "id": "3de73e06",
   "metadata": {},
   "outputs": [],
   "source": [
    "model = LinearRegression().fit(X_train, Y_train)"
   ]
  },
  {
   "cell_type": "code",
   "execution_count": 97,
   "id": "df9e6f16",
   "metadata": {},
   "outputs": [],
   "source": [
    "y_pred = model.predict(X_test)"
   ]
  },
  {
   "cell_type": "code",
   "execution_count": 98,
   "id": "d8dfbedc",
   "metadata": {},
   "outputs": [
    {
     "data": {
      "text/plain": [
       "array([110495.71000065,  82340.30999994, 135012.1699981 , ...,\n",
       "       156682.56000129, 223131.74000338, 257025.36000333])"
      ]
     },
     "execution_count": 98,
     "metadata": {},
     "output_type": "execute_result"
    }
   ],
   "source": [
    "y_pred"
   ]
  },
  {
   "cell_type": "code",
   "execution_count": 99,
   "id": "d98369a9",
   "metadata": {},
   "outputs": [
    {
     "name": "stdout",
     "output_type": "stream",
     "text": [
      "1.0\n"
     ]
    }
   ],
   "source": [
    "from sklearn.metrics import accuracy_score,classification_report,confusion_matrix\n",
    "print(model.score(X_test, y_pred))"
   ]
  },
  {
   "cell_type": "markdown",
   "id": "41b6ab26",
   "metadata": {},
   "source": [
    "# DECISION TREE CLASSIFIER"
   ]
  },
  {
   "cell_type": "code",
   "execution_count": 100,
   "id": "06837d7b",
   "metadata": {},
   "outputs": [
    {
     "name": "stdout",
     "output_type": "stream",
     "text": [
      "(356857, 1)\n",
      "(89215, 1)\n",
      "(356857,)\n",
      "(89215,)\n"
     ]
    },
    {
     "data": {
      "text/plain": [
       "DecisionTreeClassifier()"
      ]
     },
     "execution_count": 100,
     "metadata": {},
     "output_type": "execute_result"
    }
   ],
   "source": [
    "x_dt = dataset[['Total Compensation']]\n",
    "y_dt = dataset['Organization Group']\n",
    "X_train, X_test, Y_train, Y_test = train_test_split(x_dt, y_dt, test_size = 0.2, random_state=5)\n",
    "print(X_train.shape)\n",
    "print(X_test.shape)\n",
    "print(Y_train.shape)\n",
    "print(Y_test.shape)\n",
    "from sklearn.tree import DecisionTreeClassifier\n",
    "dt_clf = DecisionTreeClassifier()   \n",
    "dt_clf.fit(X_train,Y_train)"
   ]
  },
  {
   "cell_type": "code",
   "execution_count": 101,
   "id": "52808980",
   "metadata": {},
   "outputs": [],
   "source": [
    "y_predict = dt_clf.predict(X_test)"
   ]
  },
  {
   "cell_type": "code",
   "execution_count": 102,
   "id": "2dd98beb",
   "metadata": {},
   "outputs": [
    {
     "data": {
      "text/plain": [
       "array([1, 3, 1, ..., 0, 1, 0], dtype=int64)"
      ]
     },
     "execution_count": 102,
     "metadata": {},
     "output_type": "execute_result"
    }
   ],
   "source": [
    "y_predict"
   ]
  },
  {
   "cell_type": "code",
   "execution_count": 103,
   "id": "25403d2e",
   "metadata": {},
   "outputs": [
    {
     "data": {
      "text/plain": [
       "0.26615479459732105"
      ]
     },
     "execution_count": 103,
     "metadata": {},
     "output_type": "execute_result"
    }
   ],
   "source": [
    "from sklearn.metrics import accuracy_score,classification_report,confusion_matrix\n",
    "accuracy_score(Y_test,y_predict)"
   ]
  },
  {
   "cell_type": "markdown",
   "id": "fd86a2f7",
   "metadata": {},
   "source": [
    "# Gaussian Naive Bayes Classification"
   ]
  },
  {
   "cell_type": "code",
   "execution_count": 104,
   "id": "caeb1964",
   "metadata": {},
   "outputs": [],
   "source": [
    "x_rf = dataset[['Total Compensation']]\n",
    "y_rf = dataset['Organization Group']"
   ]
  },
  {
   "cell_type": "code",
   "execution_count": 105,
   "id": "c9a5687c",
   "metadata": {},
   "outputs": [],
   "source": [
    "X_train, X_test, Y_train, Y_test = train_test_split(x_rf, y_rf, random_state=0)"
   ]
  },
  {
   "cell_type": "code",
   "execution_count": 106,
   "id": "af758f9d",
   "metadata": {},
   "outputs": [
    {
     "data": {
      "text/plain": [
       "GaussianNB()"
      ]
     },
     "execution_count": 106,
     "metadata": {},
     "output_type": "execute_result"
    }
   ],
   "source": [
    "from sklearn.naive_bayes import GaussianNB\n",
    "model = GaussianNB()\n",
    "model.fit(X_train, Y_train)"
   ]
  },
  {
   "cell_type": "code",
   "execution_count": 107,
   "id": "26ceabc4",
   "metadata": {},
   "outputs": [],
   "source": [
    "y_pred=model.predict(X_test)"
   ]
  },
  {
   "cell_type": "code",
   "execution_count": 108,
   "id": "ee8bfcac",
   "metadata": {},
   "outputs": [
    {
     "data": {
      "text/plain": [
       "array([1, 1, 0, ..., 1, 1, 1], dtype=int64)"
      ]
     },
     "execution_count": 108,
     "metadata": {},
     "output_type": "execute_result"
    }
   ],
   "source": [
    "y_pred"
   ]
  },
  {
   "cell_type": "code",
   "execution_count": 109,
   "id": "b34be73c",
   "metadata": {},
   "outputs": [
    {
     "data": {
      "text/plain": [
       "0.3599867285998673"
      ]
     },
     "execution_count": 109,
     "metadata": {},
     "output_type": "execute_result"
    }
   ],
   "source": [
    "from sklearn.metrics import accuracy_score\n",
    "accuracy_score(Y_test,y_pred)"
   ]
  },
  {
   "cell_type": "code",
   "execution_count": null,
   "id": "a321290a",
   "metadata": {},
   "outputs": [],
   "source": []
  },
  {
   "cell_type": "raw",
   "id": "3342bbcd",
   "metadata": {},
   "source": [
    "From the above analysis of classification and regression techniques we found that for regression multi linear regression has highest accuracy as the dependent variable is linearly dependent on the two independent variables and for classification Logistic regression has highest accuracy as it classifies the target variable accurately using 80% train data"
   ]
  },
  {
   "cell_type": "code",
   "execution_count": null,
   "id": "3ea6fa8b",
   "metadata": {},
   "outputs": [],
   "source": []
  },
  {
   "cell_type": "code",
   "execution_count": null,
   "id": "1241d074",
   "metadata": {},
   "outputs": [],
   "source": []
  },
  {
   "cell_type": "code",
   "execution_count": null,
   "id": "4fa10f19",
   "metadata": {},
   "outputs": [],
   "source": []
  },
  {
   "cell_type": "code",
   "execution_count": null,
   "id": "c8def8ec",
   "metadata": {},
   "outputs": [],
   "source": [
    "\n",
    "\n"
   ]
  },
  {
   "cell_type": "code",
   "execution_count": null,
   "id": "b9c4cdb1",
   "metadata": {},
   "outputs": [],
   "source": []
  },
  {
   "cell_type": "code",
   "execution_count": null,
   "id": "b43d3719",
   "metadata": {},
   "outputs": [],
   "source": []
  },
  {
   "cell_type": "code",
   "execution_count": null,
   "id": "d068ffe0",
   "metadata": {},
   "outputs": [],
   "source": []
  },
  {
   "cell_type": "code",
   "execution_count": null,
   "id": "dcb2dc58",
   "metadata": {},
   "outputs": [],
   "source": []
  },
  {
   "cell_type": "code",
   "execution_count": null,
   "id": "81ff8ad2",
   "metadata": {},
   "outputs": [],
   "source": []
  },
  {
   "cell_type": "code",
   "execution_count": null,
   "id": "16fd1110",
   "metadata": {},
   "outputs": [],
   "source": []
  },
  {
   "cell_type": "code",
   "execution_count": null,
   "id": "32114efc",
   "metadata": {},
   "outputs": [],
   "source": []
  },
  {
   "cell_type": "code",
   "execution_count": null,
   "id": "ae084f4c",
   "metadata": {},
   "outputs": [],
   "source": []
  },
  {
   "cell_type": "code",
   "execution_count": null,
   "id": "2d2eb735",
   "metadata": {},
   "outputs": [],
   "source": []
  },
  {
   "cell_type": "code",
   "execution_count": null,
   "id": "58f88064",
   "metadata": {},
   "outputs": [],
   "source": []
  },
  {
   "cell_type": "code",
   "execution_count": 30,
   "id": "76f8813d",
   "metadata": {},
   "outputs": [],
   "source": []
  },
  {
   "cell_type": "code",
   "execution_count": 49,
   "id": "849fbefc",
   "metadata": {},
   "outputs": [],
   "source": []
  },
  {
   "cell_type": "code",
   "execution_count": 50,
   "id": "6f5d92aa",
   "metadata": {},
   "outputs": [],
   "source": []
  },
  {
   "cell_type": "code",
   "execution_count": null,
   "id": "bb6ec88d",
   "metadata": {},
   "outputs": [],
   "source": []
  },
  {
   "cell_type": "code",
   "execution_count": 52,
   "id": "d912d095",
   "metadata": {},
   "outputs": [],
   "source": []
  },
  {
   "cell_type": "code",
   "execution_count": 53,
   "id": "c034c62a",
   "metadata": {},
   "outputs": [],
   "source": []
  },
  {
   "cell_type": "code",
   "execution_count": null,
   "id": "f1c64562",
   "metadata": {},
   "outputs": [],
   "source": []
  },
  {
   "cell_type": "code",
   "execution_count": 54,
   "id": "0c924d9a",
   "metadata": {},
   "outputs": [],
   "source": []
  },
  {
   "cell_type": "code",
   "execution_count": 55,
   "id": "0a3abe47",
   "metadata": {},
   "outputs": [],
   "source": []
  },
  {
   "cell_type": "code",
   "execution_count": null,
   "id": "1b5a9d0b",
   "metadata": {},
   "outputs": [],
   "source": []
  },
  {
   "cell_type": "code",
   "execution_count": null,
   "id": "72b595fa",
   "metadata": {},
   "outputs": [],
   "source": []
  },
  {
   "cell_type": "code",
   "execution_count": null,
   "id": "405e9993",
   "metadata": {},
   "outputs": [],
   "source": []
  },
  {
   "cell_type": "code",
   "execution_count": null,
   "id": "26060929",
   "metadata": {},
   "outputs": [],
   "source": []
  }
 ],
 "metadata": {
  "kernelspec": {
   "display_name": "Python 3 (ipykernel)",
   "language": "python",
   "name": "python3"
  },
  "language_info": {
   "codemirror_mode": {
    "name": "ipython",
    "version": 3
   },
   "file_extension": ".py",
   "mimetype": "text/x-python",
   "name": "python",
   "nbconvert_exporter": "python",
   "pygments_lexer": "ipython3",
   "version": "3.9.7"
  }
 },
 "nbformat": 4,
 "nbformat_minor": 5
}
